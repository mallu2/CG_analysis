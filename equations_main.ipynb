{
 "cells": [
  {
   "cell_type": "code",
   "execution_count": null,
   "metadata": {},
   "outputs": [],
   "source": [
    "#### Equation 1."
   ]
  },
  {
   "cell_type": "code",
   "execution_count": 51,
   "metadata": {},
   "outputs": [
    {
     "data": {
      "text/latex": [
       "$V_{native}=V_{native,\\ bonded} + V_{native,\\ excluded\\ volume} + V_{native,\\ non-bonded} + V_{native,\\ DH}$\n"
      ],
      "text/plain": [
       "<IPython.core.display.Latex object>"
      ]
     },
     "metadata": {},
     "output_type": "display_data"
    }
   ],
   "source": [
    "%%latex\n",
    "$V_{native}=V_{native,\\ bonded} + V_{native,\\ excluded\\ volume} + V_{native,\\ non-bonded} + V_{native,\\ DH}$"
   ]
  },
  {
   "cell_type": "code",
   "execution_count": 43,
   "metadata": {},
   "outputs": [
    {
     "data": {
      "text/latex": [
       "$V_{native,\\ bonded}= \\sum_{bonds}k_{bond}(b_{ij}-b_{ij}^0)^2 + \\sum_{angle}k_{angle}(b_{ijk}-b_{ijk}^0)^2 + \\sum_{DH}k_{DH}(b_{ijkl}-b_{ijkl}^0)^2$\n"
      ],
      "text/plain": [
       "<IPython.core.display.Latex object>"
      ]
     },
     "metadata": {},
     "output_type": "display_data"
    }
   ],
   "source": [
    "%%latex\n",
    "$V_{native,\\ bonded}= \\sum_{bonds}k_{bond}(b_{ij}-b_{ij}^0)^2 + \\sum_{angle}k_{angle}(b_{ijk}-b_{ijk}^0)^2 + \\sum_{DH}k_{DH}(b_{ijkl}-b_{ijkl}^0)^2$"
   ]
  },
  {
   "cell_type": "code",
   "execution_count": null,
   "metadata": {},
   "outputs": [],
   "source": [
    "#### Equation 2."
   ]
  },
  {
   "cell_type": "code",
   "execution_count": 44,
   "metadata": {},
   "outputs": [
    {
     "data": {
      "text/latex": [
       "$V_{native,\\ excluded\\ volume}= \\sum_{i<j-3}k_{excluded\\ volume} \\left( \\frac{\\sigma_{ij}}{r_{ij}} \\right)^{12}$\n"
      ],
      "text/plain": [
       "<IPython.core.display.Latex object>"
      ]
     },
     "metadata": {},
     "output_type": "display_data"
    }
   ],
   "source": [
    "%%latex\n",
    "$V_{native,\\ excluded\\ volume}= \\sum_{i<j-3}k_{excluded\\ volume} \\left( \\frac{\\sigma_{ij}}{r_{ij}} \\right)^{12}$"
   ]
  },
  {
   "cell_type": "code",
   "execution_count": null,
   "metadata": {},
   "outputs": [],
   "source": [
    "#### Equation 3."
   ]
  },
  {
   "cell_type": "code",
   "execution_count": 46,
   "metadata": {},
   "outputs": [
    {
     "data": {
      "text/latex": [
       "$V_{native,\\ non-bonded}= \\sum_{i \\not= j}k_{native}\\left [5\\left( \\frac{A_{ij}}{r_{ij}} \\right)^{12}-6 \\left(\\frac{A_{ij}}{r_{ij}} \\right)^{10} \\right]$\n"
      ],
      "text/plain": [
       "<IPython.core.display.Latex object>"
      ]
     },
     "metadata": {},
     "output_type": "display_data"
    }
   ],
   "source": [
    "%%latex\n",
    "$V_{native,\\ non-bonded}= \\sum_{i \\not= j}k_{native}\\left [5\\left( \\frac{A_{ij}}{r_{ij}} \\right)^{12}-6 \\left(\\frac{A_{ij}}{r_{ij}} \\right)^{10} \\right]$"
   ]
  },
  {
   "cell_type": "code",
   "execution_count": null,
   "metadata": {},
   "outputs": [],
   "source": [
    "#### Equation 4."
   ]
  },
  {
   "cell_type": "code",
   "execution_count": 47,
   "metadata": {},
   "outputs": [
    {
     "data": {
      "text/latex": [
       "$V_{native,\\ DH}=K_{Coulomb}B(\\kappa )\\sum_{i \\not= j} \\frac{q_iq_je^{-\\kappa r_{ij}}}{\\epsilon r_{ij}},\\\\$\n"
      ],
      "text/plain": [
       "<IPython.core.display.Latex object>"
      ]
     },
     "metadata": {},
     "output_type": "display_data"
    }
   ],
   "source": [
    "%%latex\n",
    "$V_{native,\\ DH}=K_{Coulomb}B(\\kappa )\\sum_{i \\not= j} \\frac{q_iq_je^{-\\kappa r_{ij}}}{\\epsilon r_{ij}},\\\\$"
   ]
  },
  {
   "cell_type": "code",
   "execution_count": 48,
   "metadata": {},
   "outputs": [
    {
     "data": {
      "text/latex": [
       "$K_{Coulomb}=332\\ kcal \\cdot mol^{-1},\\ \\epsilon=70\\ F \\cdot m^{-1}$\n"
      ],
      "text/plain": [
       "<IPython.core.display.Latex object>"
      ]
     },
     "metadata": {},
     "output_type": "display_data"
    }
   ],
   "source": [
    "%%latex\n",
    "$K_{Coulomb}=332\\ kcal \\cdot mol^{-1},\\ \\epsilon=70\\ F \\cdot m^{-1}$"
   ]
  },
  {
   "cell_type": "markdown",
   "metadata": {},
   "source": [
    "For dilute solutions and monovalent ions:"
   ]
  },
  {
   "cell_type": "code",
   "execution_count": 49,
   "metadata": {},
   "outputs": [
    {
     "data": {
      "text/latex": [
       "$B(\\kappa ) \\approx 1,\\ -\\kappa \\approx 0.32 \\sqrt{C_s},\\ C_s=0.5 \\sum_{i=1}^{n_i} c_i$\n"
      ],
      "text/plain": [
       "<IPython.core.display.Latex object>"
      ]
     },
     "metadata": {},
     "output_type": "display_data"
    }
   ],
   "source": [
    "%%latex\n",
    "$B(\\kappa ) \\approx 1,\\ -\\kappa \\approx 0.32 \\sqrt{C_s},\\ C_s=0.5 \\sum_{i=1}^{n_i} c_i$"
   ]
  },
  {
   "cell_type": "code",
   "execution_count": null,
   "metadata": {},
   "outputs": [],
   "source": []
  }
 ],
 "metadata": {
  "kernelspec": {
   "display_name": "Python 3",
   "language": "python",
   "name": "python3"
  },
  "language_info": {
   "codemirror_mode": {
    "name": "ipython",
    "version": 3
   },
   "file_extension": ".py",
   "mimetype": "text/x-python",
   "name": "python",
   "nbconvert_exporter": "python",
   "pygments_lexer": "ipython3",
   "version": "3.6.10"
  }
 },
 "nbformat": 4,
 "nbformat_minor": 4
}
