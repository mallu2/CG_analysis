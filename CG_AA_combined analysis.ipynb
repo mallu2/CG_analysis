{
 "cells": [
  {
   "cell_type": "code",
   "execution_count": 2,
   "metadata": {},
   "outputs": [],
   "source": [
    "import numpy as np\n",
    "import pandas as pd\n",
    "import glob\n",
    "import matplotlib.pyplot as plt\n",
    "import seaborn as sns\n",
    "from IPython.display import set_matplotlib_formats\n",
    "set_matplotlib_formats('retina')\n",
    "from matplotlib import rc\n",
    "import seaborn as sns\n",
    "import glob \n",
    "font = {'family' : 'Helvetica','size'   : 9,'weight':  'normal'}\n",
    "rc('font', **font)  # pass in the font dict as kwargs"
   ]
  },
  {
   "cell_type": "code",
   "execution_count": 3,
   "metadata": {},
   "outputs": [],
   "source": [
    "\"Get the folders for the aa data\"\n",
    "data_AA='/Users/mallu899/Documents/projects/lacI_CG_master/data/Circle-AA/'\n",
    "\n",
    "#RBent_folder_aa=data_AA+'R_Bent/03-prod/'\n",
    "RStraight_folder_aa=data_AA+'R_Straight/03-prod/'\n",
    "SBent_folder_aa=data_AA+'S-Bent/2A10/'\n",
    "SStraight_folder_aa=data_AA+'S-Straight/2A10/'\n",
    "\n",
    "SBent_folder_2A10_aa=data_AA+'S-Bent/2A10/'\n",
    "SBent_folder_3A3_aa=data_AA+'S-Bent/3A3/'\n",
    "\n",
    "SStraight_folder_2A10_aa=data_AA+'S-Straight/2A10/'\n",
    "SStraight_folder_3A3_aa=data_AA+'S-Straight/3A3/'\n",
    "\n",
    "\n",
    "specComp_folder_aa=data_AA+'Spec_Comp/' #crystal structure"
   ]
  },
  {
   "cell_type": "code",
   "execution_count": 12,
   "metadata": {},
   "outputs": [],
   "source": [
    "\"Get the CG specific complexes\"\n",
    "FolderRspecific02A_cg = '/Users/mallu899/Mirror/projects/lacI_CG_master/data/TargetSite/R_ADNA/R_ADNA_02/'\n",
    "FolderRspecific03A_cg = '/Users/mallu899/Mirror/projects/lacI_CG_master/data/TargetSite/R_ADNA/R_ADNA_03/'\n",
    "FolderRspecific02B_cg = '/Users/mallu899/Mirror/projects/lacI_CG_master/data/TargetSite/R_BDNA/R_BDNA_02/'\n",
    "FolderRspecific03B_cg = '/Users/mallu899/Mirror/projects/lacI_CG_master/data/TargetSite/R_BDNA/R_BDNA_03/'\n",
    "\n",
    "FolderSspecific02A_cg = '/Users/mallu899/Mirror/projects/lacI_CG_master/data/TargetSite/S_ADNA/S_ADNA_02/'\n",
    "FolderSspecific03A_cg = '/Users/mallu899/Mirror/projects/lacI_CG_master/data/TargetSite/S_ADNA/S_ADNA_03/'\n",
    "FolderSspecific02B_cg = '/Users/mallu899/Mirror/projects/lacI_CG_master/data/TargetSite/S_BDNA/S_BDNA_02/'\n",
    "FolderSspecific03B_cg = '/Users/mallu899/Mirror/projects/lacI_CG_master/data/TargetSite/S_BDNA/S_BDNA_03/'"
   ]
  },
  {
   "cell_type": "code",
   "execution_count": null,
   "metadata": {},
   "outputs": [],
   "source": []
  },
  {
   "cell_type": "code",
   "execution_count": 13,
   "metadata": {},
   "outputs": [],
   "source": [
    "\"Get the CG non-specific complexes\"\n",
    "FolderS02B_cg = '/Users/mallu899/Mirror/projects/lacI_CG_master/data/Ele_LowRep/S02/'\n",
    "FolderS03B_cg = '/Users/mallu899/Mirror/projects/lacI_CG_master/data/Ele_LowRep/S03/'\n",
    "FolderR02B_cg = '/Users/mallu899/Mirror/projects/lacI_CG_master/data/Ele_LowRep/R02/'\n",
    "FolderR03B_cg = '/Users/mallu899/Mirror/projects/lacI_CG_master/data/Ele_LowRep/R03/'"
   ]
  },
  {
   "cell_type": "code",
   "execution_count": 14,
   "metadata": {},
   "outputs": [],
   "source": [
    "def read_dis(file):\n",
    "    \"Read the file and return the z coordiante (position along DNA-axis)\"\n",
    "    Z = []\n",
    "    df = pd.read_csv(file, sep='\\s+',header=None,engine='python')\n",
    "    df.rename(columns={0:'Z'},inplace=True)\n",
    "    return(df['Z'])\n",
    "def read_energy(file,name):\n",
    "    \"\"\"reads the enery file and returns one column.\n",
    "    name is either B-bonded, A-angle, \n",
    "    DH-electrostatics,LJ-non-bonded, R-repulsion, \n",
    "    El-protein-DNA electrostatics,\n",
    "    and electristatics for protein helices:H1A,H2A...hiB.\"\"\"\n",
    "\n",
    "    df = pd.read_csv(file, sep='\\s+',header=None,engine='python')\n",
    "    df['total']=df[0]+df[1]+df[2]+df[3]+df[4]\n",
    "        #df.rename(columns={0:'B',1:'A',2:'DH',3:'LJ',4:'R',6:'El'},inplace=True)\n",
    "    df.rename(columns={0:'B',1:'A',2:'DH_all',3:'LJ',4:'R',6:'DH',12:'H1A',\\\n",
    "    14:'H2A',16:'H3A',18:'hiA',13:'H1B',15:'H2B',17:'H3B',19:'hiB'},inplace=True)\n",
    "    return(df[name])"
   ]
  },
  {
   "cell_type": "code",
   "execution_count": 7,
   "metadata": {},
   "outputs": [],
   "source": [
    "#glob.glob(FolderRspecific02A+'*Displacement.txt')"
   ]
  },
  {
   "cell_type": "code",
   "execution_count": 15,
   "metadata": {},
   "outputs": [],
   "source": [
    "def filter_bound(positions,tobefiltered):\n",
    "    \"\"\"Get the index of the protein positioned on the target site (center is on 0 in Z direction)\"\"\"\n",
    "    index_bound = positions[(-10 <= positions['Z']) & (positions['Z'] <= 10)].index\n",
    "    Count_points = len(index_bound)\n",
    "    \"Filterout the electrostatics for those frames\"\n",
    "    tobefiltered_bound = tobefiltered.iloc[index_bound]\n",
    "    return(tobefiltered_bound)"
   ]
  },
  {
   "cell_type": "code",
   "execution_count": 16,
   "metadata": {},
   "outputs": [],
   "source": [
    "class plot_CG:\n",
    "    def energy_on_target(Folder,energy):\n",
    "        \"Read in the data for displacemnet and energies\"\n",
    "        filesDis = glob.glob(Folder+'*Displacement.txt')\n",
    "        filesEl = glob.glob(Folder+'el/EbyType*.dat')\n",
    "        \"Get the IDs of the files to compare with the right electrostatics file\"\n",
    "        IDsDis = [filesDis[x][-24:-20] for x in list(range(5))]\n",
    "        \"Check for the right ID\"\n",
    "        p1 = []\n",
    "        p2 = []\n",
    "        for i in IDsDis:\n",
    "            for file_D in filesDis:\n",
    "                if i in file_D:\n",
    "                    p1.append(file_D)\n",
    "                    \n",
    "            for file_e in filesEl:\n",
    "                if i in file_e:\n",
    "                    p2.append(file_e)\n",
    "        \"Get data for the frames on the target sequence\"\n",
    "        data = []\n",
    "        for d,l in zip(p1,p2):\n",
    "            \"Read the data from the files and do the analysis.\"\n",
    "            Disdata = pd.DataFrame(read_dis(d))\n",
    "            Eldata = read_energy(l,energy)\n",
    "            \"Check if the protein is at the target site and filter out electrostatic energy for this frames.\"\n",
    "            data.append(filter_bound(Disdata, Eldata))\n",
    "        return(data)\n",
    "    def plot_occ(folder,name,salt,model):    \n",
    "        \"read the residues and to which extend they are formed\"\n",
    "        files_Con = glob.glob(folder+'*Occ.txt')\n",
    "        filesDis = glob.glob(folder+'*Displacement.txt')\n",
    "        print(files_Con)\n",
    "        \"Get the IDs of the frames to compare with the right electrostatics file\"\n",
    "        IDsDis = [filesDis[x][-24:-20] for x in list(range(5))]\n",
    "        \"Check for the right ID\"\n",
    "        p1 = []\n",
    "        p2 = []\n",
    "        for i in IDsDis:\n",
    "            for file_D in filesDis:\n",
    "                if i in file_D:\n",
    "                    p1.append(file_D) #odered files Displacement\n",
    "            for file_e in files_Con:\n",
    "                if i in file_e:\n",
    "                    p2.append(file_e) #ordered files Contacts\n",
    "        print(p2)\n",
    "\n",
    "        dfs=[]\n",
    "        sums=[]\n",
    "\n",
    "        for i in range(len(p1)):\n",
    "            \"Read the data from the files and do the analysis.\"\n",
    "            d=p1[i]\n",
    "            l=p2[i]\n",
    "            Disdata = pd.read_csv(d, sep='\\s+',header=None,engine='python')\n",
    "            #print(Disdata)\n",
    "            Disdata.rename(columns={0:'Z'},inplace=True)\n",
    "            dfres = pd.read_csv(l, sep='\\s+',header=0,engine='python')\n",
    "            Cont_bound = filter_bound(Disdata,dfres)\n",
    "            dfs.append(Cont_bound)\n",
    "            sum_df=pd.DataFrame(Cont_bound.sum())/len(Cont_bound.index)\n",
    "            sum_df.rename(index=dictionay_resCG,inplace=True)\n",
    "            #print(sum_df)\n",
    "            replica=[i+1 for x in sum_df[0]]\n",
    "            complex_=[name for x in sum_df[0]]\n",
    "            Salt=[salt for x in sum_df[0]]\n",
    "            Model=[model for x in sum_df[0]]\n",
    "            sum_df['Replica']=replica\n",
    "            sum_df['Complex']=complex_\n",
    "            sum_df['Salt']=Salt\n",
    "            sum_df['Model']=Model\n",
    "            sum_df['Residue']=sum_df.index\n",
    "            sum_df.rename(columns={0:'Occupancy'},inplace=True)\n",
    "            sums.append(sum_df)\n",
    "\n",
    "        df_sums=pd.concat([x for x in sums])\n",
    "        return(dfs,df_sums)"
   ]
  },
  {
   "cell_type": "code",
   "execution_count": 17,
   "metadata": {},
   "outputs": [
    {
     "data": {
      "text/plain": [
       "'/Users/mallu899/Mirror/projects/lacI_CG_master/data/TargetSite/S_BDNA/S_BDNA_03/'"
      ]
     },
     "execution_count": 17,
     "metadata": {},
     "output_type": "execute_result"
    }
   ],
   "source": [
    "FolderSspecific03B_cg"
   ]
  },
  {
   "cell_type": "code",
   "execution_count": 18,
   "metadata": {},
   "outputs": [
    {
     "data": {
      "text/plain": [
       "[0     -1845.97\n",
       " 1     -1844.53\n",
       " 2     -1828.37\n",
       " 3     -1837.26\n",
       " 4     -1820.93\n",
       "         ...   \n",
       " 114   -1687.88\n",
       " 115   -1681.77\n",
       " 116   -1677.12\n",
       " 117   -1672.38\n",
       " 118   -1671.25\n",
       " Name: total, Length: 100, dtype: float64,\n",
       " 0      -1853.83\n",
       " 1      -1845.71\n",
       " 2      -1837.44\n",
       " 3      -1842.07\n",
       " 4      -1827.11\n",
       "          ...   \n",
       " 4761   -1683.91\n",
       " 4820   -1683.50\n",
       " 4821   -1700.05\n",
       " 4822   -1709.59\n",
       " 4823   -1692.22\n",
       " Name: total, Length: 504, dtype: float64,\n",
       " 0      -1849.72\n",
       " 1      -1846.22\n",
       " 2      -1829.63\n",
       " 3      -1828.89\n",
       " 4      -1826.68\n",
       "          ...   \n",
       " 1499   -1679.03\n",
       " 1500   -1669.51\n",
       " 1501   -1673.69\n",
       " 1502   -1680.71\n",
       " 1503   -1683.83\n",
       " Name: total, Length: 1171, dtype: float64,\n",
       " 0      -1854.96\n",
       " 1      -1833.94\n",
       " 2      -1835.91\n",
       " 3      -1825.64\n",
       " 4      -1815.49\n",
       "          ...   \n",
       " 4995   -1658.18\n",
       " 4996   -1659.01\n",
       " 4997   -1672.25\n",
       " 4998   -1663.88\n",
       " 4999   -1666.52\n",
       " Name: total, Length: 1028, dtype: float64,\n",
       " 0      -1844.85\n",
       " 1      -1840.48\n",
       " 2      -1822.59\n",
       " 3      -1825.39\n",
       " 4      -1816.45\n",
       "          ...   \n",
       " 4995   -1682.44\n",
       " 4996   -1687.12\n",
       " 4997   -1685.62\n",
       " 4998   -1700.82\n",
       " 4999   -1697.86\n",
       " Name: total, Length: 3786, dtype: float64]"
      ]
     },
     "execution_count": 18,
     "metadata": {},
     "output_type": "execute_result"
    }
   ],
   "source": [
    "plot_CG.energy_on_target(FolderSspecific03B_cg,'total')"
   ]
  },
  {
   "cell_type": "code",
   "execution_count": 19,
   "metadata": {},
   "outputs": [],
   "source": [
    "def energy_(Folder,model,salt,energy):\n",
    "    \"Read in the data for displacemnet and energies\"\n",
    "    filesEl = glob.glob(Folder+'EbyType*.dat')\n",
    "    \"Get the IDs of the files to compare with the right electrostatics file\"\n",
    "    \"Check for the right ID\"\n",
    "    p2=[]\n",
    "    replica=[]\n",
    "    for i in range(len(filesEl)):\n",
    "        p2.append(read_energy(filesEl[i],energy)[10000:49999])\n",
    "        replica.append([i+1 for x in p2[i]])\n",
    "    pp=pd.concat([x for x in p2])\n",
    "    replica_=[x for y in replica for x in y]\n",
    "    print((len(pp),len(replica_)))\n",
    "    df=pd.DataFrame({'energy':pp,'ind':replica_,'Complex':[model for x in pp],'Salt':[salt for x in pp],'DNA':['nonspecific' for x in pp]})\n",
    "    return(df)"
   ]
  },
  {
   "cell_type": "code",
   "execution_count": 20,
   "metadata": {},
   "outputs": [
    {
     "name": "stdout",
     "output_type": "stream",
     "text": [
      "(199995, 199995)\n"
     ]
    }
   ],
   "source": [
    "nonspec_S_cg=energy_(FolderS03B_cg,'S_',0.03,'total')"
   ]
  },
  {
   "cell_type": "code",
   "execution_count": 21,
   "metadata": {},
   "outputs": [],
   "source": [
    "S_total=nonspec_S_cg.groupby('Salt').mean()"
   ]
  },
  {
   "cell_type": "code",
   "execution_count": 22,
   "metadata": {},
   "outputs": [
    {
     "name": "stdout",
     "output_type": "stream",
     "text": [
      "(199995, 199995)\n"
     ]
    }
   ],
   "source": [
    "nonspec_R_cg=energy_(FolderR03B_cg,'R_',0.03,'total')"
   ]
  },
  {
   "cell_type": "code",
   "execution_count": 23,
   "metadata": {},
   "outputs": [],
   "source": [
    "R_total=nonspec_R_cg.groupby('Salt').mean()"
   ]
  },
  {
   "cell_type": "code",
   "execution_count": 24,
   "metadata": {},
   "outputs": [],
   "source": [
    "class plot_AA:\n",
    "    def get_el(folder):\n",
    "        \"Get all subfolders with different replica\"\n",
    "        files=glob.glob(folder+'Electro/*/DH.dat')\n",
    "        return(files)\n",
    "    def get_DH_vs_t(folder,start,end):\n",
    "        \"Get all subfolders with different replica\"\n",
    "        dfs=[]\n",
    "        el = plot_AA.get_el(folder)\n",
    "        for i in el:\n",
    "            df=pd.read_csv(i,sep='\\s+',names=['time','DH'],skiprows=1)[start:end]\n",
    "            df['DH']=df['DH']/4.184\n",
    "            dfs.append(df)\n",
    "        return(dfs)\n",
    "    def plot_el_t(folder,start):\n",
    "        rep=plot_el.get_DH_vs_t(folder,start)\n",
    "        fig, ax = plt.subplots(figsize = (2.5,2))\n",
    "        for i in range(len(rep)):\n",
    "            plt.plot(rep[i]['time'],rep[i]['DH']/4.184,label=i+1)\n",
    "        ax.tick_params(\n",
    "\n",
    "            axis='both',          # changes apply to the x-axis\n",
    "            which='both',      # both major and minor ticks are affected\n",
    "            bottom=True,      # ticks along the bottom edge are off\n",
    "            top=False,         # ticks along the top edge are off\n",
    "            labelbottom=True,\n",
    "            right=False, left=True, labelleft=True,labelsize='small',\n",
    "            width = 0.5,\n",
    "            length = 3, color='k',direction ='in')\n",
    "        #ax.set_ylim(-95,-5)\n",
    "\n",
    "        plt.legend()\n",
    "        plt.ylabel('DH Energy')\n",
    "        plt.xlabel('Frames')"
   ]
  },
  {
   "cell_type": "code",
   "execution_count": 37,
   "metadata": {},
   "outputs": [],
   "source": [
    "def plot_el_sns(folder,comp,salt,energy='DH',start=None,end=None):\n",
    "    if start!=None:\n",
    "        rep=plot_AA.get_DH_vs_t(folder,start,end)\n",
    "        model='AA'\n",
    "    else:\n",
    "        rep=plot_CG.energy_on_target(folder,energy)\n",
    "        model='CG'\n",
    "    first=pd.DataFrame(rep[0])\n",
    "    first['ind']=[1 for j in (range(len(rep[0])))]\n",
    "    first['Complex']=[comp for j in (range(len(rep[0])))]\n",
    "    first['Salt']=[salt for j in (range(len(rep[0])))]\n",
    "    first['Model']=[model for j in (range(len(rep[0])))]\n",
    "    for i in range(len(rep)-1):\n",
    "        next_=pd.DataFrame(rep[i+1])\n",
    "        next_['ind']=[i+2 for j in (range(len(next_)))]\n",
    "        next_['Complex']=[comp for j in (range(len(next_)))]\n",
    "        next_['Salt']=[salt for j in (range(len(next_)))]\n",
    "        next_['Model']=[model for j in (range(len(next_)))]\n",
    "        app=first.append(next_)\n",
    "        first=app\n",
    "    return(app)"
   ]
  },
  {
   "cell_type": "code",
   "execution_count": 26,
   "metadata": {},
   "outputs": [],
   "source": [
    "def plot_el_specCG(folder,comp,salt,start=None,end=None):\n",
    "\n",
    "    rep=plot_CG.energy_on_target(folder)\n",
    "    model='specific'\n",
    "    first=pd.DataFrame(rep[0])\n",
    "    first['ind']=[1 for j in (range(len(rep[0])))]\n",
    "    first['Complex']=[comp for j in (range(len(rep[0])))]\n",
    "    first['Salt']=[salt for j in (range(len(rep[0])))]\n",
    "    first['DNA']=[model for j in (range(len(rep[0])))]\n",
    "    for i in range(len(rep)-1):\n",
    "        next_=pd.DataFrame(rep[i+1])\n",
    "        next_['ind']=[i+2 for j in (range(len(next_)))]\n",
    "        next_['Complex']=[comp for j in (range(len(next_)))]\n",
    "        next_['Salt']=[salt for j in (range(len(next_)))]\n",
    "        next_['DNA']=[model for j in (range(len(next_)))]\n",
    "        app=first.append(next_)\n",
    "        first=app\n",
    "    return(app)"
   ]
  },
  {
   "cell_type": "code",
   "execution_count": 17,
   "metadata": {},
   "outputs": [],
   "source": [
    "#plot_el_sns(FolderRspecific02A_cg,'R:','0.02')"
   ]
  },
  {
   "cell_type": "code",
   "execution_count": 18,
   "metadata": {},
   "outputs": [],
   "source": [
    "#plot_el_sns(RBent_folder_aa,'R:','0.15',start=2000,end=5000)"
   ]
  },
  {
   "cell_type": "code",
   "execution_count": 3,
   "metadata": {},
   "outputs": [],
   "source": [
    "#plot_el_sns(RStraight_folder_aa,'S:','0.15',start=0,end=4000)"
   ]
  },
  {
   "cell_type": "code",
   "execution_count": 27,
   "metadata": {},
   "outputs": [],
   "source": [
    "def normalize_comp(folder,name,salt,avg_non_spec):\n",
    "    df=plot_el_sns(folder,name,salt,'total')\n",
    "    df['total_norm']=df['total']-int(avg_non_spec['energy'])\n",
    "    return(df)"
   ]
  },
  {
   "cell_type": "code",
   "execution_count": 38,
   "metadata": {},
   "outputs": [],
   "source": [
    "#Electrostatics\n",
    "#all_comp=[plot_el_sns(FolderSspecific03B_cg,'S_','0.03'),plot_el_sns(FolderRspecific03B_cg,'R_','0.03'),plot_el_sns(FolderSspecific03A_cg,'S:','0.03'),plot_el_sns(FolderRspecific03A_cg,'R:','0.03'),plot_el_sns(SStraight_folder_3A3_aa,'S_','0.15',start=0,end=4000),plot_el_sns(SStraight_folder_2A10_aa,'S_','0.15',start=0,end=4000),plot_el_sns(RStraight_folder_aa,'R_','0.15',start=0,end=4000),plot_el_sns(SBent_folder_2A10_aa,'S:','0.15',start=0,end=4000),plot_el_sns(SBent_folder_3A3_aa,'S:','0.15',start=0,end=4000),plot_el_sns(specComp_folder_aa,'R:','0.15',start=0,end=4000)]\n",
    "all_comp_CG_DH=[plot_el_sns(FolderSspecific03B_cg,'S_','0.03'),plot_el_sns(FolderRspecific03B_cg,'R_','0.03'),plot_el_sns(FolderSspecific03A_cg,'S:','0.03'),plot_el_sns(FolderRspecific03A_cg,'R:','0.03')]\n",
    "#all_comp_AA=[plot_el_sns(SStraight_folder_3A3_aa,'S_','0.15',start=0,end=4000),plot_el_sns(SStraight_folder_2A10_aa,'S_','0.15',start=0,end=4000),plot_el_sns(RStraight_folder_aa,'R_','0.15',start=0,end=4000),plot_el_sns(specComp_folder_aa,'R:','0.15',start=0,end=4000)]\n",
    "\n",
    "#all_comp=[plot_el_sns(FolderSspecific03B_cg,'S_','0.03'),plot_el_sns(FolderRspecific03B_cg,'R_','0.03'),plot_el_sns(FolderSspecific03A_cg,'S:','0.03'),plot_el_sns(FolderRspecific03A_cg,'R:','0.03')]\n",
    "#all_comp=[plot_el_sns(FolderSspecific03B_cg,'S_','0.03')]\n",
    "\n",
    "#allc_join=all_comp[0].append(all_comp[1]).append(all_comp[2]).append(all_comp[3]).append(all_comp[4])#.append(all_comp[5])#.append(all_comp[6]).append(all_comp[7]).append(all_comp[8])#.append(all_comp[9])#.append(all_comp[9])\n",
    "#all_comp02=[plot_el_sns(FolderSspecific02B,'S_','0.02'),plot_el_sns(FolderRspecific02B,'R_','0.02'),plot_el_sns(FolderSspecific02A,'S:','0.02'),plot_el_sns(FolderRspecific02A,'R:','0.02')]\n",
    "#allc_join02=all_comp02[0].append(all_comp02[1]).append(all_comp02[2]).append(all_comp02[3])\n",
    "#allc_join_s=all_comp[0].append(all_comp[1]).append(all_comp[2]).append(all_comp[3]).append(all_comp[4]).append(all_comp[5]).append(all_comp[6]).append(all_comp[7])\n"
   ]
  },
  {
   "cell_type": "code",
   "execution_count": 41,
   "metadata": {},
   "outputs": [],
   "source": [
    "#data_AA=pd.concat([x for x in all_comp_AA])\n",
    "data_CG_DH=pd.concat([x for x in all_comp_CG_DH])\n",
    "data_CG_DH.replace({'S_':'$search$_','R_':'$recog.$_',\\\n",
    "                          'S:':'$search$:','R:':'$recog.$:',},inplace=True)\n"
   ]
  },
  {
   "cell_type": "code",
   "execution_count": 82,
   "metadata": {},
   "outputs": [
    {
     "data": {
      "image/png": "[encoded data removed]",
      "text/plain": [
       "<Figure size 151.2x151.2 with 1 Axes>"
      ]
     },
     "metadata": {
      "image/png": {
       "height": 143,
       "width": 144
      },
      "needs_background": "light"
     },
     "output_type": "display_data"
    }
   ],
   "source": [
    "all_comp_CG_total=[normalize_comp(FolderSspecific03B_cg,'S_','0.03',S_total),normalize_comp(FolderSspecific03A_cg,'S:','0.03',S_total),normalize_comp(FolderRspecific03B_cg,'R_','0.03',R_total),normalize_comp(FolderRspecific03A_cg,'R:','0.03',R_total)]\n",
    "data_CG_total=pd.concat([x for x in all_comp_CG_total])\n",
    "data_CG_total.replace({'S_':'$search$_','R_':'$recog.$_',\\\n",
    "                          'S:':'$search$:','R:':'$recog.$:',},inplace=True)\n",
    "fig, ax = plt.subplots(figsize = (2.1,2.1))\n",
    "#sns.boxplot(y='DH',data=allc_join,x='Complex',width=0.8,linewidth=0.9,hue='Model',palette=\"Set1\",medianprops={'color':'cyan'})\n",
    "#sns.plot(y='DH',data=allc_join,x='Complex',palette=\"Accent_r\",hue='Model',dodge=0.1,linewidth=0.2,alpha=0.6,size=1.8)\n",
    "#sns.stripplot(y='DH',data=allc_join,x='Complex',hue='Model',palette=\"Set1\",dodge=0.1,linewidth=0.7,jitter=0.0005,alpha=0.5)\n",
    "#sns.violinplot(y='total',data=data_CG_total,x='Complex',hue='Model',palette=\"Set1\",scale='area')\n",
    "sns.lineplot(y='total',data=data_CG_total,x='Complex',hue='Model',palette=\"Set1\", style=\"Model\",\n",
    "    markers=True,err_style=\"band\",ci=\"sd\")\n",
    "\n",
    "#sns.barplot(y='DH',data=allc_join,x='Complex',linewidth=0.9,hue='Model',palette=\"Set1\",orient=\"v\", capsize=.2)\n",
    "\n",
    "ax.tick_params(\n",
    "\n",
    "        axis='both',          # changes apply to the x-axis\n",
    "        which='both',      # both major and minor ticks are affected\n",
    "        bottom=True,      # ticks along the bottom edge are off\n",
    "        top=False,         # ticks along the top edge are off\n",
    "        labelbottom=True,\n",
    "        right=False, left=True, labelleft=True,\n",
    "        width = 0.5,\n",
    "        length = 3, color='k',direction ='in')\n",
    "plt.ylabel('energy (kcal mol $^{-1}$)')\n",
    "plt.xticks(rotation=35)\n",
    "plt.legend([],[], frameon=False)\n",
    "sns.despine()\n",
    "plt.tight_layout()\n",
    "#plt.ylim(-38,1)\n",
    "plt.savefig('/Users/mallu899/Documents/projects/lacI_CG_master/LacI_CG_Draft/Figures/VersionX/CG_total.png',dpi=300,bbox_inches='tight', transparent=True)"
   ]
  },
  {
   "cell_type": "code",
   "execution_count": 27,
   "metadata": {},
   "outputs": [
    {
     "data": {
      "image/png": "[encoded data removed]",
      "text/plain": [
       "<Figure size 216x144 with 1 Axes>"
      ]
     },
     "metadata": {
      "image/png": {
       "height": 137,
       "width": 177
      },
      "needs_background": "light"
     },
     "output_type": "display_data"
    }
   ],
   "source": [
    "S_Bent_complexes_A3A10=[plot_el_sns(SBent_folder_2A10_aa,'S_A10','0.15',start=0,end=4000),plot_el_sns(SBent_folder_3A3_aa,'S_A3','0.15',start=0,end=4000)]\n",
    "S_Bent_complexes_A3A10_join=S_Bent_complexes_A3A10[0].append(S_Bent_complexes_A3A10[1])\n",
    "fig, ax = plt.subplots(figsize = (3,2))\n",
    "g=sns.stripplot(x='ind',y='DH',hue='Complex',data=S_Bent_complexes_A3A10_join,linewidth=0.5,palette='Set1', dodge=True)\n",
    "ax.tick_params(\n",
    "\n",
    "        axis='both',          # changes apply to the x-axis\n",
    "        which='both',      # both major and minor ticks are affected\n",
    "        bottom=True,      # ticks along the bottom edge are off\n",
    "        top=False,         # ticks along the top edge are off\n",
    "        labelbottom=True,\n",
    "        right=False, left=True, labelleft=True,\n",
    "        width = 0.5,\n",
    "        length = 3, color='k',direction ='in')\n",
    "#plt.ylim([-0.1,1.1])\n",
    "plt.xticks(rotation=15)\n",
    "sns.despine()\n",
    "#plt.legend([],[], frameon=False)\n",
    "plt.legend(loc='upper right',title_fontsize=9,title='Model',edgecolor='white',\n",
    "             markerscale=0.6,fontsize=9,ncol=1,labelspacing=0.2,handlelength=0.3,bbox_to_anchor=(1.5, 0.99))\n",
    "plt.tight_layout()"
   ]
  },
  {
   "cell_type": "code",
   "execution_count": 28,
   "metadata": {},
   "outputs": [
    {
     "data": {
      "image/png": "[encoded data removed]",
      "text/plain": [
       "<Figure size 216x144 with 1 Axes>"
      ]
     },
     "metadata": {
      "image/png": {
       "height": 137,
       "width": 169
      },
      "needs_background": "light"
     },
     "output_type": "display_data"
    }
   ],
   "source": [
    "S_Straight_complexes_A3A10=[plot_el_sns(SStraight_folder_2A10_aa,'S_A10','0.15',start=0,end=4000),plot_el_sns(SStraight_folder_3A3_aa,'S_A3','0.15',start=0,end=4000)]\n",
    "S_Straight_complexes_A3A10_join=S_Straight_complexes_A3A10[0].append(S_Straight_complexes_A3A10[1])\n",
    "#look at the three different S_Straight\n",
    "fig, ax = plt.subplots(figsize = (3,2))\n",
    "g=sns.stripplot(x='ind',y='DH',hue='Complex',data=S_Straight_complexes_A3A10_join,linewidth=0.5,palette='Set1', dodge=True)\n",
    "ax.tick_params(\n",
    "\n",
    "        axis='both',          # changes apply to the x-axis\n",
    "        which='both',      # both major and minor ticks are affected\n",
    "        bottom=True,      # ticks along the bottom edge are off\n",
    "        top=False,         # ticks along the top edge are off\n",
    "        labelbottom=True,\n",
    "        right=False, left=True, labelleft=True,\n",
    "        width = 0.5,\n",
    "        length = 3, color='k',direction ='in')\n",
    "#plt.ylim([-0.1,1.1])\n",
    "plt.xticks(rotation=15)\n",
    "sns.despine()\n",
    "#plt.legend([],[], frameon=False)\n",
    "plt.legend(loc='upper right',title_fontsize=9,title='Model',edgecolor='white',\n",
    "             markerscale=0.6,fontsize=9,ncol=1,labelspacing=0.2,handlelength=0.3,bbox_to_anchor=(1.5, 0.99))\n",
    "plt.tight_layout()"
   ]
  },
  {
   "cell_type": "code",
   "execution_count": 51,
   "metadata": {},
   "outputs": [],
   "source": [
    "data_nonspe_spec=pd.concat([nonspec_S_cg.sample(n=5116, random_state=1),nonspec_R_cg.sample(n=5116, random_state=1),plot_el_specCG(FolderSspecific03B_cg,'S_','0.03'),plot_el_specCG(FolderRspecific03B_cg,'R_','0.03')])"
   ]
  },
  {
   "cell_type": "markdown",
   "metadata": {},
   "source": [
    "nonspec_R/S_cg 199995 rows"
   ]
  },
  {
   "cell_type": "code",
   "execution_count": 31,
   "metadata": {},
   "outputs": [
    {
     "data": {
      "text/html": [
       "<div>\n",
       "<style scoped>\n",
       "    .dataframe tbody tr th:only-of-type {\n",
       "        vertical-align: middle;\n",
       "    }\n",
       "\n",
       "    .dataframe tbody tr th {\n",
       "        vertical-align: top;\n",
       "    }\n",
       "\n",
       "    .dataframe thead th {\n",
       "        text-align: right;\n",
       "    }\n",
       "</style>\n",
       "<table border=\"1\" class=\"dataframe\">\n",
       "  <thead>\n",
       "    <tr style=\"text-align: right;\">\n",
       "      <th></th>\n",
       "      <th>DH</th>\n",
       "      <th>ind</th>\n",
       "      <th>Complex</th>\n",
       "      <th>Salt</th>\n",
       "      <th>DNA</th>\n",
       "    </tr>\n",
       "  </thead>\n",
       "  <tbody>\n",
       "    <tr>\n",
       "      <th>26677</th>\n",
       "      <td>-15.72</td>\n",
       "      <td>4</td>\n",
       "      <td>S_</td>\n",
       "      <td>0.03</td>\n",
       "      <td>nonspecific</td>\n",
       "    </tr>\n",
       "    <tr>\n",
       "      <th>30855</th>\n",
       "      <td>-11.77</td>\n",
       "      <td>5</td>\n",
       "      <td>S_</td>\n",
       "      <td>0.03</td>\n",
       "      <td>nonspecific</td>\n",
       "    </tr>\n",
       "    <tr>\n",
       "      <th>18112</th>\n",
       "      <td>-13.08</td>\n",
       "      <td>5</td>\n",
       "      <td>S_</td>\n",
       "      <td>0.03</td>\n",
       "      <td>nonspecific</td>\n",
       "    </tr>\n",
       "    <tr>\n",
       "      <th>41924</th>\n",
       "      <td>-12.43</td>\n",
       "      <td>2</td>\n",
       "      <td>S_</td>\n",
       "      <td>0.03</td>\n",
       "      <td>nonspecific</td>\n",
       "    </tr>\n",
       "    <tr>\n",
       "      <th>15420</th>\n",
       "      <td>-14.54</td>\n",
       "      <td>1</td>\n",
       "      <td>S_</td>\n",
       "      <td>0.03</td>\n",
       "      <td>nonspecific</td>\n",
       "    </tr>\n",
       "    <tr>\n",
       "      <th>...</th>\n",
       "      <td>...</td>\n",
       "      <td>...</td>\n",
       "      <td>...</td>\n",
       "      <td>...</td>\n",
       "      <td>...</td>\n",
       "    </tr>\n",
       "    <tr>\n",
       "      <th>20489</th>\n",
       "      <td>-14.87</td>\n",
       "      <td>5</td>\n",
       "      <td>S_</td>\n",
       "      <td>0.03</td>\n",
       "      <td>nonspecific</td>\n",
       "    </tr>\n",
       "    <tr>\n",
       "      <th>30026</th>\n",
       "      <td>-14.99</td>\n",
       "      <td>3</td>\n",
       "      <td>S_</td>\n",
       "      <td>0.03</td>\n",
       "      <td>nonspecific</td>\n",
       "    </tr>\n",
       "    <tr>\n",
       "      <th>29837</th>\n",
       "      <td>-14.02</td>\n",
       "      <td>1</td>\n",
       "      <td>S_</td>\n",
       "      <td>0.03</td>\n",
       "      <td>nonspecific</td>\n",
       "    </tr>\n",
       "    <tr>\n",
       "      <th>19116</th>\n",
       "      <td>-15.39</td>\n",
       "      <td>5</td>\n",
       "      <td>S_</td>\n",
       "      <td>0.03</td>\n",
       "      <td>nonspecific</td>\n",
       "    </tr>\n",
       "    <tr>\n",
       "      <th>25091</th>\n",
       "      <td>-18.54</td>\n",
       "      <td>3</td>\n",
       "      <td>S_</td>\n",
       "      <td>0.03</td>\n",
       "      <td>nonspecific</td>\n",
       "    </tr>\n",
       "  </tbody>\n",
       "</table>\n",
       "<p>5116 rows × 5 columns</p>\n",
       "</div>"
      ],
      "text/plain": [
       "          DH  ind Complex  Salt          DNA\n",
       "26677 -15.72    4      S_  0.03  nonspecific\n",
       "30855 -11.77    5      S_  0.03  nonspecific\n",
       "18112 -13.08    5      S_  0.03  nonspecific\n",
       "41924 -12.43    2      S_  0.03  nonspecific\n",
       "15420 -14.54    1      S_  0.03  nonspecific\n",
       "...      ...  ...     ...   ...          ...\n",
       "20489 -14.87    5      S_  0.03  nonspecific\n",
       "30026 -14.99    3      S_  0.03  nonspecific\n",
       "29837 -14.02    1      S_  0.03  nonspecific\n",
       "19116 -15.39    5      S_  0.03  nonspecific\n",
       "25091 -18.54    3      S_  0.03  nonspecific\n",
       "\n",
       "[5116 rows x 5 columns]"
      ]
     },
     "execution_count": 31,
     "metadata": {},
     "output_type": "execute_result"
    }
   ],
   "source": [
    "nonspec_S_cg.sample(n=5116, random_state=1)"
   ]
  },
  {
   "cell_type": "code",
   "execution_count": 50,
   "metadata": {},
   "outputs": [],
   "source": [
    "tt=plot_el_sns(FolderSspecific03B_cg,'S_','0.03') #6589"
   ]
  },
  {
   "cell_type": "code",
   "execution_count": 52,
   "metadata": {},
   "outputs": [],
   "source": [
    "tt=plot_el_sns(FolderRspecific03B_cg,'S_','0.03') #5116"
   ]
  },
  {
   "cell_type": "code",
   "execution_count": 53,
   "metadata": {},
   "outputs": [
    {
     "data": {
      "text/html": [
       "<div>\n",
       "<style scoped>\n",
       "    .dataframe tbody tr th:only-of-type {\n",
       "        vertical-align: middle;\n",
       "    }\n",
       "\n",
       "    .dataframe tbody tr th {\n",
       "        vertical-align: top;\n",
       "    }\n",
       "\n",
       "    .dataframe thead th {\n",
       "        text-align: right;\n",
       "    }\n",
       "</style>\n",
       "<table border=\"1\" class=\"dataframe\">\n",
       "  <thead>\n",
       "    <tr style=\"text-align: right;\">\n",
       "      <th></th>\n",
       "      <th>DH</th>\n",
       "      <th>ind</th>\n",
       "      <th>Complex</th>\n",
       "      <th>Salt</th>\n",
       "      <th>Model</th>\n",
       "    </tr>\n",
       "  </thead>\n",
       "  <tbody>\n",
       "    <tr>\n",
       "      <th>0</th>\n",
       "      <td>-3.01</td>\n",
       "      <td>1</td>\n",
       "      <td>S_</td>\n",
       "      <td>0.03</td>\n",
       "      <td>CG</td>\n",
       "    </tr>\n",
       "    <tr>\n",
       "      <th>1</th>\n",
       "      <td>-3.46</td>\n",
       "      <td>1</td>\n",
       "      <td>S_</td>\n",
       "      <td>0.03</td>\n",
       "      <td>CG</td>\n",
       "    </tr>\n",
       "    <tr>\n",
       "      <th>2</th>\n",
       "      <td>-3.16</td>\n",
       "      <td>1</td>\n",
       "      <td>S_</td>\n",
       "      <td>0.03</td>\n",
       "      <td>CG</td>\n",
       "    </tr>\n",
       "    <tr>\n",
       "      <th>4541</th>\n",
       "      <td>-11.73</td>\n",
       "      <td>1</td>\n",
       "      <td>S_</td>\n",
       "      <td>0.03</td>\n",
       "      <td>CG</td>\n",
       "    </tr>\n",
       "    <tr>\n",
       "      <th>4542</th>\n",
       "      <td>-11.98</td>\n",
       "      <td>1</td>\n",
       "      <td>S_</td>\n",
       "      <td>0.03</td>\n",
       "      <td>CG</td>\n",
       "    </tr>\n",
       "    <tr>\n",
       "      <th>...</th>\n",
       "      <td>...</td>\n",
       "      <td>...</td>\n",
       "      <td>...</td>\n",
       "      <td>...</td>\n",
       "      <td>...</td>\n",
       "    </tr>\n",
       "    <tr>\n",
       "      <th>525</th>\n",
       "      <td>-2.56</td>\n",
       "      <td>5</td>\n",
       "      <td>S_</td>\n",
       "      <td>0.03</td>\n",
       "      <td>CG</td>\n",
       "    </tr>\n",
       "    <tr>\n",
       "      <th>526</th>\n",
       "      <td>-3.04</td>\n",
       "      <td>5</td>\n",
       "      <td>S_</td>\n",
       "      <td>0.03</td>\n",
       "      <td>CG</td>\n",
       "    </tr>\n",
       "    <tr>\n",
       "      <th>527</th>\n",
       "      <td>-3.29</td>\n",
       "      <td>5</td>\n",
       "      <td>S_</td>\n",
       "      <td>0.03</td>\n",
       "      <td>CG</td>\n",
       "    </tr>\n",
       "    <tr>\n",
       "      <th>528</th>\n",
       "      <td>-4.00</td>\n",
       "      <td>5</td>\n",
       "      <td>S_</td>\n",
       "      <td>0.03</td>\n",
       "      <td>CG</td>\n",
       "    </tr>\n",
       "    <tr>\n",
       "      <th>539</th>\n",
       "      <td>-3.30</td>\n",
       "      <td>5</td>\n",
       "      <td>S_</td>\n",
       "      <td>0.03</td>\n",
       "      <td>CG</td>\n",
       "    </tr>\n",
       "  </tbody>\n",
       "</table>\n",
       "<p>5116 rows × 5 columns</p>\n",
       "</div>"
      ],
      "text/plain": [
       "         DH  ind Complex  Salt Model\n",
       "0     -3.01    1      S_  0.03    CG\n",
       "1     -3.46    1      S_  0.03    CG\n",
       "2     -3.16    1      S_  0.03    CG\n",
       "4541 -11.73    1      S_  0.03    CG\n",
       "4542 -11.98    1      S_  0.03    CG\n",
       "...     ...  ...     ...   ...   ...\n",
       "525   -2.56    5      S_  0.03    CG\n",
       "526   -3.04    5      S_  0.03    CG\n",
       "527   -3.29    5      S_  0.03    CG\n",
       "528   -4.00    5      S_  0.03    CG\n",
       "539   -3.30    5      S_  0.03    CG\n",
       "\n",
       "[5116 rows x 5 columns]"
      ]
     },
     "execution_count": 53,
     "metadata": {},
     "output_type": "execute_result"
    }
   ],
   "source": [
    "tt"
   ]
  },
  {
   "cell_type": "code",
   "execution_count": 57,
   "metadata": {},
   "outputs": [
    {
     "data": {
      "text/plain": [
       "[(0.21568627450980393, 0.49411764705882355, 0.7215686274509804),\n",
       " (0.8941176470588236, 0.10196078431372549, 0.10980392156862745)]"
      ]
     },
     "execution_count": 57,
     "metadata": {},
     "output_type": "execute_result"
    }
   ],
   "source": [
    "sns.color_palette(\"Set1\")[:2][::-1]"
   ]
  },
  {
   "cell_type": "code",
   "execution_count": 68,
   "metadata": {},
   "outputs": [],
   "source": [
    "data_nonspe_spec=pd.concat([nonspec_S_cg.sample(n=5116, random_state=1),nonspec_R_cg.sample(n=5116, random_state=1),plot_el_specCG(FolderSspecific03B_cg,'S_','0.03'),plot_el_specCG(FolderRspecific03B_cg,'R_','0.03')])\n",
    "data_nonspe_spec.replace({'S_':'$search$','R_':'$recognition$',\\\n",
    "                          'nonspecific':'non-operator','specific':'operator'},inplace=True)"
   ]
  },
  {
   "cell_type": "code",
   "execution_count": 70,
   "metadata": {},
   "outputs": [
    {
     "data": {
      "image/png": "[encoded data removed]",
      "text/plain": [
       "<Figure size 151.2x129.6 with 1 Axes>"
      ]
     },
     "metadata": {
      "image/png": {
       "height": 120,
       "width": 145
      },
      "needs_background": "light"
     },
     "output_type": "display_data"
    }
   ],
   "source": [
    "fig, ax=plt.subplots(figsize = (2.1,1.8))\n",
    "#sns.boxplot(y='DH',data=data_nonspe_spec,x='Complex',width=0.6,linewidth=0.9,hue='Model',palette=\"Set2\",medianprops={'color':'cyan'})\n",
    "#sns.stripplot(y='DH',data=data_nonspe_spec,x='Complex',palette=\"Accent_r\",hue='Model',dodge=0.1,linewidth=0.5,alpha=0.6)\n",
    "sns.violinplot(y='DH',data=data_nonspe_spec,x='Complex',hue='DNA',palette=sns.color_palette(\"Set1\")[:2][::-1],\\\n",
    "               scale='area',split=False)\n",
    "#sns.swarmplot(y='DH',data=data_nonspe_spec,x='Complex',hue='Model',palette=\"Accent_r\",alpha=0.6)\n",
    "ax.tick_params(\n",
    "\n",
    "        axis='both',          # changes apply to the x-axis\n",
    "        which='both',      # both major and minor ticks are affected\n",
    "        bottom=True,      # ticks along the bottom edge are off\n",
    "        top=False,         # ticks along the top edge are off\n",
    "        labelbottom=True,\n",
    "        right=False, left=True, labelleft=True,\n",
    "        width = 0.5,\n",
    "        length = 3, color='k',direction ='in')\n",
    "plt.ylabel('DH (kcal mol $^{-1}$)')\n",
    "plt.xticks()\n",
    "sns.despine()\n",
    "plt.legend(loc='upper left',title_fontsize=9,title=False,edgecolor='white',\n",
    "              markerscale=0.6,fontsize=9,ncol=1,labelspacing=0.2,handlelength=0.3,bbox_to_anchor=(0.01, 0.45))\n",
    "#plt.legend([],[], frameon=False)\n",
    "plt.tight_layout()\n",
    "plt.ylim(-38,1)\n",
    "plt.savefig('/Users/mallu899/Documents/projects/lacI_CG_master/LacI_CG_Draft/Figures/VersionX/Nonspec_spec_DH.png',dpi=300,bbox_inches='tight', transparent=True)"
   ]
  },
  {
   "cell_type": "code",
   "execution_count": 40,
   "metadata": {},
   "outputs": [
    {
     "data": {
      "text/html": [
       "<div>\n",
       "<style scoped>\n",
       "    .dataframe tbody tr th:only-of-type {\n",
       "        vertical-align: middle;\n",
       "    }\n",
       "\n",
       "    .dataframe tbody tr th {\n",
       "        vertical-align: top;\n",
       "    }\n",
       "\n",
       "    .dataframe thead th {\n",
       "        text-align: right;\n",
       "    }\n",
       "</style>\n",
       "<table border=\"1\" class=\"dataframe\">\n",
       "  <thead>\n",
       "    <tr style=\"text-align: right;\">\n",
       "      <th></th>\n",
       "      <th>total</th>\n",
       "      <th>ind</th>\n",
       "      <th>Complex</th>\n",
       "      <th>Salt</th>\n",
       "      <th>Model</th>\n",
       "    </tr>\n",
       "  </thead>\n",
       "  <tbody>\n",
       "    <tr>\n",
       "      <th>0</th>\n",
       "      <td>-1845.97</td>\n",
       "      <td>1</td>\n",
       "      <td>$search$_</td>\n",
       "      <td>0.03</td>\n",
       "      <td>CG</td>\n",
       "    </tr>\n",
       "    <tr>\n",
       "      <th>1</th>\n",
       "      <td>-1844.53</td>\n",
       "      <td>1</td>\n",
       "      <td>$search$_</td>\n",
       "      <td>0.03</td>\n",
       "      <td>CG</td>\n",
       "    </tr>\n",
       "    <tr>\n",
       "      <th>2</th>\n",
       "      <td>-1828.37</td>\n",
       "      <td>1</td>\n",
       "      <td>$search$_</td>\n",
       "      <td>0.03</td>\n",
       "      <td>CG</td>\n",
       "    </tr>\n",
       "    <tr>\n",
       "      <th>3</th>\n",
       "      <td>-1837.26</td>\n",
       "      <td>1</td>\n",
       "      <td>$search$_</td>\n",
       "      <td>0.03</td>\n",
       "      <td>CG</td>\n",
       "    </tr>\n",
       "    <tr>\n",
       "      <th>4</th>\n",
       "      <td>-1820.93</td>\n",
       "      <td>1</td>\n",
       "      <td>$search$_</td>\n",
       "      <td>0.03</td>\n",
       "      <td>CG</td>\n",
       "    </tr>\n",
       "    <tr>\n",
       "      <th>...</th>\n",
       "      <td>...</td>\n",
       "      <td>...</td>\n",
       "      <td>...</td>\n",
       "      <td>...</td>\n",
       "      <td>...</td>\n",
       "    </tr>\n",
       "    <tr>\n",
       "      <th>4973</th>\n",
       "      <td>-1703.76</td>\n",
       "      <td>5</td>\n",
       "      <td>$recog.$:</td>\n",
       "      <td>0.03</td>\n",
       "      <td>CG</td>\n",
       "    </tr>\n",
       "    <tr>\n",
       "      <th>4974</th>\n",
       "      <td>-1713.60</td>\n",
       "      <td>5</td>\n",
       "      <td>$recog.$:</td>\n",
       "      <td>0.03</td>\n",
       "      <td>CG</td>\n",
       "    </tr>\n",
       "    <tr>\n",
       "      <th>4975</th>\n",
       "      <td>-1715.88</td>\n",
       "      <td>5</td>\n",
       "      <td>$recog.$:</td>\n",
       "      <td>0.03</td>\n",
       "      <td>CG</td>\n",
       "    </tr>\n",
       "    <tr>\n",
       "      <th>4976</th>\n",
       "      <td>-1705.79</td>\n",
       "      <td>5</td>\n",
       "      <td>$recog.$:</td>\n",
       "      <td>0.03</td>\n",
       "      <td>CG</td>\n",
       "    </tr>\n",
       "    <tr>\n",
       "      <th>4977</th>\n",
       "      <td>-1692.56</td>\n",
       "      <td>5</td>\n",
       "      <td>$recog.$:</td>\n",
       "      <td>0.03</td>\n",
       "      <td>CG</td>\n",
       "    </tr>\n",
       "  </tbody>\n",
       "</table>\n",
       "<p>31599 rows × 5 columns</p>\n",
       "</div>"
      ],
      "text/plain": [
       "        total  ind    Complex  Salt Model\n",
       "0    -1845.97    1  $search$_  0.03    CG\n",
       "1    -1844.53    1  $search$_  0.03    CG\n",
       "2    -1828.37    1  $search$_  0.03    CG\n",
       "3    -1837.26    1  $search$_  0.03    CG\n",
       "4    -1820.93    1  $search$_  0.03    CG\n",
       "...       ...  ...        ...   ...   ...\n",
       "4973 -1703.76    5  $recog.$:  0.03    CG\n",
       "4974 -1713.60    5  $recog.$:  0.03    CG\n",
       "4975 -1715.88    5  $recog.$:  0.03    CG\n",
       "4976 -1705.79    5  $recog.$:  0.03    CG\n",
       "4977 -1692.56    5  $recog.$:  0.03    CG\n",
       "\n",
       "[31599 rows x 5 columns]"
      ]
     },
     "execution_count": 40,
     "metadata": {},
     "output_type": "execute_result"
    }
   ],
   "source": [
    "data_CG_DH"
   ]
  },
  {
   "cell_type": "code",
   "execution_count": 61,
   "metadata": {},
   "outputs": [
    {
     "data": {
      "image/png": "[encoded data removed]",
      "text/plain": [
       "<Figure size 151.2x151.2 with 1 Axes>"
      ]
     },
     "metadata": {
      "image/png": {
       "height": 143,
       "width": 144
      },
      "needs_background": "light"
     },
     "output_type": "display_data"
    }
   ],
   "source": [
    "fig, ax = plt.subplots(figsize = (2.1,2.1))\n",
    "#sns.boxplot(y='DH',data=allc_join,x='Complex',width=0.8,linewidth=0.9,hue='Model',palette=\"Set1\",medianprops={'color':'cyan'})\n",
    "#sns.plot(y='DH',data=allc_join,x='Complex',palette=\"Accent_r\",hue='Model',dodge=0.1,linewidth=0.2,alpha=0.6,size=1.8)\n",
    "#sns.stripplot(y='DH',data=allc_join,x='Complex',hue='Model',palette=\"Set1\",dodge=0.1,linewidth=0.7,jitter=0.0005,alpha=0.5)\n",
    "#sns.violinplot(y='DH',data=data_CG_DH,x='Complex',hue='Model',palette=\"Set1\",scale='area')\n",
    "sns.lineplot(y='DH',data=data_CG_DH,x='Complex',hue='Model',palette=\"Set2\", style=\"Model\",\n",
    "    markers=True,err_style=\"band\",ci=\"sd\")\n",
    "\n",
    "#sns.barplot(y='DH',data=allc_join,x='Complex',linewidth=0.9,hue='Model',palette=\"Set1\",orient=\"v\", capsize=.2)\n",
    "\n",
    "ax.tick_params(\n",
    "\n",
    "        axis='both',          # changes apply to the x-axis\n",
    "        which='both',      # both major and minor ticks are affected\n",
    "        bottom=True,      # ticks along the bottom edge are off\n",
    "        top=False,         # ticks along the top edge are off\n",
    "        labelbottom=True,\n",
    "        right=False, left=True, labelleft=True,\n",
    "        width = 0.5,\n",
    "        length = 3, color='k',direction ='in')\n",
    "plt.ylabel('DH (kcal mol $^{-1}$)')\n",
    "plt.xticks(rotation=35)\n",
    "plt.legend([],[], frameon=False)\n",
    "sns.despine()\n",
    "plt.tight_layout()\n",
    "#plt.ylim(-38,1)\n",
    "plt.savefig('/Users/mallu899/Mirror/projects/lacI_CG_master/LacI_CG_Draft/Figures/VersionX/CG_DH.png',dpi=300,bbox_inches='tight', transparent=True)"
   ]
  },
  {
   "cell_type": "code",
   "execution_count": 43,
   "metadata": {},
   "outputs": [],
   "source": [
    "H2_p=['Tyr17','Thr19','Arg22','Asn25','Tyr17.1','Thr19.1','Arg22.1','Asn25.1']\n",
    "H2=['Tyr17','Thr19','Arg22','Asn25','Tyr17','Thr19','Arg22','Asn25']\n",
    "spec_p=['Tyr17','Arg22','Tyr17.1','Arg22.1']\n",
    "spec=['Tyr17','Arg22','Tyr17','Arg22']\n",
    "hi_p=['ARG_50','LYS_58','ARG_385','LYS_393']\n",
    "hi=['Arg51','Lys59','Arg51','Lys59']\n",
    "all_p=['Leu6','Ser16','Tyr17','Thr19','Arg22','Asn25','Ser31','Thr34','Tyr47','Asn50','Gln54','Leu6.1','Ser16.1'\n",
    "         ,'Tyr17.1','Thr19.1','Arg22.1','Asn25.1','Ser31.1','Thr34.1','Tyr47.1','Asn50.1','Gln54.1']\n",
    "all_res=['Leu6','Ser16','Tyr17','Thr19','Arg22','Asn25','Ser31','Thr34','Tyr47','Asn50','Gln54','Leu6','Ser16'\n",
    "         ,'Tyr17','Thr19','Arg22','Asn25','Ser31','Thr34','Tyr47','Asn50','Gln54']\n",
    "H2_aa=['TYR_16','THR_18','ARG_21','ASN_24','TYR_351','THR_353','ARG_356','ASN_359']\n",
    "spec_aa=['TYR_16','ARG_21','TYR_351','ARG_356']\n",
    "hi_aa=['ARG_50','LYS_58','ARG_385','LYS_393']\n",
    "Allr_aa=['LEU_5','SER_15','TYR_16','THR_18','ARG_21','ASN_24','SER_30','THR_33','TYR_46','ASN_49','GLN_53'\n",
    "     ,'LEU_340','SER_350','TYR_351','THR_353','ARG_356','ASN_359','SER_365','THR_368','TYR_381','ASN_384','GLN_388']"
   ]
  },
  {
   "cell_type": "code",
   "execution_count": 44,
   "metadata": {},
   "outputs": [],
   "source": [
    "dictionay_resCG=dict(zip(all_p,all_res))\n",
    "dictionay_resAA=dict(zip(Allr_aa,all_res))"
   ]
  },
  {
   "cell_type": "code",
   "execution_count": 45,
   "metadata": {},
   "outputs": [],
   "source": [
    "def subset(data,subset):    \n",
    "    subset_df=data[data.index.isin(subset)]\n",
    "    return(subset_df)"
   ]
  },
  {
   "cell_type": "code",
   "execution_count": 46,
   "metadata": {},
   "outputs": [
    {
     "name": "stdout",
     "output_type": "stream",
     "text": [
      "['/Users/mallu899/Mirror/projects/lacI_CG_master/data/TargetSite/S_ADNA/S_ADNA_03/Traj_S-model1_ADNA_target_0.4_18419.datOcc.txt', '/Users/mallu899/Mirror/projects/lacI_CG_master/data/TargetSite/S_ADNA/S_ADNA_03/Traj_S-model1_ADNA_target_0.4_12944.datOcc.txt', '/Users/mallu899/Mirror/projects/lacI_CG_master/data/TargetSite/S_ADNA/S_ADNA_03/Traj_S-model1_ADNA_target_0.4_33546.datOcc.txt', '/Users/mallu899/Mirror/projects/lacI_CG_master/data/TargetSite/S_ADNA/S_ADNA_03/Traj_S-model1_ADNA_target_0.4_8735.datOcc.txt', '/Users/mallu899/Mirror/projects/lacI_CG_master/data/TargetSite/S_ADNA/S_ADNA_03/Traj_S-model1_ADNA_target_0.4_45818.datOcc.txt']\n",
      "['/Users/mallu899/Mirror/projects/lacI_CG_master/data/TargetSite/S_ADNA/S_ADNA_03/Traj_S-model1_ADNA_target_0.4_45818.datOcc.txt', '/Users/mallu899/Mirror/projects/lacI_CG_master/data/TargetSite/S_ADNA/S_ADNA_03/Traj_S-model1_ADNA_target_0.4_12944.datOcc.txt', '/Users/mallu899/Mirror/projects/lacI_CG_master/data/TargetSite/S_ADNA/S_ADNA_03/Traj_S-model1_ADNA_target_0.4_8735.datOcc.txt', '/Users/mallu899/Mirror/projects/lacI_CG_master/data/TargetSite/S_ADNA/S_ADNA_03/Traj_S-model1_ADNA_target_0.4_33546.datOcc.txt', '/Users/mallu899/Mirror/projects/lacI_CG_master/data/TargetSite/S_ADNA/S_ADNA_03/Traj_S-model1_ADNA_target_0.4_18419.datOcc.txt']\n",
      "['/Users/mallu899/Mirror/projects/lacI_CG_master/data/TargetSite/S_BDNA/S_BDNA_03/Traj_S-model1_BDNA_target_0.4_39884.datOcc.txt', '/Users/mallu899/Mirror/projects/lacI_CG_master/data/TargetSite/S_BDNA/S_BDNA_03/Traj_S-model1_BDNA_target_0.4_45601.datOcc.txt', '/Users/mallu899/Mirror/projects/lacI_CG_master/data/TargetSite/S_BDNA/S_BDNA_03/Traj_S-model1_BDNA_target_0.4_25513.datOcc.txt', '/Users/mallu899/Mirror/projects/lacI_CG_master/data/TargetSite/S_BDNA/S_BDNA_03/Traj_S-model1_BDNA_target_0.4_20105.datOcc.txt', '/Users/mallu899/Mirror/projects/lacI_CG_master/data/TargetSite/S_BDNA/S_BDNA_03/Traj_S-model1_BDNA_target_0.4_46147.datOcc.txt']\n",
      "['/Users/mallu899/Mirror/projects/lacI_CG_master/data/TargetSite/S_BDNA/S_BDNA_03/Traj_S-model1_BDNA_target_0.4_20105.datOcc.txt', '/Users/mallu899/Mirror/projects/lacI_CG_master/data/TargetSite/S_BDNA/S_BDNA_03/Traj_S-model1_BDNA_target_0.4_45601.datOcc.txt', '/Users/mallu899/Mirror/projects/lacI_CG_master/data/TargetSite/S_BDNA/S_BDNA_03/Traj_S-model1_BDNA_target_0.4_25513.datOcc.txt', '/Users/mallu899/Mirror/projects/lacI_CG_master/data/TargetSite/S_BDNA/S_BDNA_03/Traj_S-model1_BDNA_target_0.4_39884.datOcc.txt', '/Users/mallu899/Mirror/projects/lacI_CG_master/data/TargetSite/S_BDNA/S_BDNA_03/Traj_S-model1_BDNA_target_0.4_46147.datOcc.txt']\n",
      "['/Users/mallu899/Mirror/projects/lacI_CG_master/data/TargetSite/R_ADNA/R_ADNA_03/Traj_1efa_718_ADNA_target_aligned_0.4_45.datOcc.txt', '/Users/mallu899/Mirror/projects/lacI_CG_master/data/TargetSite/R_ADNA/R_ADNA_03/Traj_1efa_718_ADNA_target_aligned_0.4_26300.datOcc.txt', '/Users/mallu899/Mirror/projects/lacI_CG_master/data/TargetSite/R_ADNA/R_ADNA_03/Traj_1efa_718_ADNA_target_aligned_0.4_14023.datOcc.txt', '/Users/mallu899/Mirror/projects/lacI_CG_master/data/TargetSite/R_ADNA/R_ADNA_03/Traj_1efa_718_ADNA_target_aligned_0.4_6880.datOcc.txt', '/Users/mallu899/Mirror/projects/lacI_CG_master/data/TargetSite/R_ADNA/R_ADNA_03/Traj_1efa_718_ADNA_target_aligned_0.4_28021.datOcc.txt']\n",
      "['/Users/mallu899/Mirror/projects/lacI_CG_master/data/TargetSite/R_ADNA/R_ADNA_03/Traj_1efa_718_ADNA_target_aligned_0.4_45.datOcc.txt', '/Users/mallu899/Mirror/projects/lacI_CG_master/data/TargetSite/R_ADNA/R_ADNA_03/Traj_1efa_718_ADNA_target_aligned_0.4_6880.datOcc.txt', '/Users/mallu899/Mirror/projects/lacI_CG_master/data/TargetSite/R_ADNA/R_ADNA_03/Traj_1efa_718_ADNA_target_aligned_0.4_28021.datOcc.txt', '/Users/mallu899/Mirror/projects/lacI_CG_master/data/TargetSite/R_ADNA/R_ADNA_03/Traj_1efa_718_ADNA_target_aligned_0.4_14023.datOcc.txt', '/Users/mallu899/Mirror/projects/lacI_CG_master/data/TargetSite/R_ADNA/R_ADNA_03/Traj_1efa_718_ADNA_target_aligned_0.4_26300.datOcc.txt']\n",
      "['/Users/mallu899/Mirror/projects/lacI_CG_master/data/TargetSite/R_BDNA/R_BDNA_03/Traj_1efa_718_BDNA_target_0.4_43692.datOcc.txt', '/Users/mallu899/Mirror/projects/lacI_CG_master/data/TargetSite/R_BDNA/R_BDNA_03/Traj_1efa_718_BDNA_target_0.4_8024.datOcc.txt', '/Users/mallu899/Mirror/projects/lacI_CG_master/data/TargetSite/R_BDNA/R_BDNA_03/Traj_1efa_718_BDNA_target_0.4_5418.datOcc.txt', '/Users/mallu899/Mirror/projects/lacI_CG_master/data/TargetSite/R_BDNA/R_BDNA_03/Traj_1efa_718_BDNA_target_0.4_19620.datOcc.txt', '/Users/mallu899/Mirror/projects/lacI_CG_master/data/TargetSite/R_BDNA/R_BDNA_03/Traj_1efa_718_BDNA_target_0.4_18970.datOcc.txt']\n",
      "['/Users/mallu899/Mirror/projects/lacI_CG_master/data/TargetSite/R_BDNA/R_BDNA_03/Traj_1efa_718_BDNA_target_0.4_8024.datOcc.txt', '/Users/mallu899/Mirror/projects/lacI_CG_master/data/TargetSite/R_BDNA/R_BDNA_03/Traj_1efa_718_BDNA_target_0.4_18970.datOcc.txt', '/Users/mallu899/Mirror/projects/lacI_CG_master/data/TargetSite/R_BDNA/R_BDNA_03/Traj_1efa_718_BDNA_target_0.4_43692.datOcc.txt', '/Users/mallu899/Mirror/projects/lacI_CG_master/data/TargetSite/R_BDNA/R_BDNA_03/Traj_1efa_718_BDNA_target_0.4_19620.datOcc.txt', '/Users/mallu899/Mirror/projects/lacI_CG_master/data/TargetSite/R_BDNA/R_BDNA_03/Traj_1efa_718_BDNA_target_0.4_5418.datOcc.txt']\n"
     ]
    }
   ],
   "source": [
    "tt_SA=plot_CG.plot_occ(FolderSspecific03A_cg,'S:','0.03','CG')[1]\n",
    "tt_SB=plot_CG.plot_occ(FolderSspecific03B_cg,'S_','0.03','CG')[1]\n",
    "tt_RA=plot_CG.plot_occ(FolderRspecific03A_cg,'R:','0.03','CG')[1]\n",
    "tt_RB=plot_CG.plot_occ(FolderRspecific03B_cg,'R_','0.03','CG')[1]"
   ]
  },
  {
   "cell_type": "code",
   "execution_count": 50,
   "metadata": {},
   "outputs": [
    {
     "data": {
      "text/plain": [
       "['Leu6',\n",
       " 'Ser16',\n",
       " 'Tyr17',\n",
       " 'Thr19',\n",
       " 'Arg22',\n",
       " 'Asn25',\n",
       " 'Ser31',\n",
       " 'Thr34',\n",
       " 'Tyr47',\n",
       " 'Asn50',\n",
       " 'Gln54',\n",
       " 'Leu6.1',\n",
       " 'Ser16.1',\n",
       " 'Tyr17.1',\n",
       " 'Thr19.1',\n",
       " 'Arg22.1',\n",
       " 'Asn25.1',\n",
       " 'Ser31.1',\n",
       " 'Thr34.1',\n",
       " 'Tyr47.1',\n",
       " 'Asn50.1',\n",
       " 'Gln54.1']"
      ]
     },
     "execution_count": 50,
     "metadata": {},
     "output_type": "execute_result"
    }
   ],
   "source": [
    "all_p"
   ]
  },
  {
   "cell_type": "code",
   "execution_count": 62,
   "metadata": {},
   "outputs": [
    {
     "data": {
      "image/png": "[encoded data removed]",
      "text/plain": [
       "<Figure size 151.2x151.2 with 1 Axes>"
      ]
     },
     "metadata": {
      "image/png": {
       "height": 143,
       "width": 145
      },
      "needs_background": "light"
     },
     "output_type": "display_data"
    }
   ],
   "source": [
    "tt=pd.concat([tt_SB,tt_RB,tt_SA,tt_RA])\n",
    "tt.replace({'S_':'$search$_','S:':'$search$:','R_':'$recog.$_','R:':'$recog.$:'},inplace=True)\n",
    "fig, ax = plt.subplots(figsize = (2.1,2.1))\n",
    "#g=sns.boxplot(x='Complex',y='Occupancy',hue='Model',data=subset(tt,all_p),width=0.7,linewidth=0.7,palette='Set1',medianprops={'color':'cyan'})\n",
    "#sns.stripplot(x='Complex',y='Occupancy',hue='Model',data=subset(tt,all_p),palette=\"Set1\",dodge=0.1,linewidth=0.7,alpha=0.3)\n",
    "#sns.violinplot(x='Complex',y='Occupancy',data=subset(tt,all_p),palette=['grey','white'],scale='area')\n",
    "sns.lineplot(x='Complex',y='Occupancy',hue='Model',data=subset(tt,all_p),palette=\"Set2\", style=\"Model\",\n",
    "    markers=True,err_style=\"band\",ci=\"sd\")\n",
    "#,scale='area'\n",
    "ax.tick_params(\n",
    "        axis='both',          # changes apply to the x-axis\n",
    "        which='both',      # both major and minor ticks are affected\n",
    "        bottom=True,      # ticks along the bottom edge are off\n",
    "        top=False,         # ticks along the top edge are off\n",
    "        labelbottom=True,\n",
    "        right=False, left=True, labelleft=True,\n",
    "        width = 0.5,\n",
    "        length = 3, color='k',direction ='in')\n",
    "#plt.ylim([-0.4,1.8])\n",
    "plt.xticks(rotation=35)\n",
    "sns.despine()\n",
    "plt.legend([],[], frameon=False)\n",
    "#plt.title('specific contacts')\n",
    "plt.ylabel('occupancy')\n",
    "plt.legend([],[], frameon=False)\n",
    "#plt.legend(loc='upper left',title_fontsize=9,title='Model',edgecolor='white',\n",
    "#              markerscale=0.6,fontsize=9,ncol=1,labelspacing=0.2,handlelength=0.3,bbox_to_anchor=(1.12, 0.5))\n",
    "plt.tight_layout()\n",
    "plt.savefig('/Users/mallu899/Mirror/projects/lacI_CG_master/LacI_CG_Draft/Figures/VersionX/CG_Con.png',dpi=300,bbox_inches='tight', transparent=True)"
   ]
  },
  {
   "cell_type": "code",
   "execution_count": 47,
   "metadata": {},
   "outputs": [
    {
     "ename": "NameError",
     "evalue": "name 'tt' is not defined",
     "output_type": "error",
     "traceback": [
      "\u001b[0;31m---------------------------------------------------------------------------\u001b[0m",
      "\u001b[0;31mNameError\u001b[0m                                 Traceback (most recent call last)",
      "\u001b[0;32m<ipython-input-47-0505a4f79280>\u001b[0m in \u001b[0;36m<module>\u001b[0;34m\u001b[0m\n\u001b[1;32m      1\u001b[0m \u001b[0mfig\u001b[0m\u001b[0;34m,\u001b[0m \u001b[0max\u001b[0m \u001b[0;34m=\u001b[0m \u001b[0mplt\u001b[0m\u001b[0;34m.\u001b[0m\u001b[0msubplots\u001b[0m\u001b[0;34m(\u001b[0m\u001b[0mfigsize\u001b[0m \u001b[0;34m=\u001b[0m \u001b[0;34m(\u001b[0m\u001b[0;36m2.7\u001b[0m\u001b[0;34m,\u001b[0m\u001b[0;36m2\u001b[0m\u001b[0;34m)\u001b[0m\u001b[0;34m)\u001b[0m\u001b[0;34m\u001b[0m\u001b[0;34m\u001b[0m\u001b[0m\n\u001b[0;32m----> 2\u001b[0;31m \u001b[0msns\u001b[0m\u001b[0;34m.\u001b[0m\u001b[0mboxplot\u001b[0m\u001b[0;34m(\u001b[0m\u001b[0mx\u001b[0m\u001b[0;34m=\u001b[0m\u001b[0;34m'Complex'\u001b[0m\u001b[0;34m,\u001b[0m\u001b[0my\u001b[0m\u001b[0;34m=\u001b[0m\u001b[0;34m'Occupancy'\u001b[0m\u001b[0;34m,\u001b[0m\u001b[0mdata\u001b[0m\u001b[0;34m=\u001b[0m\u001b[0msubset\u001b[0m\u001b[0;34m(\u001b[0m\u001b[0mtt\u001b[0m\u001b[0;34m,\u001b[0m\u001b[0;34m[\u001b[0m\u001b[0;34m'Tyr17'\u001b[0m\u001b[0;34m,\u001b[0m\u001b[0;34m'Arg22'\u001b[0m\u001b[0;34m]\u001b[0m\u001b[0;34m)\u001b[0m\u001b[0;34m,\u001b[0m\u001b[0mwidth\u001b[0m\u001b[0;34m=\u001b[0m\u001b[0;36m0.7\u001b[0m\u001b[0;34m,\u001b[0m\u001b[0mlinewidth\u001b[0m\u001b[0;34m=\u001b[0m\u001b[0;36m1\u001b[0m\u001b[0;34m)\u001b[0m\u001b[0;34m\u001b[0m\u001b[0;34m\u001b[0m\u001b[0m\n\u001b[0m\u001b[1;32m      3\u001b[0m ax.tick_params(\n\u001b[1;32m      4\u001b[0m \u001b[0;34m\u001b[0m\u001b[0m\n\u001b[1;32m      5\u001b[0m         \u001b[0maxis\u001b[0m\u001b[0;34m=\u001b[0m\u001b[0;34m'both'\u001b[0m\u001b[0;34m,\u001b[0m          \u001b[0;31m# changes apply to the x-axis\u001b[0m\u001b[0;34m\u001b[0m\u001b[0;34m\u001b[0m\u001b[0m\n",
      "\u001b[0;31mNameError\u001b[0m: name 'tt' is not defined"
     ]
    },
    {
     "data": {
      "image/png": "[encoded data removed]",
      "text/plain": [
       "<Figure size 194.4x144 with 1 Axes>"
      ]
     },
     "metadata": {
      "image/png": {
       "height": 141,
       "width": 190
      },
      "needs_background": "light"
     },
     "output_type": "display_data"
    }
   ],
   "source": [
    "fig, ax = plt.subplots(figsize = (2.7,2))\n",
    "sns.boxplot(x='Complex',y='Occupancy',data=subset(tt,['Tyr17','Arg22']),width=0.7,linewidth=1)\n",
    "ax.tick_params(\n",
    "\n",
    "        axis='both',          # changes apply to the x-axis\n",
    "        which='both',      # both major and minor ticks are affected\n",
    "        bottom=True,      # ticks along the bottom edge are off\n",
    "        top=False,         # ticks along the top edge are off\n",
    "        labelbottom=True,\n",
    "        right=False, left=True, labelleft=True,\n",
    "        width = 0.5,\n",
    "        length = 3, color='k',direction ='in')\n",
    "plt.ylim([-0.1,1.1])\n",
    "plt.xticks(rotation=15)\n",
    "plt.tight_layout()"
   ]
  },
  {
   "cell_type": "code",
   "execution_count": 56,
   "metadata": {},
   "outputs": [],
   "source": [
    " class plot_hb_aa:\n",
    "    def Replica(folder,name):\n",
    "        files=glob.glob(folder+'hbonds/'+name)\n",
    "        return(files)\n",
    "    def get_hbonds_count(file):\n",
    "        \"Get all subfolders with different replica\"\n",
    "        df = pd.read_csv(file,sep='\\s+',names=['Frame','count'],skiprows=1)\n",
    "        return(df)\n",
    "    def get_hbonds_avg(file):\n",
    "        \"Get all subfolders with different replica\"\n",
    "        df = pd.read_csv(file,sep='\\s+')\n",
    "        return(df)\n",
    "    def count(folder):\n",
    "        files_acc=plot_hb_aa.Replica(folder,'hbond_count_acc*')\n",
    "        files_don=plot_hb_aa.Replica(folder,'hbond_count_don*')\n",
    "        df_com=[]\n",
    "        for i,j in zip(files_acc,files_don):\n",
    "            df_acc=plot_hb_aa.get_hbonds_count(i)\n",
    "            df_don=plot_hb_aa.get_hbonds_count(j)\n",
    "            df=df_don+df_acc\n",
    "            df_com.append(df)\n",
    "        return(df_com)\n",
    "    def avg(folder):\n",
    "        files_acc=plot_hb_aa.Replica(folder,'hbavg_DNA_prot_acc*')\n",
    "        files_don=plot_hb_aa.Replica(folder,'hbavg_DNA_prot_don*')\n",
    "        dfs_acc,dfs_don=[],[]\n",
    "        for i,j in zip(files_acc,files_don):\n",
    "            dfs_acc.append(plot_hb_aa.get_hbonds_avg(i))\n",
    "            dfs_don.append(plot_hb_aa.get_hbonds_avg(j))\n",
    "        return(dfs_acc,dfs_don)\n",
    "    def groupby_res_Frac_max_donor(residue):\n",
    "        df=pd.DataFrame(residue)\n",
    "        df['Donor']=df['Donor'].map(lambda x: x.split('@')[0])\n",
    "        Frac_max=df.groupby(['Donor'])['Frac'].max()\n",
    "        return(Frac_max)\n",
    "def plot_count(folder):\n",
    "    dfs=plot_hb_aa.count(folder)\n",
    "    for i in range(len(dfs)):\n",
    "        dfs[i]['Rep']=[i+1 for j in range(len(dfs[i]))]\n",
    "    dfs_comb=pd.concat([dfs[0],dfs[1],dfs[2]])    \n",
    "    sns.lineplot(data=dfs_comb,x='Frame',y='count',hue='Rep')"
   ]
  },
  {
   "cell_type": "code",
   "execution_count": 58,
   "metadata": {},
   "outputs": [],
   "source": [
    "def get_hb_bind(df_don):    \n",
    "\n",
    "    \"Protein is the donor\"\n",
    "    tt=df_don\n",
    "    tt.drop_duplicates(inplace=True)\n",
    "    tt.drop(['DonorH'], axis=1,inplace=True)\n",
    "    \n",
    "    outLEU_bb=[]\n",
    "    outSER_bb=[] #O and N (bb)\n",
    "    outTYR_baseEdge=[]\n",
    "    outTHR_bb=[]\n",
    "    outARG_baseEdge=[]\n",
    "    outASN_bb=[] #side chain to bb\n",
    "    outTYR_bb=[]\n",
    "    outASN_bb_bb=[] #bb to bb\n",
    "    outGLN_bb=[]\n",
    "    \n",
    "    for x in range(len(tt)): #iterate hbonds\n",
    "        if ('LEU' in tt.iloc[x]['Donor']) and ('OP' in tt.iloc[x]['#Acceptor']):\n",
    "            outLEU_bb.append(tt.iloc[x]) #only leusine bb to DNA bb\n",
    "        if ('SER' in tt.iloc[x]['Donor']) and ('OP' in tt.iloc[x]['#Acceptor']):\n",
    "            outSER_bb.append(tt.iloc[x]) #only serine bb or side chain to DNA bb\n",
    "        #if ('ARG' in tt.iloc[x]['Donor']) and ('OP' not in tt.iloc[x]['#Acceptor']):\n",
    "        #    outARG_baseEdge.append(tt.iloc[x]) #only arginine side chain to base edge\n",
    "        #if ('TYR' in tt.iloc[x]['Donor']) and ('OP' not in tt.iloc[x]['#Acceptor']):\n",
    "        #    outTYR_baseEdge.append(tt.iloc[x]) #only tyrosine side chain to base edge\n",
    "        if ('ARG' in tt.iloc[x]['Donor']):\n",
    "            if any(y in tt.iloc[x]['#Acceptor'] for y in ['O2','O4','O6','N2','N3','N4','N6','N7','C4','C5','C6','C7','C2']):\n",
    "                outARG_baseEdge.append(tt.iloc[x]) #only arginine side chain to base edge\n",
    "        if ('TYR' in tt.iloc[x]['Donor']):\n",
    "            if any(y in tt.iloc[x]['#Acceptor'] for y in ['O2','O4','O6','N2','N3','N4','N6','N7','C4','C5','C6','C7','C2']):\n",
    "                outTYR_baseEdge.append(tt.iloc[x]) #only tyrosine side chain to base edge\n",
    "        if ('ASN' in tt.iloc[x]['Donor']) and ('OP' in tt.iloc[x]['#Acceptor']):\n",
    "            outASN_bb.append(tt.iloc[x]) #only asparagine side chain to DNA bb\n",
    "        if ('THR' in tt.iloc[x]['Donor']) and ('OP' in tt.iloc[x]['#Acceptor']):\n",
    "            outTHR_bb.append(tt.iloc[x]) #only threonine side chain to DNA bb   \n",
    "        if ('TYR_46' in tt.iloc[x]['Donor']) and ('OP' in tt.iloc[x]['#Acceptor']):\n",
    "            outTYR_bb.append(tt.iloc[x]) #only tyrosine side chain to DNA bb\n",
    "        if ('TYR_381' in tt.iloc[x]['Donor']) and ('OP' in tt.iloc[x]['#Acceptor']):\n",
    "            outTYR_bb.append(tt.iloc[x]) #only tyrosine side chain to DNA bb\n",
    "        if ('GLN' in tt.iloc[x]['Donor']) and ('OP' in tt.iloc[x]['#Acceptor']):\n",
    "            outGLN_bb.append(tt.iloc[x]) #only glutamine side chain to DNA bb\n",
    "    #return(outTYR_baseEdge)     \n",
    "    residue_list=[]\n",
    "    list_list=[outLEU_bb,outSER_bb,outTYR_baseEdge,outTHR_bb,outARG_baseEdge,outASN_bb,outTYR_bb,outGLN_bb]    \n",
    "    for j in list_list:\n",
    "        if j==[]:\n",
    "            print('Empty!')\n",
    "            \"you need to fill in 0 for for Frac in case you don't have a measurement\"\n",
    "        else:\n",
    "            res=plot_hb_aa.groupby_res_Frac_max_donor(j)#groupby residue, get the fractions and take the max\n",
    "            #print(res)\n",
    "            residue_list.append(res)\n",
    "\n",
    "    return([pd.DataFrame(x) for x in residue_list])"
   ]
  },
  {
   "cell_type": "code",
   "execution_count": 59,
   "metadata": {},
   "outputs": [],
   "source": [
    "def All_avg_hb(folder,name,salt,model):\n",
    "    Replica_Fracs=[]\n",
    "    Avg_acc, Avg_don=plot_hb_aa.avg(folder)\n",
    "    for i in range(len(Avg_don)):#iterate replica\n",
    "        residues=[]\n",
    "        Replica_Frac=get_hb_bind(Avg_don[i])\n",
    "        for j in Replica_Frac: #iterate residues\n",
    "            j['Replica']=[i+1 for x in j.index]\n",
    "            j['Complex']=[name for x in j.index]\n",
    "            j['Salt']=[salt for x in j.index]\n",
    "            j['Model']=[model for x in j.index]\n",
    "            j.reset_index(level=0, inplace=True)\n",
    "           # j.replace(dictionay_resAA, inplace=True)\n",
    "            j.rename(columns={'Donor':'Residue','Frac':'Occupancy'},inplace=True)\n",
    "            j=j[['Occupancy','Replica','Complex','Salt','Model','Residue']]\n",
    "            j.index=j['Residue']\n",
    "            residues.append(j)\n",
    "        Replica_Fracs.append(pd.concat([x for x in residues]))\n",
    "    dfs=pd.concat([y for y in Replica_Fracs])\n",
    "    return(dfs)\n",
    "def subset_aa(data,region):\n",
    "    df_sub=data[data['Residue'].isin(region)]\n",
    "    name=data['Complex'].iloc[0]\n",
    "    salt=data['Salt'].iloc[0]\n",
    "    model=data['Model'].iloc[0]\n",
    "    \"Check how many replica you have\"\n",
    "    Replica=np.unique(data['Replica'])\n",
    "    print(Replica)\n",
    "    add_dfs=[]\n",
    "    \"Fill in 0 for each missing datapoint\"\n",
    "    for j in Replica: #iterate over the replica you have\n",
    "        Add=[]\n",
    "        Rep=df_sub[df_sub['Replica']==j] #get the data for one replica\n",
    "        for i in region:\n",
    "            \"Check if the value is in the data\"\n",
    "            if i in [x for x in Rep.index]:\n",
    "                print('OK!')\n",
    "            else:\n",
    "                Add=i\n",
    "                zeros=0.0000\n",
    "                Name=name\n",
    "                replica=j\n",
    "                add_dfs.append(pd.DataFrame(np.reshape([zeros,replica,Name,salt,model,Add],(1,6)),index=[Add],columns=['Occupancy','Replica','Complex','Salt','Model','Residue']))\n",
    "\n",
    "    print(len(add_dfs))\n",
    "    if len(add_dfs)==0:\n",
    "        concat=df_sub\n",
    "    elif len(add_dfs)==1:\n",
    "        add_df=add_dfs[0].astype({\"Occupancy\": float})\n",
    "        concat=pd.concat([df_sub,add_df])\n",
    "    else:\n",
    "        add_df=pd.concat([x.astype({\"Occupancy\": float}) for x in add_dfs])\n",
    "        concat=pd.concat([df_sub,add_df])\n",
    "    concat['Residue'].replace(dictionay_resAA, inplace=True)\n",
    "    concat.index=list(concat['Residue'])\n",
    "    \n",
    "    return(concat)"
   ]
  },
  {
   "cell_type": "code",
   "execution_count": 60,
   "metadata": {},
   "outputs": [
    {
     "data": {
      "text/plain": [
       "['TYR_16', 'ARG_21', 'TYR_351', 'ARG_356']"
      ]
     },
     "execution_count": 60,
     "metadata": {},
     "output_type": "execute_result"
    }
   ],
   "source": [
    "spec_aa"
   ]
  },
  {
   "cell_type": "code",
   "execution_count": 63,
   "metadata": {},
   "outputs": [
    {
     "name": "stdout",
     "output_type": "stream",
     "text": [
      "Empty!\n",
      "Empty!\n",
      "Empty!\n",
      "[1 2 3 4 5]\n",
      "OK!\n",
      "OK!\n",
      "OK!\n",
      "OK!\n",
      "OK!\n",
      "OK!\n",
      "OK!\n",
      "OK!\n",
      "OK!\n",
      "OK!\n",
      "OK!\n",
      "OK!\n",
      "OK!\n",
      "OK!\n",
      "OK!\n",
      "OK!\n",
      "OK!\n",
      "OK!\n",
      "OK!\n",
      "OK!\n",
      "OK!\n",
      "OK!\n",
      "OK!\n",
      "OK!\n",
      "OK!\n",
      "OK!\n",
      "OK!\n",
      "OK!\n",
      "OK!\n",
      "OK!\n",
      "OK!\n",
      "OK!\n",
      "OK!\n",
      "OK!\n",
      "OK!\n",
      "OK!\n",
      "OK!\n",
      "OK!\n",
      "OK!\n",
      "OK!\n",
      "OK!\n",
      "OK!\n",
      "OK!\n",
      "OK!\n",
      "OK!\n",
      "OK!\n",
      "OK!\n",
      "OK!\n",
      "OK!\n",
      "OK!\n",
      "OK!\n",
      "OK!\n",
      "OK!\n",
      "OK!\n",
      "56\n",
      "Empty!\n",
      "Empty!\n",
      "Empty!\n",
      "Empty!\n",
      "Empty!\n",
      "Empty!\n",
      "Empty!\n",
      "Empty!\n",
      "Empty!\n",
      "[1 2 3 4 5]\n",
      "OK!\n",
      "OK!\n",
      "OK!\n",
      "OK!\n",
      "OK!\n",
      "OK!\n",
      "OK!\n",
      "OK!\n",
      "OK!\n",
      "OK!\n",
      "OK!\n",
      "OK!\n",
      "OK!\n",
      "OK!\n",
      "OK!\n",
      "OK!\n",
      "OK!\n",
      "OK!\n",
      "OK!\n",
      "OK!\n",
      "OK!\n",
      "OK!\n",
      "OK!\n",
      "OK!\n",
      "OK!\n",
      "OK!\n",
      "OK!\n",
      "OK!\n",
      "OK!\n",
      "OK!\n",
      "OK!\n",
      "OK!\n",
      "OK!\n",
      "OK!\n",
      "OK!\n",
      "OK!\n",
      "OK!\n",
      "OK!\n",
      "OK!\n",
      "OK!\n",
      "OK!\n",
      "OK!\n",
      "OK!\n",
      "OK!\n",
      "OK!\n",
      "OK!\n",
      "OK!\n",
      "OK!\n",
      "OK!\n",
      "OK!\n",
      "OK!\n",
      "OK!\n",
      "58\n",
      "Empty!\n",
      "Empty!\n",
      "Empty!\n",
      "Empty!\n",
      "Empty!\n",
      "Empty!\n",
      "Empty!\n",
      "Empty!\n",
      "Empty!\n",
      "Empty!\n",
      "Empty!\n",
      "Empty!\n",
      "[1 2 3 4 5]\n",
      "OK!\n",
      "OK!\n",
      "OK!\n",
      "OK!\n",
      "OK!\n",
      "OK!\n",
      "OK!\n",
      "OK!\n",
      "OK!\n",
      "OK!\n",
      "OK!\n",
      "OK!\n",
      "OK!\n",
      "OK!\n",
      "OK!\n",
      "OK!\n",
      "OK!\n",
      "OK!\n",
      "OK!\n",
      "OK!\n",
      "OK!\n",
      "OK!\n",
      "OK!\n",
      "OK!\n",
      "OK!\n",
      "OK!\n",
      "OK!\n",
      "OK!\n",
      "OK!\n",
      "OK!\n",
      "OK!\n",
      "OK!\n",
      "OK!\n",
      "OK!\n",
      "OK!\n",
      "OK!\n",
      "OK!\n",
      "OK!\n",
      "OK!\n",
      "OK!\n",
      "OK!\n",
      "OK!\n",
      "OK!\n",
      "OK!\n",
      "OK!\n",
      "OK!\n",
      "OK!\n",
      "OK!\n",
      "OK!\n",
      "OK!\n",
      "OK!\n",
      "OK!\n",
      "OK!\n",
      "OK!\n",
      "OK!\n",
      "OK!\n",
      "54\n"
     ]
    }
   ],
   "source": [
    "\"All-atom\"\n",
    "Straight_S_A10=subset_aa(All_avg_hb(SStraight_folder_2A10_aa,'S_',0.03,'AA'),Allr_aa)\n",
    "Straight_S_A3=subset_aa(All_avg_hb(SStraight_folder_3A3_aa,'S_',0.03,'AA'),Allr_aa)\n",
    "###Straight_S_35=subset_aa(All_avg_hb(SStraight_folder_3A3,'S_35',0.03,'AA'),Allr_aa)\n",
    "Straight_R=subset_aa(All_avg_hb(RStraight_folder_aa,'R_',0.03,'AA'),Allr_aa)\n",
    "\n",
    "#Bent_S_A10=subset_aa(All_avg_hb(SBent_folder_2A10_aa,'S:',0.03,'AA'),Allr_aa)\n",
    "#Bent_S_A3=subset_aa(All_avg_hb(SBent_folder_3A3_aa,'S:',0.03,'AA'),Allr_aa)\n",
    "#Bent_R=subset_aa(All_avg_hb(RBent_folder_aa,'R:',0.03,'AA'),Allr_aa)"
   ]
  },
  {
   "cell_type": "code",
   "execution_count": 64,
   "metadata": {},
   "outputs": [
    {
     "name": "stdout",
     "output_type": "stream",
     "text": [
      "[1 2 3 4 5]\n",
      "OK!\n",
      "OK!\n",
      "OK!\n",
      "OK!\n",
      "OK!\n",
      "OK!\n",
      "OK!\n",
      "OK!\n",
      "OK!\n",
      "OK!\n",
      "OK!\n",
      "OK!\n",
      "OK!\n",
      "OK!\n",
      "OK!\n",
      "OK!\n",
      "OK!\n",
      "OK!\n",
      "OK!\n",
      "OK!\n",
      "OK!\n",
      "OK!\n",
      "OK!\n",
      "OK!\n",
      "OK!\n",
      "OK!\n",
      "OK!\n",
      "OK!\n",
      "OK!\n",
      "OK!\n",
      "OK!\n",
      "OK!\n",
      "OK!\n",
      "OK!\n",
      "OK!\n",
      "OK!\n",
      "OK!\n",
      "OK!\n",
      "OK!\n",
      "OK!\n",
      "OK!\n",
      "OK!\n",
      "OK!\n",
      "OK!\n",
      "OK!\n",
      "OK!\n",
      "OK!\n",
      "OK!\n",
      "OK!\n",
      "OK!\n",
      "OK!\n",
      "OK!\n",
      "OK!\n",
      "OK!\n",
      "OK!\n",
      "OK!\n",
      "OK!\n",
      "OK!\n",
      "OK!\n",
      "OK!\n",
      "OK!\n",
      "OK!\n",
      "OK!\n",
      "OK!\n",
      "OK!\n",
      "OK!\n",
      "OK!\n",
      "OK!\n",
      "OK!\n",
      "OK!\n",
      "OK!\n",
      "OK!\n",
      "OK!\n",
      "OK!\n",
      "OK!\n",
      "OK!\n",
      "OK!\n",
      "OK!\n",
      "OK!\n",
      "OK!\n",
      "OK!\n",
      "OK!\n",
      "OK!\n",
      "OK!\n",
      "OK!\n",
      "OK!\n",
      "OK!\n",
      "OK!\n",
      "OK!\n",
      "OK!\n",
      "OK!\n",
      "OK!\n",
      "OK!\n",
      "OK!\n",
      "OK!\n",
      "OK!\n",
      "OK!\n",
      "OK!\n",
      "OK!\n",
      "OK!\n",
      "OK!\n",
      "OK!\n",
      "OK!\n",
      "OK!\n",
      "OK!\n",
      "OK!\n",
      "OK!\n",
      "3\n"
     ]
    }
   ],
   "source": [
    "Specific_R=subset_aa(All_avg_hb(specComp_folder_aa,'R:',0.03,'AA'),Allr_aa)"
   ]
  },
  {
   "cell_type": "code",
   "execution_count": 54,
   "metadata": {},
   "outputs": [],
   "source": [
    "#Straight_S_hi=subset_aa(All_avg_hb(SStraight_folder,'S_',0.03,'AA'),hi_aa)\n",
    "#Straight_R_hi=subset_aa(All_avg_hb(RStraight_folder,'R_',0.03,'AA'),hi_aa)\n",
    "#Specific_R_hi=subset_aa(All_avg_hb(specComp_folder,'R::',0.03,'AA'),hi_aa)\n",
    "#Bent_S_hi=subset_aa(All_avg_hb(SBent_folder,'S:',0.03,'AA'),hi_aa)\n",
    "#Bent_R_hi=subset_aa(All_avg_hb(RBent_folder,'R:',0.03,'AA'),hi_aa)"
   ]
  },
  {
   "cell_type": "code",
   "execution_count": 73,
   "metadata": {},
   "outputs": [
    {
     "ename": "NameError",
     "evalue": "name 'subset_aa' is not defined",
     "output_type": "error",
     "traceback": [
      "\u001b[0;31m---------------------------------------------------------------------------\u001b[0m",
      "\u001b[0;31mNameError\u001b[0m                                 Traceback (most recent call last)",
      "\u001b[0;32m<ipython-input-73-d126891769a5>\u001b[0m in \u001b[0;36m<module>\u001b[0;34m\u001b[0m\n\u001b[0;32m----> 1\u001b[0;31m \u001b[0mStraight_S_22_210\u001b[0m\u001b[0;34m=\u001b[0m\u001b[0msubset_aa\u001b[0m\u001b[0;34m(\u001b[0m\u001b[0mAll_avg_hb\u001b[0m\u001b[0;34m(\u001b[0m\u001b[0mSStraight_folder_2A10_aa\u001b[0m\u001b[0;34m,\u001b[0m\u001b[0;34m'S_'\u001b[0m\u001b[0;34m,\u001b[0m\u001b[0;36m0.03\u001b[0m\u001b[0;34m,\u001b[0m\u001b[0;34m'AA'\u001b[0m\u001b[0;34m)\u001b[0m\u001b[0;34m,\u001b[0m\u001b[0;34m[\u001b[0m\u001b[0;34m'ARG_21'\u001b[0m\u001b[0;34m,\u001b[0m\u001b[0;34m'ARG_356'\u001b[0m\u001b[0;34m]\u001b[0m\u001b[0;34m)\u001b[0m\u001b[0;34m\u001b[0m\u001b[0;34m\u001b[0m\u001b[0m\n\u001b[0m\u001b[1;32m      2\u001b[0m \u001b[0mStraight_S_22_3A3\u001b[0m\u001b[0;34m=\u001b[0m\u001b[0msubset_aa\u001b[0m\u001b[0;34m(\u001b[0m\u001b[0mAll_avg_hb\u001b[0m\u001b[0;34m(\u001b[0m\u001b[0mSStraight_folder_3A3_aa\u001b[0m\u001b[0;34m,\u001b[0m\u001b[0;34m'S_'\u001b[0m\u001b[0;34m,\u001b[0m\u001b[0;36m0.03\u001b[0m\u001b[0;34m,\u001b[0m\u001b[0;34m'AA'\u001b[0m\u001b[0;34m)\u001b[0m\u001b[0;34m,\u001b[0m\u001b[0;34m[\u001b[0m\u001b[0;34m'ARG_21'\u001b[0m\u001b[0;34m,\u001b[0m\u001b[0;34m'ARG_356'\u001b[0m\u001b[0;34m]\u001b[0m\u001b[0;34m)\u001b[0m\u001b[0;34m\u001b[0m\u001b[0;34m\u001b[0m\u001b[0m\n\u001b[1;32m      3\u001b[0m \u001b[0mStraight_R_22\u001b[0m\u001b[0;34m=\u001b[0m\u001b[0msubset_aa\u001b[0m\u001b[0;34m(\u001b[0m\u001b[0mAll_avg_hb\u001b[0m\u001b[0;34m(\u001b[0m\u001b[0mRStraight_folder_aa\u001b[0m\u001b[0;34m,\u001b[0m\u001b[0;34m'R_'\u001b[0m\u001b[0;34m,\u001b[0m\u001b[0;36m0.03\u001b[0m\u001b[0;34m,\u001b[0m\u001b[0;34m'AA'\u001b[0m\u001b[0;34m)\u001b[0m\u001b[0;34m,\u001b[0m\u001b[0;34m[\u001b[0m\u001b[0;34m'ARG_21'\u001b[0m\u001b[0;34m,\u001b[0m\u001b[0;34m'ARG_356'\u001b[0m\u001b[0;34m]\u001b[0m\u001b[0;34m)\u001b[0m\u001b[0;34m\u001b[0m\u001b[0;34m\u001b[0m\u001b[0m\n\u001b[1;32m      4\u001b[0m \u001b[0mSpecific_R_22\u001b[0m\u001b[0;34m=\u001b[0m\u001b[0msubset_aa\u001b[0m\u001b[0;34m(\u001b[0m\u001b[0mAll_avg_hb\u001b[0m\u001b[0;34m(\u001b[0m\u001b[0mspecComp_folder_aa\u001b[0m\u001b[0;34m,\u001b[0m\u001b[0;34m'R:'\u001b[0m\u001b[0;34m,\u001b[0m\u001b[0;36m0.03\u001b[0m\u001b[0;34m,\u001b[0m\u001b[0;34m'AA'\u001b[0m\u001b[0;34m)\u001b[0m\u001b[0;34m,\u001b[0m\u001b[0;34m[\u001b[0m\u001b[0;34m'ARG_21'\u001b[0m\u001b[0;34m,\u001b[0m\u001b[0;34m'ARG_356'\u001b[0m\u001b[0;34m]\u001b[0m\u001b[0;34m)\u001b[0m\u001b[0;34m\u001b[0m\u001b[0;34m\u001b[0m\u001b[0m\n\u001b[1;32m      5\u001b[0m \u001b[0;31m#Bent_S_22_210=subset_aa(All_avg_hb(SBent_folder_2A10_aa,'S:',0.03,'AA'),['ARG_21','ARG_356'])\u001b[0m\u001b[0;34m\u001b[0m\u001b[0;34m\u001b[0m\u001b[0;34m\u001b[0m\u001b[0m\n",
      "\u001b[0;31mNameError\u001b[0m: name 'subset_aa' is not defined"
     ]
    }
   ],
   "source": [
    "Straight_S_22_210=subset_aa(All_avg_hb(SStraight_folder_2A10_aa,'S_',0.03,'AA'),['ARG_21','ARG_356'])\n",
    "Straight_S_22_3A3=subset_aa(All_avg_hb(SStraight_folder_3A3_aa,'S_',0.03,'AA'),['ARG_21','ARG_356'])\n",
    "Straight_R_22=subset_aa(All_avg_hb(RStraight_folder_aa,'R_',0.03,'AA'),['ARG_21','ARG_356'])\n",
    "Specific_R_22=subset_aa(All_avg_hb(specComp_folder_aa,'R:',0.03,'AA'),['ARG_21','ARG_356'])\n",
    "#Bent_S_22_210=subset_aa(All_avg_hb(SBent_folder_2A10_aa,'S:',0.03,'AA'),['ARG_21','ARG_356'])\n",
    "#Bent_S_22_3A3=subset_aa(All_avg_hb(SBent_folder_3A3_aa,'S:',0.03,'AA'),['ARG_21','ARG_356'])\n",
    "#Bent_R_22=subset_aa(All_avg_hb(RBent_folder,'R:',0.03,'AA'),['ARG_21','ARG_356'])"
   ]
  },
  {
   "cell_type": "code",
   "execution_count": null,
   "metadata": {},
   "outputs": [],
   "source": [
    "H2_aa=['TYR_16','THR_18','ARG_21','ASN_24','TYR_351','THR_353','ARG_356','ASN_359']\n",
    "['ARG_21','ARG_356']"
   ]
  },
  {
   "cell_type": "code",
   "execution_count": 90,
   "metadata": {},
   "outputs": [],
   "source": []
  },
  {
   "cell_type": "code",
   "execution_count": 67,
   "metadata": {},
   "outputs": [],
   "source": [
    "tt22=pd.concat([Straight_S_22_210,Straight_S_22_3A3,Straight_R_22,Specific_R_22])#,,Bent_R"
   ]
  },
  {
   "cell_type": "code",
   "execution_count": 138,
   "metadata": {},
   "outputs": [],
   "source": [
    "tt_AA=tt[tt['Model']=='AA']"
   ]
  },
  {
   "cell_type": "code",
   "execution_count": 49,
   "metadata": {},
   "outputs": [
    {
     "data": {
      "image/png": "[encoded data removed]",
      "text/plain": [
       "<Figure size 151.2x151.2 with 1 Axes>"
      ]
     },
     "metadata": {
      "image/png": {
       "height": 143,
       "width": 139
      },
      "needs_background": "light"
     },
     "output_type": "display_data"
    }
   ],
   "source": [
    "tt=pd.concat([tt_SB,tt_RB,tt_SA,tt_RA])#,,Bent_R\n",
    "tt.replace({'S_':'$search$_','S:':'$search$:','R_':'$recog.$_','R:':'$recog.$:'},inplace=True)\n",
    "fig, ax = plt.subplots(figsize = (2.1,2.1))\n",
    "#g=sns.boxplot(x='Complex',y='Occupancy',hue='Model',data=subset(tt,all_p),width=0.7,linewidth=0.7,palette='Set1',medianprops={'color':'cyan'})\n",
    "sns.stripplot(x='Complex',y='Occupancy',hue='Model',data=subset(tt,all_p),palette=\"Set1\",dodge=0.1,linewidth=0.7,alpha=0.3)\n",
    "b=sns.violinplot(x='Complex',y='Occupancy',data=subset(tt,all_p),palette=['grey','white'],scale='area')\n",
    "\n",
    "#,scale='area'\n",
    "ax.tick_params(\n",
    "        axis='both',          # changes apply to the x-axis\n",
    "        which='both',      # both major and minor ticks are affected\n",
    "        bottom=True,      # ticks along the bottom edge are off\n",
    "        top=False,         # ticks along the top edge are off\n",
    "        labelbottom=True,\n",
    "        right=False, left=True, labelleft=True,\n",
    "        width = 0.5,\n",
    "        length = 3, color='k',direction ='in')\n",
    "plt.ylim([-0.4,1.8])\n",
    "plt.xticks(rotation=35)\n",
    "sns.despine()\n",
    "plt.legend([],[], frameon=False)\n",
    "plt.title('specific contacts')\n",
    "plt.ylabel('occupancy')\n",
    "plt.legend([],[], frameon=False)\n",
    "#plt.legend(loc='upper left',title_fontsize=9,title='Model',edgecolor='white',\n",
    "#              markerscale=0.6,fontsize=9,ncol=1,labelspacing=0.2,handlelength=0.3,bbox_to_anchor=(1.12, 0.5))\n",
    "plt.tight_layout()\n",
    "plt.savefig('/Users/mallu899/Mirror/projects/lacI_CG_master/LacI_CG_Draft/Figures/VersionX/CG_Con.png',dpi=300,bbox_inches='tight', transparent=True)\n",
    "#plt.savefig('/Users/mallu899/Documents/projects/lacI_CG_master/LacI_CG_Draft/Figures/VersionX/CGvsAA_Con_A3.png',dpi=800,bbox_inches='tight', transparent=True)"
   ]
  },
  {
   "cell_type": "code",
   "execution_count": null,
   "metadata": {},
   "outputs": [],
   "source": []
  },
  {
   "cell_type": "code",
   "execution_count": null,
   "metadata": {},
   "outputs": [],
   "source": []
  },
  {
   "cell_type": "code",
   "execution_count": 69,
   "metadata": {},
   "outputs": [
    {
     "data": {
      "image/png": "[encoded data removed]",
      "text/plain": [
       "<Figure size 151.2x129.6 with 1 Axes>"
      ]
     },
     "metadata": {
      "image/png": {
       "height": 120,
       "width": 132
      },
      "needs_background": "light"
     },
     "output_type": "display_data"
    }
   ],
   "source": [
    "fig, ax = plt.subplots(figsize = (2.1,1.8))\n",
    "#g=sns.boxplot(x='Complex',y='Occupancy',hue='Model',data=subset(tt,all_p),width=0.7,linewidth=0.7,palette='Set1',medianprops={'color':'cyan'})\n",
    "sns.stripplot(x='Complex',y='Occupancy',hue='Model',data=tt22,palette=\"Set1\",dodge=0.1,linewidth=0.7,alpha=0.3)\n",
    "b=sns.violinplot(x='Complex',y='Occupancy',hue='Model',data=tt22,color='0.9',linewidth=0.7)\n",
    "\n",
    "#,scale='area'\n",
    "ax.tick_params(\n",
    "        axis='both',          # changes apply to the x-axis\n",
    "        which='both',      # both major and minor ticks are affected\n",
    "        bottom=True,      # ticks along the bottom edge are off\n",
    "        top=False,         # ticks along the top edge are off\n",
    "        labelbottom=True,\n",
    "        right=False, left=True, labelleft=True,\n",
    "        width = 0.5,\n",
    "        length = 3, color='k',direction ='in')\n",
    "#plt.ylim([-0.4,1.8])\n",
    "plt.xticks(rotation=15)\n",
    "sns.despine()\n",
    "plt.legend([],[], frameon=False)\n",
    "plt.ylabel('h-bond occ.')\n",
    "#plt.legend(loc='upper left',title_fontsize=9,title='Model',edgecolor='white',\n",
    "#              markerscale=0.6,fontsize=9,ncol=1,labelspacing=0.2,handlelength=0.3,bbox_to_anchor=(1.12, 0.5))\n",
    "plt.tight_layout()\n",
    "plt.savefig('/Users/mallu899/Documents/projects/lacI_CG_master/LacI_CG_Draft/Figures/VersionX/AA_Arg22.png',dpi=300,bbox_inches='tight', transparent=True)"
   ]
  },
  {
   "cell_type": "code",
   "execution_count": 80,
   "metadata": {},
   "outputs": [],
   "source": [
    "subset_AA=subset(tt_AA,['Tyr17','Arg22'])"
   ]
  },
  {
   "cell_type": "code",
   "execution_count": 81,
   "metadata": {},
   "outputs": [
    {
     "data": {
      "text/html": [
       "<div>\n",
       "<style scoped>\n",
       "    .dataframe tbody tr th:only-of-type {\n",
       "        vertical-align: middle;\n",
       "    }\n",
       "\n",
       "    .dataframe tbody tr th {\n",
       "        vertical-align: top;\n",
       "    }\n",
       "\n",
       "    .dataframe thead th {\n",
       "        text-align: right;\n",
       "    }\n",
       "</style>\n",
       "<table border=\"1\" class=\"dataframe\">\n",
       "  <thead>\n",
       "    <tr style=\"text-align: right;\">\n",
       "      <th></th>\n",
       "      <th>Occupancy</th>\n",
       "      <th>Replica</th>\n",
       "      <th>Complex</th>\n",
       "      <th>Salt</th>\n",
       "      <th>Model</th>\n",
       "      <th>Residue</th>\n",
       "    </tr>\n",
       "  </thead>\n",
       "  <tbody>\n",
       "    <tr>\n",
       "      <th>Tyr17</th>\n",
       "      <td>0.0044</td>\n",
       "      <td>1</td>\n",
       "      <td>S_</td>\n",
       "      <td>0.03</td>\n",
       "      <td>AA</td>\n",
       "      <td>Tyr17</td>\n",
       "    </tr>\n",
       "    <tr>\n",
       "      <th>Arg22</th>\n",
       "      <td>0.0036</td>\n",
       "      <td>1</td>\n",
       "      <td>S_</td>\n",
       "      <td>0.03</td>\n",
       "      <td>AA</td>\n",
       "      <td>Arg22</td>\n",
       "    </tr>\n",
       "    <tr>\n",
       "      <th>Tyr17</th>\n",
       "      <td>0.3050</td>\n",
       "      <td>2</td>\n",
       "      <td>S_</td>\n",
       "      <td>0.03</td>\n",
       "      <td>AA</td>\n",
       "      <td>Tyr17</td>\n",
       "    </tr>\n",
       "    <tr>\n",
       "      <th>Arg22</th>\n",
       "      <td>0.6364</td>\n",
       "      <td>2</td>\n",
       "      <td>S_</td>\n",
       "      <td>0.03</td>\n",
       "      <td>AA</td>\n",
       "      <td>Arg22</td>\n",
       "    </tr>\n",
       "    <tr>\n",
       "      <th>Tyr17</th>\n",
       "      <td>0.0074</td>\n",
       "      <td>3</td>\n",
       "      <td>S_</td>\n",
       "      <td>0.03</td>\n",
       "      <td>AA</td>\n",
       "      <td>Tyr17</td>\n",
       "    </tr>\n",
       "    <tr>\n",
       "      <th>...</th>\n",
       "      <td>...</td>\n",
       "      <td>...</td>\n",
       "      <td>...</td>\n",
       "      <td>...</td>\n",
       "      <td>...</td>\n",
       "      <td>...</td>\n",
       "    </tr>\n",
       "    <tr>\n",
       "      <th>Tyr17</th>\n",
       "      <td>0.9371</td>\n",
       "      <td>5</td>\n",
       "      <td>R::</td>\n",
       "      <td>0.03</td>\n",
       "      <td>AA</td>\n",
       "      <td>Tyr17</td>\n",
       "    </tr>\n",
       "    <tr>\n",
       "      <th>Arg22</th>\n",
       "      <td>0.8941</td>\n",
       "      <td>5</td>\n",
       "      <td>R::</td>\n",
       "      <td>0.03</td>\n",
       "      <td>AA</td>\n",
       "      <td>Arg22</td>\n",
       "    </tr>\n",
       "    <tr>\n",
       "      <th>Arg22</th>\n",
       "      <td>0.0000</td>\n",
       "      <td>1</td>\n",
       "      <td>R::</td>\n",
       "      <td>0.03</td>\n",
       "      <td>AA</td>\n",
       "      <td>Arg22</td>\n",
       "    </tr>\n",
       "    <tr>\n",
       "      <th>Arg22</th>\n",
       "      <td>0.0000</td>\n",
       "      <td>4</td>\n",
       "      <td>R::</td>\n",
       "      <td>0.03</td>\n",
       "      <td>AA</td>\n",
       "      <td>Arg22</td>\n",
       "    </tr>\n",
       "    <tr>\n",
       "      <th>Arg22</th>\n",
       "      <td>0.0000</td>\n",
       "      <td>5</td>\n",
       "      <td>R::</td>\n",
       "      <td>0.03</td>\n",
       "      <td>AA</td>\n",
       "      <td>Arg22</td>\n",
       "    </tr>\n",
       "  </tbody>\n",
       "</table>\n",
       "<p>92 rows × 6 columns</p>\n",
       "</div>"
      ],
      "text/plain": [
       "       Occupancy Replica Complex  Salt Model Residue\n",
       "Tyr17     0.0044       1      S_  0.03    AA   Tyr17\n",
       "Arg22     0.0036       1      S_  0.03    AA   Arg22\n",
       "Tyr17     0.3050       2      S_  0.03    AA   Tyr17\n",
       "Arg22     0.6364       2      S_  0.03    AA   Arg22\n",
       "Tyr17     0.0074       3      S_  0.03    AA   Tyr17\n",
       "...          ...     ...     ...   ...   ...     ...\n",
       "Tyr17     0.9371       5     R::  0.03    AA   Tyr17\n",
       "Arg22     0.8941       5     R::  0.03    AA   Arg22\n",
       "Arg22     0.0000       1     R::  0.03    AA   Arg22\n",
       "Arg22     0.0000       4     R::  0.03    AA   Arg22\n",
       "Arg22     0.0000       5     R::  0.03    AA   Arg22\n",
       "\n",
       "[92 rows x 6 columns]"
      ]
     },
     "execution_count": 81,
     "metadata": {},
     "output_type": "execute_result"
    }
   ],
   "source": [
    "subset_AA"
   ]
  },
  {
   "cell_type": "code",
   "execution_count": 82,
   "metadata": {},
   "outputs": [],
   "source": [
    "subset_AA_0=subset_AA[subset_AA['Occupancy']!=0.0000]"
   ]
  },
  {
   "cell_type": "code",
   "execution_count": 83,
   "metadata": {},
   "outputs": [
    {
     "data": {
      "image/png": "[encoded data removed]",
      "text/plain": [
       "<Figure size 180x144 with 1 Axes>"
      ]
     },
     "metadata": {
      "image/png": {
       "height": 137,
       "width": 174
      },
      "needs_background": "light"
     },
     "output_type": "display_data"
    }
   ],
   "source": [
    "fig, ax = plt.subplots(figsize = (2.5,2))\n",
    "g=sns.stripplot(x='Replica',y='Occupancy',hue='Complex',data=subset_AA_0,linewidth=0.7,palette='Set1', dodge=True)\n",
    "ax.tick_params(\n",
    "\n",
    "        axis='both',          # changes apply to the x-axis\n",
    "        which='both',      # both major and minor ticks are affected\n",
    "        bottom=True,      # ticks along the bottom edge are off\n",
    "        top=False,         # ticks along the top edge are off\n",
    "        labelbottom=True,\n",
    "        right=False, left=True, labelleft=True,\n",
    "        width = 0.5,\n",
    "        length = 3, color='k',direction ='in')\n",
    "plt.ylim([-0.1,1.1])\n",
    "plt.xticks(rotation=15)\n",
    "sns.despine()\n",
    "#plt.legend([],[], frameon=False)\n",
    "#plt.legend(loc='upper right',title_fontsize=9,title='Model',edgecolor='white',\n",
    " #             markerscale=0.6,fontsize=9,ncol=1,labelspacing=0.2,handlelength=0.3,bbox_to_anchor=(1.12, 0.5))\n",
    "plt.tight_layout()\n"
   ]
  },
  {
   "cell_type": "code",
   "execution_count": 157,
   "metadata": {},
   "outputs": [
    {
     "data": {
      "image/png": "[encoded data removed]",
      "text/plain": [
       "<Figure size 180x144 with 1 Axes>"
      ]
     },
     "metadata": {
      "image/png": {
       "height": 138,
       "width": 174
      },
      "needs_background": "light"
     },
     "output_type": "display_data"
    }
   ],
   "source": [
    "fig, ax = plt.subplots(figsize = (2.1,1.8))\n",
    "g=sns.barplot(x='Complex',y='Occupancy',hue='Model',data=subset(tt,all_p),linewidth=0.7,palette='Set1', dodge=True)\n",
    "ax.tick_params(\n",
    "\n",
    "        axis='both',          # changes apply to the x-axis\n",
    "        which='both',      # both major and minor ticks are affected\n",
    "        bottom=True,      # ticks along the bottom edge are off\n",
    "        top=False,         # ticks along the top edge are off\n",
    "        labelbottom=True,\n",
    "        right=False, left=True, labelleft=True,\n",
    "        width = 0.5,\n",
    "        length = 3, color='k',direction ='in')\n",
    "plt.ylim([-0.1,1.1])\n",
    "plt.xticks(rotation=15)\n",
    "sns.despine()\n",
    "plt.legend([],[], frameon=False)\n",
    "#plt.legend(loc='upper right',title_fontsize=9,title='Model',edgecolor='white',\n",
    "             # markerscale=0.6,fontsize=9,ncol=1,labelspacing=0.2,handlelength=0.3,bbox_to_anchor=(1.12, 0.5))\n",
    "plt.tight_layout()\n",
    "plt.savefig('/Users/mallu899/Documents/projects/lacI_CG_master/LacI_CG_Draft/Figures/VersionX/CGvsAA_Con_st.png',dpi=800,bbox_inches='tight', transparent=True)"
   ]
  },
  {
   "cell_type": "markdown",
   "metadata": {},
   "source": [
    "Plot bot, all specific residues and just the two 'important' ones!"
   ]
  }
 ],
 "metadata": {
  "kernelspec": {
   "display_name": "Python 3",
   "language": "python",
   "name": "python3"
  },
  "language_info": {
   "codemirror_mode": {
    "name": "ipython",
    "version": 3
   },
   "file_extension": ".py",
   "mimetype": "text/x-python",
   "name": "python",
   "nbconvert_exporter": "python",
   "pygments_lexer": "ipython3",
   "version": "3.6.10"
  }
 },
 "nbformat": 4,
 "nbformat_minor": 4
}
