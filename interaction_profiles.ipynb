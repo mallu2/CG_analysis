{
 "cells": [
  {
   "cell_type": "code",
   "execution_count": 1,
   "metadata": {},
   "outputs": [],
   "source": [
    "\"\"\"Read in the right files\"\"\"\n",
    "BindingProfile='/Users/mallu899/Documents/projects/lacI_CG_master/data/fullLength_txt/BindingProfile'\n",
    "from matplotlib import rc\n",
    "\n",
    "from IPython.display import set_matplotlib_formats\n",
    "set_matplotlib_formats('retina')\n",
    "import numpy as np\n",
    "import pandas as pd\n",
    "font = {'family' : 'Helvetica','size'   : 9,'weight':  'normal'}\n",
    "rc('font', **font)  # pass in the font dict as kwargs\n",
    "import matplotlib.pyplot as plt\n",
    "import seaborn as sns"
   ]
  },
  {
   "cell_type": "code",
   "execution_count": 2,
   "metadata": {},
   "outputs": [],
   "source": [
    "f_1efa_distance_to_axis = ('/Users/mallu899/Mirror/projects/lacI_CG_master/scripts_and_notebooks/AnalysisPy/Binding/1efa_distancesToAxis.txt','r')\n",
    "f_NMR = ('/Users/mallu899/Mirror/projects/lacI_CG_master/scripts_and_notebooks/AnalysisPy/ClosestDistances/1osl_ClosestDist.dat')\n",
    "f_crystal = ('/Users/mallu899/Mirror/projects/lacI_CG_master/scripts_and_notebooks/AnalysisPy/ClosestDistances/1efa_ClosestDist.dat')"
   ]
  },
  {
   "cell_type": "code",
   "execution_count": 3,
   "metadata": {},
   "outputs": [],
   "source": [
    "p1 = np.array([224/256, 236/256, 244/256, 1])\n",
    "p2 = np.array([158/256, 160/256, 218/256, 1])\n",
    "p3 = np.array([136/256, 86/256, 167/256, 1])\n",
    "g1 = np.array([229/256, 245/256, 249/256, 1])\n",
    "g2 = np.array([153/256, 216/256, 201/256, 1])\n",
    "g3 = np.array([44/256, 162/256, 95/256, 1])\n",
    "o1 = np.array([254/256, 232/256, 200/256, 1])\n",
    "o2 = np.array([253/256, 187/256, 132/256, 1])\n",
    "o3 = np.array([227/256, 74/256, 51/256, 1])"
   ]
  },
  {
   "cell_type": "code",
   "execution_count": 4,
   "metadata": {},
   "outputs": [],
   "source": [
    "lacI_sequence_upto_resid_145='''KPVTLYDVAEYAGVSYQTVSRVVNQASHVSAKTREKVEAAMAELNYIPNRVAQQLAGKQSLLIGVATSSLALHAPSQIVAAIKSRADQLGAS\n",
    "VVVSMVERSGVEACKTAVHNLLAQRVSGLIINYPLDDQDAIAVEAAC'''\n",
    "residue_id=np.arange(2,62,1)\n",
    "lacI_DBD_sequence=[x+str(y) for x,y in zip(lacI_sequence_upto_resid_145[0:60],residue_id)]"
   ]
  },
  {
   "cell_type": "code",
   "execution_count": 5,
   "metadata": {},
   "outputs": [
    {
     "ename": "NameError",
     "evalue": "name 'NMR_clostest_distance_CA_P' is not defined",
     "output_type": "error",
     "traceback": [
      "\u001b[0;31m---------------------------------------------------------------------------\u001b[0m",
      "\u001b[0;31mNameError\u001b[0m                                 Traceback (most recent call last)",
      "\u001b[0;32m<ipython-input-5-bcb548f667df>\u001b[0m in \u001b[0;36m<module>\u001b[0;34m\u001b[0m\n\u001b[0;32m----> 1\u001b[0;31m \u001b[0mlist\u001b[0m\u001b[0;34m(\u001b[0m\u001b[0mNMR_clostest_distance_CA_P\u001b[0m\u001b[0;34m[\u001b[0m\u001b[0;36m0\u001b[0m\u001b[0;34m]\u001b[0m\u001b[0;34m[\u001b[0m\u001b[0;36m0\u001b[0m\u001b[0;34m:\u001b[0m\u001b[0;36m60\u001b[0m\u001b[0;34m]\u001b[0m\u001b[0;34m)\u001b[0m\u001b[0;34m\u001b[0m\u001b[0;34m\u001b[0m\u001b[0m\n\u001b[0m",
      "\u001b[0;31mNameError\u001b[0m: name 'NMR_clostest_distance_CA_P' is not defined"
     ]
    }
   ],
   "source": [
    "list(NMR_clostest_distance_CA_P[0][0:60])"
   ]
  },
  {
   "cell_type": "code",
   "execution_count": 6,
   "metadata": {},
   "outputs": [
    {
     "ename": "NameError",
     "evalue": "name 'NMR_clostest_distance_CA_P' is not defined",
     "output_type": "error",
     "traceback": [
      "\u001b[0;31m---------------------------------------------------------------------------\u001b[0m",
      "\u001b[0;31mNameError\u001b[0m                                 Traceback (most recent call last)",
      "\u001b[0;32m<ipython-input-6-29adaf4d394a>\u001b[0m in \u001b[0;36m<module>\u001b[0;34m\u001b[0m\n\u001b[0;32m----> 1\u001b[0;31m \u001b[0mNMR_clostest_distance_CA_P\u001b[0m\u001b[0;34m\u001b[0m\u001b[0;34m\u001b[0m\u001b[0m\n\u001b[0m",
      "\u001b[0;31mNameError\u001b[0m: name 'NMR_clostest_distance_CA_P' is not defined"
     ]
    }
   ],
   "source": [
    "NMR_clostest_distance_CA_P"
   ]
  },
  {
   "cell_type": "code",
   "execution_count": 9,
   "metadata": {},
   "outputs": [
    {
     "ename": "NameError",
     "evalue": "name 'NMR_clostest_distance_CA_P' is not defined",
     "output_type": "error",
     "traceback": [
      "\u001b[0;31m---------------------------------------------------------------------------\u001b[0m",
      "\u001b[0;31mNameError\u001b[0m                                 Traceback (most recent call last)",
      "\u001b[0;32m<ipython-input-9-4a16dcb573e1>\u001b[0m in \u001b[0;36m<module>\u001b[0;34m\u001b[0m\n\u001b[0;32m----> 1\u001b[0;31m df_clostest_distances_NMR_deviation=pd.DataFrame({'residue':lacI_DBD_sequence+lacI_DBD_sequence,'$d_{deviation,Ca\\ P}$':list(NMR_clostest_distance_CA_P[0][0:60]-NMR_clostest_distance_CA_P[1][0:60])\\\n\u001b[0m\u001b[1;32m      2\u001b[0m               +list(NMR_clostest_distance_CA_P[0][0:60]+NMR_clostest_distance_CA_P[1][0:60]),'$low,up$':['lower' for x in range(0,60)]+['upper' for x in range(0,60)]})\n",
      "\u001b[0;31mNameError\u001b[0m: name 'NMR_clostest_distance_CA_P' is not defined"
     ]
    }
   ],
   "source": [
    "df_clostest_distances_NMR_deviation=pd.DataFrame({'residue':lacI_DBD_sequence+lacI_DBD_sequence,'$d_{deviation,Ca\\ P}$':list(NMR_clostest_distance_CA_P[0][0:60]-NMR_clostest_distance_CA_P[1][0:60])\\\n",
    "              +list(NMR_clostest_distance_CA_P[0][0:60]+NMR_clostest_distance_CA_P[1][0:60]),'$low,up$':['lower' for x in range(0,60)]+['upper' for x in range(0,60)]})"
   ]
  },
  {
   "cell_type": "code",
   "execution_count": 10,
   "metadata": {},
   "outputs": [
    {
     "ename": "NameError",
     "evalue": "name 'df_clostest_distances_NMR_deviation' is not defined",
     "output_type": "error",
     "traceback": [
      "\u001b[0;31m---------------------------------------------------------------------------\u001b[0m",
      "\u001b[0;31mNameError\u001b[0m                                 Traceback (most recent call last)",
      "\u001b[0;32m<ipython-input-10-8d20ca764c60>\u001b[0m in \u001b[0;36m<module>\u001b[0;34m\u001b[0m\n\u001b[0;32m----> 1\u001b[0;31m \u001b[0mdf_clostest_distances_NMR_deviation\u001b[0m\u001b[0;34m\u001b[0m\u001b[0;34m\u001b[0m\u001b[0m\n\u001b[0m",
      "\u001b[0;31mNameError\u001b[0m: name 'df_clostest_distances_NMR_deviation' is not defined"
     ]
    }
   ],
   "source": [
    "df_clostest_distances_NMR_deviation"
   ]
  },
  {
   "cell_type": "code",
   "execution_count": 6,
   "metadata": {
    "scrolled": true
   },
   "outputs": [
    {
     "ename": "NameError",
     "evalue": "name 'fNMR' is not defined",
     "output_type": "error",
     "traceback": [
      "\u001b[0;31m---------------------------------------------------------------------------\u001b[0m",
      "\u001b[0;31mNameError\u001b[0m                                 Traceback (most recent call last)",
      "\u001b[0;32m<ipython-input-6-9991181bbe43>\u001b[0m in \u001b[0;36m<module>\u001b[0;34m\u001b[0m\n\u001b[0;32m----> 1\u001b[0;31m \u001b[0mNMR_clostest_distance_CA_P\u001b[0m \u001b[0;34m=\u001b[0m \u001b[0mpd\u001b[0m\u001b[0;34m.\u001b[0m\u001b[0mread_csv\u001b[0m\u001b[0;34m(\u001b[0m\u001b[0mfNMR\u001b[0m\u001b[0;34m,\u001b[0m\u001b[0mheader\u001b[0m\u001b[0;34m=\u001b[0m\u001b[0;32mNone\u001b[0m\u001b[0;34m,\u001b[0m \u001b[0msep\u001b[0m\u001b[0;34m=\u001b[0m\u001b[0;34m'\\s+'\u001b[0m\u001b[0;34m)\u001b[0m\u001b[0;34m\u001b[0m\u001b[0;34m\u001b[0m\u001b[0m\n\u001b[0m\u001b[1;32m      2\u001b[0m \u001b[0mcrystal_clostest_distance_CA_P\u001b[0m \u001b[0;34m=\u001b[0m \u001b[0mpd\u001b[0m\u001b[0;34m.\u001b[0m\u001b[0mread_csv\u001b[0m\u001b[0;34m(\u001b[0m\u001b[0mfcry\u001b[0m\u001b[0;34m,\u001b[0m\u001b[0mheader\u001b[0m\u001b[0;34m=\u001b[0m\u001b[0;32mNone\u001b[0m\u001b[0;34m,\u001b[0m \u001b[0msep\u001b[0m\u001b[0;34m=\u001b[0m\u001b[0;34m'\\s+'\u001b[0m\u001b[0;34m)\u001b[0m\u001b[0;34m\u001b[0m\u001b[0;34m\u001b[0m\u001b[0m\n\u001b[1;32m      3\u001b[0m df_clostest_distances=pd.DataFrame({'residue':lacI_DBD_sequence+lacI_DBD_sequence,'$d_{Ca-P}\\ (Å)$':list(NMR_clostest_distance_CA_P[0][0:60])\\\n\u001b[1;32m      4\u001b[0m               +list(crystal_clostest_distance_CA_P[0][0:60]),'experiment':['NMR' for x in range(0,60)]+['crystallization' for x in range(0,60)]})\n\u001b[1;32m      5\u001b[0m \u001b[0mdf_clostest_distances\u001b[0m\u001b[0;34m\u001b[0m\u001b[0;34m\u001b[0m\u001b[0m\n",
      "\u001b[0;31mNameError\u001b[0m: name 'fNMR' is not defined"
     ]
    }
   ],
   "source": [
    "NMR_clostest_distance_CA_P = pd.read_csv(fNMR,header=None, sep='\\s+')\n",
    "crystal_clostest_distance_CA_P = pd.read_csv(fcry,header=None, sep='\\s+')\n",
    "df_clostest_distances=pd.DataFrame({'residue':lacI_DBD_sequence+lacI_DBD_sequence,'$d_{Ca-P}\\ (Å)$':list(NMR_clostest_distance_CA_P[0][0:60])\\\n",
    "              +list(crystal_clostest_distance_CA_P[0][0:60]),'experiment':['NMR' for x in range(0,60)]+['crystallization' for x in range(0,60)]})\n",
    "df_clostest_distances"
   ]
  },
  {
   "cell_type": "code",
   "execution_count": 7,
   "metadata": {},
   "outputs": [
    {
     "ename": "NameError",
     "evalue": "name 'df_clostest_distances' is not defined",
     "output_type": "error",
     "traceback": [
      "\u001b[0;31m---------------------------------------------------------------------------\u001b[0m",
      "\u001b[0;31mNameError\u001b[0m                                 Traceback (most recent call last)",
      "\u001b[0;32m<ipython-input-7-cdd03fb3d6db>\u001b[0m in \u001b[0;36m<module>\u001b[0;34m\u001b[0m\n\u001b[1;32m      1\u001b[0m \u001b[0mfig\u001b[0m\u001b[0;34m=\u001b[0m\u001b[0mplt\u001b[0m\u001b[0;34m.\u001b[0m\u001b[0msubplots\u001b[0m\u001b[0;34m(\u001b[0m\u001b[0mfigsize\u001b[0m \u001b[0;34m=\u001b[0m \u001b[0;34m(\u001b[0m\u001b[0;36m4.2\u001b[0m\u001b[0;34m,\u001b[0m\u001b[0;36m3.0\u001b[0m\u001b[0;34m)\u001b[0m\u001b[0;34m)\u001b[0m\u001b[0;34m\u001b[0m\u001b[0;34m\u001b[0m\u001b[0m\n\u001b[0;32m----> 2\u001b[0;31m \u001b[0msns\u001b[0m\u001b[0;34m.\u001b[0m\u001b[0mlineplot\u001b[0m\u001b[0;34m(\u001b[0m\u001b[0mdata\u001b[0m\u001b[0;34m=\u001b[0m\u001b[0mdf_clostest_distances\u001b[0m\u001b[0;34m,\u001b[0m\u001b[0mx\u001b[0m\u001b[0;34m=\u001b[0m\u001b[0;34m'residue'\u001b[0m\u001b[0;34m,\u001b[0m\u001b[0my\u001b[0m\u001b[0;34m=\u001b[0m\u001b[0;34m'$d_{Ca-P}\\ (Å)$'\u001b[0m\u001b[0;34m,\u001b[0m\u001b[0mhue\u001b[0m\u001b[0;34m=\u001b[0m\u001b[0;34m'experiment'\u001b[0m\u001b[0;34m,\u001b[0m\u001b[0mstyle\u001b[0m\u001b[0;34m=\u001b[0m\u001b[0;34m\"experiment\"\u001b[0m\u001b[0;34m,\u001b[0m\u001b[0mmarkers\u001b[0m\u001b[0;34m=\u001b[0m\u001b[0;32mTrue\u001b[0m\u001b[0;34m,\u001b[0m\u001b[0mci\u001b[0m\u001b[0;34m=\u001b[0m\u001b[0;34m'sd'\u001b[0m\u001b[0;34m,\u001b[0m\u001b[0mpalette\u001b[0m\u001b[0;34m=\u001b[0m\u001b[0;34m[\u001b[0m\u001b[0mo2\u001b[0m\u001b[0;34m,\u001b[0m\u001b[0;34m'darkcyan'\u001b[0m\u001b[0;34m]\u001b[0m\u001b[0;34m)\u001b[0m\u001b[0;34m\u001b[0m\u001b[0;34m\u001b[0m\u001b[0m\n\u001b[0m\u001b[1;32m      3\u001b[0m \u001b[0msns\u001b[0m\u001b[0;34m.\u001b[0m\u001b[0mlineplot\u001b[0m\u001b[0;34m(\u001b[0m\u001b[0mdata\u001b[0m\u001b[0;34m=\u001b[0m\u001b[0mdf_clostest_distances_NMR_deviation\u001b[0m\u001b[0;34m,\u001b[0m\u001b[0mx\u001b[0m\u001b[0;34m=\u001b[0m\u001b[0;34m'residue'\u001b[0m\u001b[0;34m,\u001b[0m\u001b[0my\u001b[0m\u001b[0;34m=\u001b[0m\u001b[0;34m'$d_{deviation,Ca\\ P}$'\u001b[0m\u001b[0;34m,\u001b[0m\u001b[0mhue\u001b[0m\u001b[0;34m=\u001b[0m\u001b[0;34m'$low,up$'\u001b[0m\u001b[0;34m,\u001b[0m\u001b[0mpalette\u001b[0m\u001b[0;34m=\u001b[0m\u001b[0;34m[\u001b[0m\u001b[0mo2\u001b[0m\u001b[0;34m,\u001b[0m\u001b[0mo2\u001b[0m\u001b[0;34m]\u001b[0m\u001b[0;34m,\u001b[0m\u001b[0;34m)\u001b[0m\u001b[0;34m\u001b[0m\u001b[0;34m\u001b[0m\u001b[0m\n\u001b[1;32m      4\u001b[0m \u001b[0;34m\u001b[0m\u001b[0m\n\u001b[1;32m      5\u001b[0m \u001b[0mplt\u001b[0m\u001b[0;34m.\u001b[0m\u001b[0mlegend\u001b[0m\u001b[0;34m(\u001b[0m\u001b[0;34m[\u001b[0m\u001b[0;34m]\u001b[0m\u001b[0;34m,\u001b[0m\u001b[0;34m[\u001b[0m\u001b[0;34m]\u001b[0m\u001b[0;34m,\u001b[0m \u001b[0mframeon\u001b[0m\u001b[0;34m=\u001b[0m\u001b[0;32mFalse\u001b[0m\u001b[0;34m)\u001b[0m\u001b[0;34m\u001b[0m\u001b[0;34m\u001b[0m\u001b[0m\n",
      "\u001b[0;31mNameError\u001b[0m: name 'df_clostest_distances' is not defined"
     ]
    },
    {
     "data": {
      "image/png": "[encoded data removed]",
      "text/plain": [
       "<Figure size 302.4x216 with 1 Axes>"
      ]
     },
     "metadata": {
      "needs_background": "light"
     },
     "output_type": "display_data"
    }
   ],
   "source": [
    "fig=plt.subplots(figsize = (4.2,3.0))\n",
    "sns.lineplot(data=df_clostest_distances,x='residue',y='$d_{Ca-P}\\ (Å)$',hue='experiment',style=\"experiment\",markers=True,ci='sd',palette=[o2,'darkcyan'])\n",
    "sns.lineplot(data=df_clostest_distances_NMR_deviation,x='residue',y='$d_{deviation,Ca\\ P}$',hue='$low,up$',palette=[o2,o2],)\n",
    "\n",
    "plt.legend([],[], frameon=False)\n",
    "plt.tick_params(\n",
    "    axis='both',          # changes apply to the x-axis\n",
    "    which='both',      # both major and minor ticks are affected\n",
    "    bottom=True,      # ticks along the bottom edge are off\n",
    "    top=False,         # ticks along the top edge are off\n",
    "    labelbottom=True,\n",
    "    labeltop = False,\n",
    "    right=False, left=True, labelleft=True,labelsize='medium',\n",
    "    width = 1,\n",
    "    length = 3, color='k',direction ='in')\n",
    "plt.tight_layout()\n",
    "sns.despine()\n",
    "plt.xticks(range(0,61,5))\n",
    "plt.xticks(rotation=55)\n",
    "plt.savefig('/Users/mallu899/Mirror/projects/lacI_CG_master/LacI_CG_Draft/Figures/SI/NMR_cystal_profile',dpi=300,bbox_inches='tight', transparent=True)"
   ]
  },
  {
   "cell_type": "code",
   "execution_count": null,
   "metadata": {},
   "outputs": [],
   "source": []
  },
  {
   "cell_type": "code",
   "execution_count": 8,
   "metadata": {},
   "outputs": [
    {
     "ename": "NameError",
     "evalue": "name 'NMR_mean' is not defined",
     "output_type": "error",
     "traceback": [
      "\u001b[0;31m---------------------------------------------------------------------------\u001b[0m",
      "\u001b[0;31mNameError\u001b[0m                                 Traceback (most recent call last)",
      "\u001b[0;32m<ipython-input-8-68d9edfc47c6>\u001b[0m in \u001b[0;36m<module>\u001b[0;34m\u001b[0m\n\u001b[1;32m      4\u001b[0m \u001b[0;34m\u001b[0m\u001b[0m\n\u001b[1;32m      5\u001b[0m \u001b[0;34m\u001b[0m\u001b[0m\n\u001b[0;32m----> 6\u001b[0;31m \u001b[0mplt\u001b[0m\u001b[0;34m.\u001b[0m\u001b[0mplot\u001b[0m\u001b[0;34m(\u001b[0m\u001b[0mlist\u001b[0m\u001b[0;34m(\u001b[0m\u001b[0mrange\u001b[0m\u001b[0;34m(\u001b[0m\u001b[0;36m60\u001b[0m\u001b[0;34m)\u001b[0m\u001b[0;34m)\u001b[0m\u001b[0;34m,\u001b[0m\u001b[0mNMR_mean\u001b[0m\u001b[0;34m[\u001b[0m\u001b[0;36m0\u001b[0m\u001b[0;34m]\u001b[0m\u001b[0;34m[\u001b[0m\u001b[0;36m62\u001b[0m\u001b[0;34m:\u001b[0m\u001b[0;36m62\u001b[0m\u001b[0;34m+\u001b[0m\u001b[0;36m60\u001b[0m\u001b[0;34m]\u001b[0m\u001b[0;34m,\u001b[0m\u001b[0;34m'-'\u001b[0m\u001b[0;34m,\u001b[0m \u001b[0mcolor\u001b[0m\u001b[0;34m=\u001b[0m\u001b[0;34m'red'\u001b[0m\u001b[0;34m,\u001b[0m \u001b[0mlabel\u001b[0m \u001b[0;34m=\u001b[0m \u001b[0;34m'search A'\u001b[0m\u001b[0;34m)\u001b[0m\u001b[0;34m\u001b[0m\u001b[0;34m\u001b[0m\u001b[0m\n\u001b[0m\u001b[1;32m      7\u001b[0m \u001b[0mplt\u001b[0m\u001b[0;34m.\u001b[0m\u001b[0mplot\u001b[0m\u001b[0;34m(\u001b[0m\u001b[0mlist\u001b[0m\u001b[0;34m(\u001b[0m\u001b[0mrange\u001b[0m\u001b[0;34m(\u001b[0m\u001b[0;36m60\u001b[0m\u001b[0;34m)\u001b[0m\u001b[0;34m)\u001b[0m\u001b[0;34m,\u001b[0m\u001b[0mNMR_mean\u001b[0m\u001b[0;34m[\u001b[0m\u001b[0;36m0\u001b[0m\u001b[0;34m]\u001b[0m\u001b[0;34m[\u001b[0m\u001b[0;36m0\u001b[0m\u001b[0;34m:\u001b[0m\u001b[0;36m60\u001b[0m\u001b[0;34m]\u001b[0m\u001b[0;34m,\u001b[0m\u001b[0;34m'-'\u001b[0m\u001b[0;34m,\u001b[0m \u001b[0mcolor\u001b[0m\u001b[0;34m=\u001b[0m\u001b[0mp3\u001b[0m\u001b[0;34m,\u001b[0m \u001b[0mlabel\u001b[0m \u001b[0;34m=\u001b[0m \u001b[0;34m'search B'\u001b[0m\u001b[0;34m)\u001b[0m\u001b[0;34m\u001b[0m\u001b[0;34m\u001b[0m\u001b[0m\n\u001b[1;32m      8\u001b[0m \u001b[0mplt\u001b[0m\u001b[0;34m.\u001b[0m\u001b[0mplot\u001b[0m\u001b[0;34m(\u001b[0m\u001b[0mlist\u001b[0m\u001b[0;34m(\u001b[0m\u001b[0mrange\u001b[0m\u001b[0;34m(\u001b[0m\u001b[0;36m60\u001b[0m\u001b[0;34m)\u001b[0m\u001b[0;34m)\u001b[0m\u001b[0;34m,\u001b[0m\u001b[0mcry_mean\u001b[0m\u001b[0;34m[\u001b[0m\u001b[0;36m0\u001b[0m\u001b[0;34m]\u001b[0m\u001b[0;34m[\u001b[0m\u001b[0;36m0\u001b[0m\u001b[0;34m:\u001b[0m\u001b[0;36m60\u001b[0m\u001b[0;34m]\u001b[0m\u001b[0;34m,\u001b[0m\u001b[0;34m'-'\u001b[0m\u001b[0;34m,\u001b[0m \u001b[0mcolor\u001b[0m\u001b[0;34m=\u001b[0m\u001b[0;34m'k'\u001b[0m\u001b[0;34m,\u001b[0m \u001b[0mlabel\u001b[0m \u001b[0;34m=\u001b[0m \u001b[0;34m'recognition A'\u001b[0m\u001b[0;34m)\u001b[0m\u001b[0;34m\u001b[0m\u001b[0;34m\u001b[0m\u001b[0m\n",
      "\u001b[0;31mNameError\u001b[0m: name 'NMR_mean' is not defined"
     ]
    },
    {
     "data": {
      "image/png": "[encoded data removed]",
      "text/plain": [
       "<Figure size 324x180 with 1 Axes>"
      ]
     },
     "metadata": {
      "needs_background": "light"
     },
     "output_type": "display_data"
    }
   ],
   "source": [
    " \"\"\"Plot dissociation association within 32 Å and sliding versus free diffusion\"\"\"\n",
    "\n",
    "fig, ax = plt.subplots(figsize = (4.5,2.5))\n",
    "\n",
    "\n",
    "plt.plot(list(range(60)),NMR_mean[0][62:62+60],'-', color='red', label = 'search A')\n",
    "plt.plot(list(range(60)),NMR_mean[0][0:60],'-', color=p3, label = 'search B')\n",
    "plt.plot(list(range(60)),cry_mean[0][0:60],'-', color='k', label = 'recognition A')\n",
    "plt.plot(list(range(60)),cry_mean[0][59:59+60],'-', color=g2, label = 'recognition B')\n",
    "plt.fill_between(list(range(60)),NMR_mean[0][0:60]-NMR_mean[1][0:60],NMR_mean[0][0:60]+NMR_mean[1][0:60], color='r',alpha=0.4)\n",
    "plt.fill_between(list(range(60)),NMR_mean[0][62:62+60]-NMR_mean[1][62:62+60],NMR_mean[0][62:62+60]+NMR_mean[1][62:62+60], color=p1)\n",
    "\n",
    "\n",
    "#plt.fill_between(list(range(60)),cry_mean[0][59:59+60],'-', color='r', label = '$\\'recognition\\',\\ B_{crystal}$')\n",
    "\n",
    "\n",
    "K_indices = [i for i, s in enumerate(lacIDBDhAA) if ('K') in s]\n",
    "R_indices = [i for i, s in enumerate(lacIDBDhAA) if ('R') in s]\n",
    "pos_ind=K_indices+R_indices \n",
    "\n",
    "D_indices = [i for i, s in enumerate(lacIDBDhAA) if ('D') in s]\n",
    "E_indices = [i for i, s in enumerate(lacIDBDhAA) if ('E') in s]\n",
    "neg_ind=D_indices+E_indices\n",
    "\n",
    "H_indices = [i for i, s in enumerate(lacIDBDhAA) if ('H') in s]\n",
    "H_ind=H_indices\n",
    "\n",
    "spec_ind = [5,15,16,20]\n",
    "\n",
    "plt.scatter(pos_ind,np.zeros(len(pos_ind)), color = 'blue', label='positive residue')\n",
    "plt.scatter(neg_ind,np.zeros(len(neg_ind)), color = 'red', label='negative residue')\n",
    "plt.scatter(H_ind,np.zeros(len(H_ind)), color = 'blue')\n",
    "plt.scatter(spec_ind,np.zeros(len(spec_ind)), color = 'lime', label='specific residue',alpha=0.6)\n",
    "\n",
    "plt.xlabel('residue index', fontsize = 12)\n",
    "plt.ylabel('d (Å)', fontsize = 12)\n",
    "ax.tick_params(\n",
    "    axis='both',          # changes apply to the x-axis\n",
    "    which='both',      # both major and minor ticks are affected\n",
    "    bottom=True,      # ticks along the bottom edge are off\n",
    "    top=True,         # ticks along the top edge are off\n",
    "    labelbottom=True,\n",
    "    labeltop = False,\n",
    "    right=True, left=True, labelleft=True,labelsize='small',\n",
    "    width = 0.5,\n",
    "    length = 3, color='k',direction ='in')\n",
    "\n",
    "plt.legend(loc='center left', bbox_to_anchor=(1., 0.5), fontsize = 12)\n",
    "plt.xticks((range(0,61,10)),(range(2,63,10)), fontsize = 12)\n",
    "plt.yticks((range(0,31,5)),(range(0,30,5)), fontsize = 12)\n",
    "#plt.savefig('/Users/mallu899/Dropbox (lkgroup)/lacI_Searching/Figures/Footprint_start_l',dpi=400,bbox_inches='tight', transparent=True)"
   ]
  },
  {
   "cell_type": "code",
   "execution_count": 9,
   "metadata": {},
   "outputs": [
    {
     "ename": "NameError",
     "evalue": "name 'ref' is not defined",
     "output_type": "error",
     "traceback": [
      "\u001b[0;31m---------------------------------------------------------------------------\u001b[0m",
      "\u001b[0;31mNameError\u001b[0m                                 Traceback (most recent call last)",
      "\u001b[0;32m<ipython-input-9-383f289f046a>\u001b[0m in \u001b[0;36m<module>\u001b[0;34m\u001b[0m\n\u001b[1;32m     69\u001b[0m \u001b[0;34m\u001b[0m\u001b[0m\n\u001b[1;32m     70\u001b[0m \u001b[0;34m\u001b[0m\u001b[0m\n\u001b[0;32m---> 71\u001b[0;31m \u001b[0;32mdef\u001b[0m \u001b[0mplot_dif\u001b[0m\u001b[0;34m(\u001b[0m\u001b[0mfileS\u001b[0m\u001b[0;34m,\u001b[0m\u001b[0mfileR\u001b[0m\u001b[0;34m,\u001b[0m \u001b[0mreference\u001b[0m \u001b[0;34m=\u001b[0m \u001b[0mref\u001b[0m\u001b[0;34m)\u001b[0m\u001b[0;34m:\u001b[0m\u001b[0;34m\u001b[0m\u001b[0;34m\u001b[0m\u001b[0m\n\u001b[0m\u001b[1;32m     72\u001b[0m \u001b[0;34m\u001b[0m\u001b[0m\n\u001b[1;32m     73\u001b[0m     \u001b[0mMean\u001b[0m \u001b[0;34m=\u001b[0m \u001b[0;34m[\u001b[0m\u001b[0;34m]\u001b[0m\u001b[0;34m\u001b[0m\u001b[0;34m\u001b[0m\u001b[0m\n",
      "\u001b[0;31mNameError\u001b[0m: name 'ref' is not defined"
     ]
    }
   ],
   "source": [
    "import matplotlib.pyplot as plt\n",
    "\n",
    "class analyse_traj:\n",
    "    \n",
    "    def COM(data):\n",
    "        \"\"\"Get the Coordinates and do the an operation on it.\"\"\"\n",
    "        COMl = []\n",
    "        for frame in data:\n",
    "            COMl.append(COoperations.COM(Coordinates.get_coord_traj(frame))) \n",
    "        return(COMl)\n",
    "    \n",
    "    def CZ(data):\n",
    "        \"\"\"Get the Coordinates and do the an operation on it.\"\"\"\n",
    "        CZl= []\n",
    "        for frame in data:\n",
    "             CZl.append(COoperations.CZ(Coordinates.get_coord_traj(frame))) \n",
    "        return(CZl)\n",
    "    \n",
    "    def CXY(data):\n",
    "        \"\"\"Get the Coordinates and do the an operation on it.\"\"\"\n",
    "        CXYl = []\n",
    "        for frame in data:\n",
    "            CXYl.append(COoperations.CXY(Coordinates.get_coord_traj(frame))) \n",
    "        return(CXYl)\n",
    "    \n",
    "    def COXY(data):\n",
    "        \"\"\"Get the Coordinates and do the an operation on it.\"\"\"\n",
    "        COXYl = []\n",
    "        for frame in data:\n",
    "            COXYl.append(COoperations.COXY(Coordinates.get_coord_traj(frame))) \n",
    "        return(COXYl)\n",
    "\n",
    "    def CXYCA(data):\n",
    "        \"\"\"Get the Coordinates and do the an operation on it.\"\"\"\n",
    "        CXYCAl = []\n",
    "        for frame in data:\n",
    "            CXYCAl.append(COoperations.CXYCA(Coordinates.get_coord_traj(frame))) \n",
    "        return(CXYCAl)\n",
    "    \n",
    "def Footprint(file,framecount, step):\n",
    "    \"\"\"Get path of all trajectory files in folder and return the Coordinates for all atoms and different regions.\"\"\"\n",
    "\n",
    "    Trajs = glob.glob(file)\n",
    "    Trajs.sort()\n",
    "    iterator = Iterator.traj\n",
    "    print(iterator)\n",
    "    CXI_frame = []\n",
    "    for Traj in Trajs:\n",
    "        \"\"\"Take XY coordinate for each CA bead.\"\"\"\n",
    "        CXI_frame.append(analyse_traj.CXYCA(iterator(Traj,framecount,step)))\n",
    "    Mean_all = []\n",
    "    STD_all = []\n",
    "    for frameData in CXI_frame:\n",
    "        dfi = pd.DataFrame(frameData)\n",
    "        Mean_all.append(dfi.mean())\n",
    "        STD_all.append(dfi.std())\n",
    "    print(Mean_all)\n",
    "    Mean1=pd.DataFrame(Mean_all)\n",
    "    Mean = Mean1.mean()\n",
    "    print(Mean)\n",
    "    Stdev1 = pd.DataFrame(STD_all)\n",
    "    Stdev = Stdev1.mean()\n",
    "    f4 = open('Footprint.txt','w')\n",
    "    for i in list(range(len(Mean))):\n",
    "        f4.write('{l:8.3f}  {m:8.3f} \\n'.format(l = Mean[i],m=Stdev[i]))\n",
    "    f4.close()\n",
    "\n",
    "    return(Mean,Stdev)        \n",
    "\n",
    "\n",
    "def plot_dif(fileS,fileR, reference = ref):\n",
    "       \n",
    "    Mean = []\n",
    "    Std = []\n",
    "\n",
    "    PrintS = pd.read_csv(fileS, sep='\\s+',header=None)\n",
    "    meanS = PrintS[0]\n",
    "    stdevS = PrintS[1]\n",
    "    \n",
    "    PrintR = pd.read_csv(fileR, sep='\\s+',header=None)\n",
    "    meanR = PrintR[0]\n",
    "    stdevR = PrintR[1]\n",
    "    \n",
    "    axes = plt.gca()\n",
    "    #axes.set_ylim([-1,16])\n",
    "    \"\"\"Do some analysis on the sequence\"\"\"\n",
    "    \n",
    "    lacIDBDh='''KPVTLYDVAEYAGVSYQTVSRVVNQASHVSAKTREKVEAAMAELNYIPNRVAQQLAGKQSLLIGVATSSLALHAPSQIVAAIKSRADQLGASVVVSMVERSGVEACKTA\n",
    "    VHNLLAQRVSGLIINYPLDDQDAIAVEAAC'''\n",
    "    \n",
    "    print(len(lacIDBDh))\n",
    "    lacIDBDhAA=[x for x in lacIDBDh][0:61]\n",
    "    print(meanR) \n",
    "\n",
    "    protein = ref\n",
    "    model = int(len(meanR))\n",
    "    dimer = int(len(protein))\n",
    "    model_monomer = int(len(meanR)/2)\n",
    "    monomer = int(dimer/2)\n",
    "    K_indices = [i for i, s in enumerate(lacIDBDhAA) if ('K') in s]\n",
    "    R_indices = [i for i, s in enumerate(lacIDBDhAA) if ('R') in s]\n",
    "    pos_ind=K_indices+R_indices \n",
    "    D_indices = [i for i, s in enumerate(lacIDBDhAA) if ('D') in s]\n",
    "    E_indices = [i for i, s in enumerate(lacIDBDhAA) if ('E') in s]\n",
    "    neg_ind=D_indices+E_indices\n",
    "    H_indices = [i for i, s in enumerate(lacIDBDhAA) if ('H') in s]\n",
    "    H_ind=H_indices\n",
    "\n",
    "    spec_ind = [5,15,16,20]\n",
    "    #plt.plot(list(range(61)),meanS[0:61]-reference[0:61],'-', label='S-state A', color=p3)\n",
    "    #plt.plot(list(range(144)),meanS[0+144:144+144]-reference[359:359+144],'-', label='S-state B', color='orange')\n",
    "    #plt.plot(list(range(61)),meanS[0+359:61+359]-reference[359:359+61],'-', label='S-state B', color=p2)\n",
    "    #plt.plot(list(range(61)),meanR[0:61]-reference[0:61],'-', label='R-state A', color=g3)\n",
    "    #plt.plot(list(range(144)),meanR[0+144:144+144]-reference[359:359+144],'-', label='R-state B', color='lightblue')\n",
    "    #plt.plot(list(range(61)),meanR[0+359:61+359]-reference[359:359+61],'-', label='R-state B', color=g2)\n",
    "    #plt.fill_between(list(range(61)),meanS[0:61]-stdevS[0:61],meanS[0:61]+stdevS[0:61],color='purple',alpha=0.3)\n",
    "    #plt.fill_between(list(range(61)),meanS[0+359:61+359]-stdevS[0+359:61+359],meanS[0+359:61+359]+stdevS[0+359:61+359],color='purple',alpha=0.1)\n",
    "   # plt.fill_between(list(range(61)),meanR[0:61]-stdevR[0:61],meanR[0:61]+stdevR[0:61],color='green',alpha=0.3)\n",
    "    #plt.fill_between(list(range(61)),meanR[0+359:61+359]-stdevR[0+359:61+359],meanR[0+359:61+359]+stdevR[0+359:61+359],color='green',alpha=0.1)\n",
    "\n",
    "    #plt.plot(list(range(61)),meanS[0:61],'-', label='S-state A', color=p3)\n",
    "    #plt.plot(list(range(144)),meanS[0+144:144+144]-reference[359:359+144],'-', label='S-state B', color='orange')\n",
    "    #plt.plot(list(range(61)),meanS[0+359:61+359],'-', label='S-state B', color=p1)\n",
    "    #plt.plot(list(range(61)),meanR[0:61],'-', label='R-state A', color=g3)\n",
    "    #plt.plot(list(range(144)),meanR[0+144:144+144]-reference[359:359+144],'-', label='R-state B', color='lightblue')\n",
    "    #plt.plot(list(range(61)),meanR[0+359:61+359],'-', label='R-state B', color=g2)\n",
    "    plt.scatter(pos_ind,np.zeros(len(pos_ind)), color = 'blue', label='positive',s=1)\n",
    "    plt.scatter(neg_ind,np.zeros(len(neg_ind)), color = 'red', label='negative',s=1)\n",
    "    plt.scatter(H_ind,np.zeros(len(H_ind)), color = 'blue',s=0.5)\n",
    "    plt.scatter(spec_ind,np.zeros(len(spec_ind)), color = 'lime', label='specific',alpha=0.6,s=1)\n",
    "\n",
    "    plt.plot(list(range(61)),meanS[0:61]-meanR[0:61],'-', label='DBD A', color='k',linewidth=1)\n",
    "    plt.plot(list(range(61)),meanS[0+359:61+359]-meanR[0+359:61+359],'-.', label='DBD B', color='k',linewidth=0.5)\n",
    "\n",
    "\n",
    "    plt.legend(loc='center left', bbox_to_anchor=(1, 0.5),fontsize = 12)\n",
    "\n",
    "    plt.ylabel('$\\Delta d_{}$ (Å)')\n",
    "\n",
    "    plt.xlabel('Residue ID')\n",
    "\n",
    "    #plt.grid() \n",
    "\n",
    "    #plt.savefig('/Users/mallu899/Dropbox (lkgroup)/lacI_Searching/Figures/diffusionData/Footprint_dEf.png',dpi=400,bbox_inches='tight')\n",
    "\n",
    "def plot_MS(file, reference = ref):\n",
    "       \n",
    "    Mean = []\n",
    "    Std = []\n",
    "\n",
    "    Print = pd.read_csv(file, sep='\\s+',header=None)\n",
    "    mean = Print[0]\n",
    "    stdev = Print[1]\n",
    "    fig, ax = plt.subplots(figsize = (3.3,2.))\n",
    "    axes = plt.gca()\n",
    "    axes.set_ylim([-3,66])\n",
    "\n",
    "    print(mean) \n",
    "\n",
    "    protein = ref\n",
    "    model = int(len(mean))\n",
    "    dimer = int(len(protein))\n",
    "    model_monomer = int(len(mean)/2)\n",
    "    monomer = int(dimer/2)\n",
    "\n",
    "    plt.plot(list(range(90)),mean[0:90],'-', label='S-State A$_{CG-MD}$', color=p3)\n",
    "    #plt.plot(list(range(90)),mean[144:144+90], label='R-State B$_{CG-MD}$', color='red')\n",
    "    plt.plot(list(range(90)),mean[359:359+90], label='S-State B$_{CG-MD}$', color=p2)\n",
    "    plt.plot(list(range(90)),reference[0:90],'-', color=g3, label = 'R-State A$_{crystal}$')\n",
    "    plt.plot(list(range(90)),reference[359:359+90],'-', color=g2, label = 'R-State B$_{crystal}$')\n",
    "\n",
    "    plt.fill_between(list(range(90)),mean[0:90]-stdev[0:90],mean[0:90]+stdev[0:90], alpha=0.4, label=None,color='orange',)\n",
    "    plt.fill_between(list(range(90)),mean[359:359+90]-stdev[359:359+90],mean[359:359+90]+stdev[359:359+90], alpha=0.5, label=None,color='purple')\n",
    "\n",
    "    plt.ylabel('Distance$_{CA-DNA\\ Axis}$ (Å)')\n",
    "\n",
    "    plt.xlabel('Residue ID')\n",
    "\n",
    "\n",
    "    \"\"\"Do some analysis on the sequence\"\"\"\n",
    "\n",
    "    lacIDBDh='''KPVTLYDVAEYAGVSYQTVSRVVNQASHVSAKTREKVEAAMAELNYIPNRVAQQLAGKQSLLIGVATSSLALHAPSQIVAAIKSRADQLGASVVVSMVERSGVEACKTA\n",
    "    VHNLLAQRVSGLIINYPLDDQDAIAVEAAC'''\n",
    "    \n",
    "    print(len(lacIDBDh))\n",
    "    lacIDBDhAA=[x for x in lacIDBDh]\n",
    "\n",
    "    K_indices = [i for i, s in enumerate(lacIDBDhAA) if ('K') in s]\n",
    "\n",
    "    R_indices = [i for i, s in enumerate(lacIDBDhAA) if ('R') in s]\n",
    "\n",
    "    pos_ind=K_indices+R_indices \n",
    "\n",
    "    D_indices = [i for i, s in enumerate(lacIDBDhAA) if ('D') in s]\n",
    "\n",
    "    E_indices = [i for i, s in enumerate(lacIDBDhAA) if ('E') in s]\n",
    "\n",
    "    neg_ind=D_indices+E_indices\n",
    "\n",
    "    H_indices = [i for i, s in enumerate(lacIDBDhAA) if ('H') in s]\n",
    "\n",
    "    H_ind=H_indices\n",
    "\n",
    "    spec_ind = [5,15,16,20]\n",
    "\n",
    "    plt.scatter(pos_ind,np.zeros(len(pos_ind)), color = 'blue', label='positive')\n",
    "\n",
    "    plt.scatter(neg_ind,np.zeros(len(neg_ind)), color = 'red', label='negative')\n",
    "\n",
    "    plt.scatter(H_ind,np.zeros(len(H_ind)), color = 'blue', alpha=0.7)\n",
    "\n",
    "    plt.scatter(spec_ind,np.zeros(len(spec_ind)), color = 'lime', label='specific',alpha=0.5)\n",
    "    plt.xlim(-2,90)\n",
    "    #plt.grid() \n",
    "    plt.legend(loc='center left', bbox_to_anchor=(1, 0.5))\n",
    "    plt.savefig('/Users/mallu899/Documents/projects/lacI_CG_master/Figures/SFootprint.png',dpi=400,bbox_inches='tight')"
   ]
  },
  {
   "cell_type": "code",
   "execution_count": 10,
   "metadata": {
    "scrolled": false
   },
   "outputs": [
    {
     "ename": "NameError",
     "evalue": "name 'plot_MS' is not defined",
     "output_type": "error",
     "traceback": [
      "\u001b[0;31m---------------------------------------------------------------------------\u001b[0m",
      "\u001b[0;31mNameError\u001b[0m                                 Traceback (most recent call last)",
      "\u001b[0;32m<ipython-input-10-cf32f634b3a3>\u001b[0m in \u001b[0;36m<module>\u001b[0;34m\u001b[0m\n\u001b[0;32m----> 1\u001b[0;31m \u001b[0mplot_MS\u001b[0m\u001b[0;34m(\u001b[0m\u001b[0mBindingProfile\u001b[0m\u001b[0;34m+\u001b[0m\u001b[0;34m'/Footprint_R01.txt'\u001b[0m\u001b[0;34m)\u001b[0m\u001b[0;34m\u001b[0m\u001b[0;34m\u001b[0m\u001b[0m\n\u001b[0m\u001b[1;32m      2\u001b[0m \u001b[0;31m#plot_MS(NDimerfull+'/R02F/')\u001b[0m\u001b[0;34m\u001b[0m\u001b[0;34m\u001b[0m\u001b[0;34m\u001b[0m\u001b[0m\n",
      "\u001b[0;31mNameError\u001b[0m: name 'plot_MS' is not defined"
     ]
    }
   ],
   "source": [
    "plot_MS(BindingProfile+'/Footprint_R01.txt')\n",
    "#plot_MS(NDimerfull+'/R02F/')"
   ]
  },
  {
   "cell_type": "markdown",
   "metadata": {},
   "source": [
    "The distances to DNA in the S-sate are close to the one of the specific complex. They are overall slightly elevated, but minima and mixima overlap. The specifically binding residue Tyr7 is less close, possibly because it is close to two negatively charged residues. Specifically interacting residues Tur17 and Glu18 very close to their position in the tight specific complex. The closest interacting area in the non-specific complex is the loop of His29. The N-terminal part of helix 3, with 3 positively charged residues instead is pushed up slightly compared to the specific complex that allows this area to come closer to the DNA, possibly due to DNA-kinking.\n",
    "For the R-state, most areas interact less close, but the loop around His29 shows the greatest flexibility. and can interact as close as in the S-model. The fit of the structured hinge helixes to the straight DNA results in less interactin of this region, but the core domain of the R_state is closer to DNA again."
   ]
  },
  {
   "cell_type": "code",
   "execution_count": null,
   "metadata": {},
   "outputs": [],
   "source": []
  },
  {
   "cell_type": "code",
   "execution_count": 11,
   "metadata": {},
   "outputs": [
    {
     "ename": "NameError",
     "evalue": "name 'ref' is not defined",
     "output_type": "error",
     "traceback": [
      "\u001b[0;31m---------------------------------------------------------------------------\u001b[0m",
      "\u001b[0;31mNameError\u001b[0m                                 Traceback (most recent call last)",
      "\u001b[0;32m<ipython-input-11-de34e14f2a5a>\u001b[0m in \u001b[0;36m<module>\u001b[0;34m\u001b[0m\n\u001b[0;32m----> 1\u001b[0;31m \u001b[0;32mdef\u001b[0m \u001b[0mplot_dif\u001b[0m\u001b[0;34m(\u001b[0m\u001b[0mfileS\u001b[0m\u001b[0;34m,\u001b[0m\u001b[0mfileR\u001b[0m\u001b[0;34m,\u001b[0m \u001b[0mreference\u001b[0m \u001b[0;34m=\u001b[0m \u001b[0mref\u001b[0m\u001b[0;34m)\u001b[0m\u001b[0;34m:\u001b[0m\u001b[0;34m\u001b[0m\u001b[0;34m\u001b[0m\u001b[0m\n\u001b[0m\u001b[1;32m      2\u001b[0m \u001b[0;34m\u001b[0m\u001b[0m\n\u001b[1;32m      3\u001b[0m     \u001b[0mMean\u001b[0m \u001b[0;34m=\u001b[0m \u001b[0;34m[\u001b[0m\u001b[0;34m]\u001b[0m\u001b[0;34m\u001b[0m\u001b[0;34m\u001b[0m\u001b[0m\n\u001b[1;32m      4\u001b[0m     \u001b[0mStd\u001b[0m \u001b[0;34m=\u001b[0m \u001b[0;34m[\u001b[0m\u001b[0;34m]\u001b[0m\u001b[0;34m\u001b[0m\u001b[0;34m\u001b[0m\u001b[0m\n\u001b[1;32m      5\u001b[0m \u001b[0;34m\u001b[0m\u001b[0m\n",
      "\u001b[0;31mNameError\u001b[0m: name 'ref' is not defined"
     ]
    }
   ],
   "source": [
    "def plot_dif(fileS,fileR, reference = ref):\n",
    "       \n",
    "    Mean = []\n",
    "    Std = []\n",
    "\n",
    "    PrintS = pd.read_csv(fileS, sep='\\s+',header=None)\n",
    "    meanS = PrintS[0]\n",
    "    stdevS = PrintS[1]\n",
    "    \n",
    "    PrintR = pd.read_csv(fileR, sep='\\s+',header=None)\n",
    "    meanR = PrintR[0]\n",
    "    stdevR = PrintR[1]\n",
    "    \n",
    "    axes = plt.gca()\n",
    "    #axes.set_ylim([-1,16])\n",
    "    \"\"\"Do some analysis on the sequence\"\"\"\n",
    "    \n",
    "    lacIDBDh='''KPVTLYDVAEYAGVSYQTVSRVVNQASHVSAKTREKVEAAMAELNYIPNRVAQQLAGKQSLLIGVATSSLALHAPSQIVAAIKSRADQLGASVVVSMVERSGVEACKTA\n",
    "    VHNLLAQRVSGLIINYPLDDQDAIAVEAAC'''\n",
    "    \n",
    "    print(len(lacIDBDh))\n",
    "    lacIDBDhAA=[x for x in lacIDBDh][0:61]\n",
    "    print(meanR) \n",
    "\n",
    "    protein = ref\n",
    "    model = int(len(meanR))\n",
    "    dimer = int(len(protein))\n",
    "    model_monomer = int(len(meanR)/2)\n",
    "    monomer = int(dimer/2)\n",
    "    K_indices = [i for i, s in enumerate(lacIDBDhAA) if ('K') in s]\n",
    "    R_indices = [i for i, s in enumerate(lacIDBDhAA) if ('R') in s]\n",
    "    pos_ind=K_indices+R_indices \n",
    "    D_indices = [i for i, s in enumerate(lacIDBDhAA) if ('D') in s]\n",
    "    E_indices = [i for i, s in enumerate(lacIDBDhAA) if ('E') in s]\n",
    "    neg_ind=D_indices+E_indices\n",
    "    H_indices = [i for i, s in enumerate(lacIDBDhAA) if ('H') in s]\n",
    "    H_ind=H_indices\n",
    "\n",
    "    spec_ind = [5,15,16,20]\n",
    "\n",
    "    sns.lineplot(list(range(61)),meanS[0:61]-meanR[0:61],'-', label='DBD A', color='k',linewidth=1,alpha=0.7)\n",
    "    sns.lineplot(list(range(61)),meanS[0+359:61+359]-meanR[0+359:61+359],'-.', label='DBD B', color='k',linewidth=0.5)\n",
    "    plt.scatter(pos_ind,np.zeros(len(pos_ind)), color = 'blue', label='positive',s=1)\n",
    "    plt.scatter(neg_ind,np.zeros(len(neg_ind)), color = 'red', label='negative',s=1)\n",
    "    plt.scatter(H_ind,np.zeros(len(H_ind)), color = 'blue',s=0.5)\n",
    "    plt.scatter(spec_ind,np.zeros(len(spec_ind)), color = 'lime', label='specific',alpha=0.6,s=1)\n",
    "\n",
    "\n",
    "\n",
    "    plt.legend(loc='center left', bbox_to_anchor=(1, 0.5),fontsize = 12)\n",
    "\n",
    "    plt.ylabel('$\\Delta d_{}$ (Å)')\n",
    "\n",
    "    plt.xlabel('Residue ID')"
   ]
  },
  {
   "cell_type": "code",
   "execution_count": 12,
   "metadata": {},
   "outputs": [],
   "source": [
    "BindingProfile='/Users/mallu899/Mirror/projects/lacI_CG_master/data/fullLength_txt/BindingProfile' "
   ]
  },
  {
   "cell_type": "code",
   "execution_count": 13,
   "metadata": {},
   "outputs": [],
   "source": [
    "distance_Ca_DNA_S01= pd.read_csv(BindingProfile+'/Footprint_S01.txt', sep='\\s+',header=None)\n",
    "distance_Ca_DNA_R01 = pd.read_csv(BindingProfile+'/Footprint_R01.txt', sep='\\s+',header=None)\n",
    "df_clostest_distances_SvsR=pd.DataFrame({'residue':lacI_DBD_sequence+lacI_DBD_sequence,'$d (Å)$':list(distance_Ca_DNA_S01[0][0:60])\\\n",
    "              +list(distance_Ca_DNA_R01[0][0:60]),'conformation':['$search$' for x in range(0,60)]+['$recognition$' for x in range(0,60)]})"
   ]
  },
  {
   "cell_type": "code",
   "execution_count": 18,
   "metadata": {},
   "outputs": [
    {
     "data": {
      "text/html": [
       "<div>\n",
       "<style scoped>\n",
       "    .dataframe tbody tr th:only-of-type {\n",
       "        vertical-align: middle;\n",
       "    }\n",
       "\n",
       "    .dataframe tbody tr th {\n",
       "        vertical-align: top;\n",
       "    }\n",
       "\n",
       "    .dataframe thead th {\n",
       "        text-align: right;\n",
       "    }\n",
       "</style>\n",
       "<table border=\"1\" class=\"dataframe\">\n",
       "  <thead>\n",
       "    <tr style=\"text-align: right;\">\n",
       "      <th></th>\n",
       "      <th>residue</th>\n",
       "      <th>$d (Å)$</th>\n",
       "      <th>conformation</th>\n",
       "    </tr>\n",
       "  </thead>\n",
       "  <tbody>\n",
       "    <tr>\n",
       "      <th>0</th>\n",
       "      <td>K2</td>\n",
       "      <td>19.046</td>\n",
       "      <td>$search$</td>\n",
       "    </tr>\n",
       "    <tr>\n",
       "      <th>1</th>\n",
       "      <td>P3</td>\n",
       "      <td>20.674</td>\n",
       "      <td>$search$</td>\n",
       "    </tr>\n",
       "    <tr>\n",
       "      <th>2</th>\n",
       "      <td>V4</td>\n",
       "      <td>20.446</td>\n",
       "      <td>$search$</td>\n",
       "    </tr>\n",
       "    <tr>\n",
       "      <th>3</th>\n",
       "      <td>T5</td>\n",
       "      <td>17.171</td>\n",
       "      <td>$search$</td>\n",
       "    </tr>\n",
       "    <tr>\n",
       "      <th>4</th>\n",
       "      <td>L6</td>\n",
       "      <td>16.649</td>\n",
       "      <td>$search$</td>\n",
       "    </tr>\n",
       "    <tr>\n",
       "      <th>...</th>\n",
       "      <td>...</td>\n",
       "      <td>...</td>\n",
       "      <td>...</td>\n",
       "    </tr>\n",
       "    <tr>\n",
       "      <th>115</th>\n",
       "      <td>A57</td>\n",
       "      <td>14.437</td>\n",
       "      <td>$recognition$</td>\n",
       "    </tr>\n",
       "    <tr>\n",
       "      <th>116</th>\n",
       "      <td>G58</td>\n",
       "      <td>16.506</td>\n",
       "      <td>$recognition$</td>\n",
       "    </tr>\n",
       "    <tr>\n",
       "      <th>117</th>\n",
       "      <td>K59</td>\n",
       "      <td>18.673</td>\n",
       "      <td>$recognition$</td>\n",
       "    </tr>\n",
       "    <tr>\n",
       "      <th>118</th>\n",
       "      <td>Q60</td>\n",
       "      <td>21.283</td>\n",
       "      <td>$recognition$</td>\n",
       "    </tr>\n",
       "    <tr>\n",
       "      <th>119</th>\n",
       "      <td>S61</td>\n",
       "      <td>24.476</td>\n",
       "      <td>$recognition$</td>\n",
       "    </tr>\n",
       "  </tbody>\n",
       "</table>\n",
       "<p>120 rows × 3 columns</p>\n",
       "</div>"
      ],
      "text/plain": [
       "    residue  $d (Å)$   conformation\n",
       "0        K2   19.046       $search$\n",
       "1        P3   20.674       $search$\n",
       "2        V4   20.446       $search$\n",
       "3        T5   17.171       $search$\n",
       "4        L6   16.649       $search$\n",
       "..      ...      ...            ...\n",
       "115     A57   14.437  $recognition$\n",
       "116     G58   16.506  $recognition$\n",
       "117     K59   18.673  $recognition$\n",
       "118     Q60   21.283  $recognition$\n",
       "119     S61   24.476  $recognition$\n",
       "\n",
       "[120 rows x 3 columns]"
      ]
     },
     "execution_count": 18,
     "metadata": {},
     "output_type": "execute_result"
    }
   ],
   "source": [
    "df_clostest_distances_SvsR"
   ]
  },
  {
   "cell_type": "code",
   "execution_count": null,
   "metadata": {},
   "outputs": [],
   "source": []
  },
  {
   "cell_type": "code",
   "execution_count": 17,
   "metadata": {},
   "outputs": [
    {
     "data": {
      "image/png": "[encoded data removed]",
      "text/plain": [
       "<Figure size 252x151.2 with 1 Axes>"
      ]
     },
     "metadata": {
      "needs_background": "light"
     },
     "output_type": "display_data"
    }
   ],
   "source": [
    "fig, ax = plt.subplots(figsize = (3.5,2.1))\n",
    "sns.lineplot(data=df_clostest_distances_SvsR,x='residue',y='$d (Å)$',hue='conformation',style=\"conformation\",markers=True,ci='sd',palette=[o2,'darkcyan'])\n",
    "plt.legend([],[], frameon=False)\n",
    "plt.tick_params(\n",
    "    axis='both',          # changes apply to the x-axis\n",
    "    which='both',      # both major and minor ticks are affected\n",
    "    bottom=True,      # ticks along the bottom edge are off\n",
    "    top=False,         # ticks along the top edge are off\n",
    "    labelbottom=True,\n",
    "    labeltop = False,\n",
    "    right=False, left=True, labelleft=True,labelsize='medium',\n",
    "    width = 1,\n",
    "    length = 3, color='k',direction ='in')\n",
    "plt.tight_layout()\n",
    "sns.despine()\n",
    "plt.xticks(range(0,61,5))\n",
    "plt.xticks(rotation=55)\n",
    "plt.savefig('/Users/mallu899/Mirror/projects/lacI_CG_master/LacI_CG_Draft/Figures/SI/S_vs_R_profile',dpi=300,bbox_inches='tight', transparent=True)"
   ]
  },
  {
   "cell_type": "code",
   "execution_count": 25,
   "metadata": {},
   "outputs": [
    {
     "data": {
      "image/png": "[encoded data removed]",
      "text/plain": [
       "<Figure size 324x266.4 with 1 Axes>"
      ]
     },
     "metadata": {
      "needs_background": "dark"
     },
     "output_type": "display_data"
    }
   ],
   "source": [
    "fig=plt.subplots(figsize = (4.5,3.7),frameon=False,edgecolor='white')\n",
    "sns.lineplot(data=df_clostest_distances_SvsR,x='residue',y='$d (Å)$',hue='conformation',style=\"conformation\",markers=True,ci='sd',palette=['orange','cyan'])\n",
    "\n",
    "\n",
    "plt.tick_params(\n",
    "    axis='both',          # changes apply to the x-axis\n",
    "    which='both',      # both major and minor ticks are affected\n",
    "    bottom=True,      # ticks along the bottom edge are off\n",
    "    top=False,         # ticks along the top edge are off\n",
    "    labelbottom=True,\n",
    "    labeltop = False,\n",
    "    right=False, left=True, labelleft=True,labelsize='medium',\n",
    "    width = 1,\n",
    "    length = 3, color='white',direction ='in')\n",
    "#plt.title('full dimer')\n",
    "plt.legend(title='conformation',edgecolor='white',loc='upper left',bbox_to_anchor=(1., 1.15),\n",
    "           markerscale=0.6,fontsize=9,ncol=1,labelspacing=0.2,handlelength=0.3)\n",
    "plt.legend([],[], frameon=False)\n",
    "sns.despine()\n",
    "#plt.ylim(-5,220)\n",
    "#plt.xlim(0.008,0.045)\n",
    "plt.ylabel('d (Å))',fontsize = 16,color='white')\n",
    "plt.xlabel('residues',fontsize = 16,color='white')\n",
    "plt.xticks(range(0,61,5),fontsize = 16,color='white',rotation=55)\n",
    "plt.yticks(fontsize = 16,color='white')\n",
    "plt.tight_layout()\n",
    "plt.savefig('/Users/mallu899/Mirror/projects/lacI_CG_master/LacI_CG_Draft/Figures/SI/S_vs_R_profile_presi',dpi=300,bbox_inches='tight', transparent=True)"
   ]
  },
  {
   "cell_type": "markdown",
   "metadata": {},
   "source": [
    "For the crystal structure, the whole protein is between 6-10 Å further away from the DNA. The bindning domain, especially helix 1 and 2 are relatively close, the His29 loop is the point that gets closest. Coparing to the S state, H1 and H2 can be closer to the DNA, specifically inding residuesare closer than in the R, but the difference between R and S is less pronounces. The loop with His29 and Arg22 get much closer in S. The N-terminal end of H3 is similarly far away in S, like in R, but here is some difference between the protomers, B is interacting clsoer here. The hinge helices are the same again in R, but they differ in S. The C-terminal region of H3, with more negative residues is closer for the S as well, which couls result in some repuslion.The hinge region introduces a clear break in the protein for the S-state. The core is further away from the DNA and therefore the DNA-binding regions of the protein. The protein in the R-state is more compact and the core is closer to the DNA. Formation of the kink would result in even closer contatc between the protein core and the DNA backbone. (Is there an effect of charges of the core.)"
   ]
  },
  {
   "cell_type": "markdown",
   "metadata": {},
   "source": [
    "If one substaracts the mean distances from the DNA axis for the R state from the S-sate, negative values indicate regions where the S-state residues are closer to the DNA, positive values show where the R-state is closer to DNA. The S-sate HTH motiv is interacting more closely in general. But especially one region of the hinge helixes is much closer to DNA in the R-sate. This is around Lys59. All in all, positively charged regions are similarly close, despite Arg22 that is much closer in the S-state. Othersie, negtively charges regions of H1 and H3 are closer in the S-sate. The N-terminal Lys2 is also closer in the S-state. For the core. the R-state residues are slightly closer overall, but they cannot contribute much to the non-specific interaction because they are generally too far away from the DNA."
   ]
  },
  {
   "cell_type": "markdown",
   "metadata": {},
   "source": [
    "What are really the specific residues, measure the distances: WHich ones can be established already in the S state?\n"
   ]
  }
 ],
 "metadata": {
  "kernelspec": {
   "display_name": "Python 3",
   "language": "python",
   "name": "python3"
  },
  "language_info": {
   "codemirror_mode": {
    "name": "ipython",
    "version": 3
   },
   "file_extension": ".py",
   "mimetype": "text/x-python",
   "name": "python",
   "nbconvert_exporter": "python",
   "pygments_lexer": "ipython3",
   "version": "3.6.10"
  }
 },
 "nbformat": 4,
 "nbformat_minor": 2
}
