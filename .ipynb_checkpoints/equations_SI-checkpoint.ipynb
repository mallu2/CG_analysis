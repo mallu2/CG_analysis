{
 "cells": [
  {
   "cell_type": "markdown",
   "metadata": {},
   "source": [
    "#### Supplementary Equation 1."
   ]
  },
  {
   "cell_type": "code",
   "execution_count": 9,
   "metadata": {},
   "outputs": [
    {
     "data": {
      "text/latex": [
       "$MSD(\\tau)=\\sum^{n_{\\tau}-\\tau}_{i=t_0} \\frac{(x_{i+\\tau}-x_i)^2}{n_{\\tau}} = 2Dt$\n"
      ],
      "text/plain": [
       "<IPython.core.display.Latex object>"
      ]
     },
     "metadata": {},
     "output_type": "display_data"
    }
   ],
   "source": [
    "%%latex\n",
    "$MSD(\\tau)=\\sum^{n_{\\tau}-\\tau}_{i=t_0} \\frac{(x_{i+\\tau}-x_i)^2}{n_{\\tau}} = 2Dt$"
   ]
  },
  {
   "cell_type": "markdown",
   "metadata": {},
   "source": [
    "#### Supplementary Equation 2."
   ]
  },
  {
   "cell_type": "code",
   "execution_count": 10,
   "metadata": {},
   "outputs": [
    {
     "data": {
      "text/latex": [
       "$MSD_r(\\tau)=\\sum^{n_{\\tau}-\\tau}_{i=t_0} \\frac{(\\phi_{i+\\tau}-\\phi_i)^2}{n_{\\tau}} = 2D_rt$\n"
      ],
      "text/plain": [
       "<IPython.core.display.Latex object>"
      ]
     },
     "metadata": {},
     "output_type": "display_data"
    }
   ],
   "source": [
    "%%latex\n",
    "$MSD_r(\\tau)=\\sum^{n_{\\tau}-\\tau}_{i=t_0} \\frac{(\\phi_{i+\\tau}-\\phi_i)^2}{n_{\\tau}} = 2D_rt$"
   ]
  },
  {
   "cell_type": "markdown",
   "metadata": {},
   "source": [
    "#### Supplementary Equation 3."
   ]
  },
  {
   "cell_type": "code",
   "execution_count": 11,
   "metadata": {},
   "outputs": [
    {
     "data": {
      "text/latex": [
       "$cos(\\phi)=\\frac{\\vec{v_0} \\cdot \\vec{v}}{\\lvert \\vec{v_0}\\rvert \\lvert \\vec{v}\\rvert}$\n"
      ],
      "text/plain": [
       "<IPython.core.display.Latex object>"
      ]
     },
     "metadata": {},
     "output_type": "display_data"
    }
   ],
   "source": [
    "%%latex\n",
    "$cos(\\phi)=\\frac{\\vec{v_0} \\cdot \\vec{v}}{\\lvert \\vec{v_0}\\rvert \\lvert \\vec{v}\\rvert}$\n"
   ]
  },
  {
   "cell_type": "markdown",
   "metadata": {},
   "source": [
    "#### Supplementary Equation 4."
   ]
  },
  {
   "cell_type": "code",
   "execution_count": 12,
   "metadata": {},
   "outputs": [
    {
     "data": {
      "text/latex": [
       "$p=\\sqrt{\\frac{D}{D_r}} \\cdot 2 \\pi$\n"
      ],
      "text/plain": [
       "<IPython.core.display.Latex object>"
      ]
     },
     "metadata": {},
     "output_type": "display_data"
    }
   ],
   "source": [
    "%%latex\n",
    "$p=\\sqrt{\\frac{D}{D_r}} \\cdot 2 \\pi$"
   ]
  },
  {
   "cell_type": "markdown",
   "metadata": {},
   "source": [
    "#### Supplementary Equation 5."
   ]
  },
  {
   "cell_type": "code",
   "execution_count": 13,
   "metadata": {},
   "outputs": [
    {
     "data": {
      "text/latex": [
       "$D_{1D}=D_{helix}+\\frac{x^2_{hop}k_{hop}}{2}$\n"
      ],
      "text/plain": [
       "<IPython.core.display.Latex object>"
      ]
     },
     "metadata": {},
     "output_type": "display_data"
    }
   ],
   "source": [
    "%%latex\n",
    "$D_{1D}=D_{helix}+\\frac{x^2_{hop}k_{hop}}{2}$"
   ]
  },
  {
   "cell_type": "code",
   "execution_count": 18,
   "metadata": {},
   "outputs": [],
   "source": [
    "def one_D_Diffusion(D_helix,x_hop,k_hop):\n",
    "    return(D_helix+((((x_hop*0.34*10**(-3))**2)*k_hop*10**3)/2))\n",
    "#one_D_Diffusion(0.0010,9.4,3.3) , one_D_Diffusion(0.0010,9.8,7.4)"
   ]
  },
  {
   "cell_type": "markdown",
   "metadata": {},
   "source": [
    "#### Supplementary Equation 6."
   ]
  },
  {
   "cell_type": "code",
   "execution_count": 15,
   "metadata": {},
   "outputs": [
    {
     "data": {
      "text/latex": [
       "$(salt=0.02) \\rightarrow\\\\\n",
       "0.0010\\ \\mu m^2 s^{-1} + \\frac{( 9.4\\ bp\\times 0.34 \\times 10 ^{-3} \\mu m\\ bp^{-1})^2 \\times 3.3 \\times 10^3 s^{-1}}{2} =0.018\\ \\mu m^2s^{-1} $\n"
      ],
      "text/plain": [
       "<IPython.core.display.Latex object>"
      ]
     },
     "metadata": {},
     "output_type": "display_data"
    }
   ],
   "source": [
    "%%latex\n",
    "$(salt=0.02) \\rightarrow\\\\\n",
    "0.0010\\ \\mu m^2 s^{-1} + \\frac{( 9.4\\ bp\\times 0.34 \\times 10 ^{-3} \\mu m\\ bp^{-1})^2 \\times 3.3 \\times 10^3 s^{-1}}{2} =0.018\\ \\mu m^2s^{-1} $"
   ]
  },
  {
   "cell_type": "markdown",
   "metadata": {},
   "source": [
    "#### Supplementary Equation 7."
   ]
  },
  {
   "cell_type": "code",
   "execution_count": 16,
   "metadata": {},
   "outputs": [
    {
     "data": {
      "text/latex": [
       "$(salt=0.03) \\rightarrow\\\\\n",
       " 0.0010\\ \\mu m^2 s^{-1} + \\frac{( 0.8\\ bp\\times 0.34 \\times 10 ^{-3} \\mu m\\ bp^{-1})^2 \\times 7.4 \\times 10^3 s^{-1}}{2} =  0.042\\ \\mu m^2s^{-1}$\n"
      ],
      "text/plain": [
       "<IPython.core.display.Latex object>"
      ]
     },
     "metadata": {},
     "output_type": "display_data"
    }
   ],
   "source": [
    "%%latex\n",
    "$(salt=0.03) \\rightarrow\\\\\n",
    " 0.0010\\ \\mu m^2 s^{-1} + \\frac{( 0.8\\ bp\\times 0.34 \\times 10 ^{-3} \\mu m\\ bp^{-1})^2 \\times 7.4 \\times 10^3 s^{-1}}{2} =  0.042\\ \\mu m^2s^{-1}$"
   ]
  }
 ],
 "metadata": {
  "kernelspec": {
   "display_name": "Python 3",
   "language": "python",
   "name": "python3"
  },
  "language_info": {
   "codemirror_mode": {
    "name": "ipython",
    "version": 3
   },
   "file_extension": ".py",
   "mimetype": "text/x-python",
   "name": "python",
   "nbconvert_exporter": "python",
   "pygments_lexer": "ipython3",
   "version": "3.6.10"
  }
 },
 "nbformat": 4,
 "nbformat_minor": 4
}
