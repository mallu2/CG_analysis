{
 "cells": [
  {
   "cell_type": "code",
   "execution_count": 1,
   "metadata": {},
   "outputs": [],
   "source": [
    "import numpy as np\n",
    "import pandas as pd\n",
    "import glob\n",
    "import matplotlib.pyplot as plt\n",
    "import seaborn as sns\n",
    "from IPython.display import set_matplotlib_formats\n",
    "#set_matplotlib_formats('retina')\n",
    "from matplotlib import rc\n",
    "import seaborn as sns\n",
    "import glob \n",
    "font = {'family' : 'Helvetica','size'   : 9,'weight':  'normal'}\n",
    "rc('font', **font)  # pass in the font dict as kwargs\n",
    "o2 = np.array([253/256, 187/256, 132/256, 1])"
   ]
  },
  {
   "cell_type": "code",
   "execution_count": 2,
   "metadata": {},
   "outputs": [],
   "source": [
    "H2_p=['Tyr17','Thr19','Arg22','Asn25','Tyr17.1','Thr19.1','Arg22.1','Asn25.1']\n",
    "H2=['Tyr17','Thr19','Arg22','Asn25','Tyr17','Thr19','Arg22','Asn25']\n",
    "spec_p=['Tyr17','Arg22','Tyr17.1','Arg22.1']\n",
    "spec=['Tyr17','Arg22','Tyr17','Arg22']\n",
    "hi_p=['ARG_50','LYS_58','ARG_385','LYS_393']\n",
    "hi=['Arg51','Lys59','Arg51','Lys59']\n",
    "all_p=['Leu6','Ser16','Tyr17','Thr19','Arg22','Asn25','Ser31','Thr34','Tyr47','Asn50','Gln54','Leu6.1','Ser16.1'\n",
    "         ,'Tyr17.1','Thr19.1','Arg22.1','Asn25.1','Ser31.1','Thr34.1','Tyr47.1','Asn50.1','Gln54.1']\n",
    "all_res=['Leu6','Ser16','Tyr17','Thr19','Arg22','Asn25','Ser31','Thr34','Tyr47','Asn50','Gln54','Leu6','Ser16'\n",
    "         ,'Tyr17','Thr19','Arg22','Asn25','Ser31','Thr34','Tyr47','Asn50','Gln54']\n",
    "H2_aa=['TYR_16','THR_18','ARG_21','ASN_24','TYR_351','THR_353','ARG_356','ASN_359']\n",
    "spec_aa=['TYR_16','ARG_21','TYR_351','ARG_356']\n",
    "hi_aa=['ARG_50','LYS_58','ARG_385','LYS_393']\n",
    "Allr_aa=['LEU_5','SER_15','TYR_16','THR_18','ARG_21','ASN_24','SER_30','THR_33','TYR_46','ASN_49','GLN_53'\n",
    "     ,'LEU_340','SER_350','TYR_351','THR_353','ARG_356','ASN_359','SER_365','THR_368','TYR_381','ASN_384','GLN_388']\n",
    "dictionay_resCG=dict(zip(all_p,all_res))\n"
   ]
  },
  {
   "cell_type": "code",
   "execution_count": 3,
   "metadata": {},
   "outputs": [],
   "source": [
    "\"Location of the data\"\n",
    "data_f = \"/home/malinlu/elflab/Projects/MD_lacI/EXP-20-BV4000_CG_analysis/lacI_CG/data/published_data/\" \n",
    "figures_f = \"/home/malinlu/elflab/Projects/MD_lacI/EXP-20-BV4000_CG_analysis/lacI_CG/data/published_data/Figures/\""
   ]
  },
  {
   "cell_type": "code",
   "execution_count": 4,
   "metadata": {},
   "outputs": [],
   "source": [
    "#Get the CG specific complexes\n",
    "FolderRspecific01A_cg = data_f + 'TargetSite_input_and_trajectories/R_ADNA/R_ADNA_01/'\n",
    "FolderRspecific02A_cg = data_f + 'TargetSite_input_and_trajectories/R_ADNA/R_ADNA_02/'\n",
    "FolderRspecific03A_cg = data_f + 'TargetSite_input_and_trajectories/R_ADNA/R_ADNA_03/'\n",
    "FolderRspecific02B_cg = data_f + 'TargetSite_input_and_trajectories/R_BDNA/R_BDNA_02/'\n",
    "FolderRspecific03B_cg = data_f + 'TargetSite_input_and_trajectories/R_BDNA/R_BDNA_03/'\n",
    "FolderSspecific02A_cg = data_f + 'TargetSite_input_and_trajectories/S_ADNA/S_ADNA_02/'\n",
    "FolderSspecific03A_cg = data_f + 'TargetSite_input_and_trajectories/S_ADNA/S_ADNA_03/'\n",
    "FolderSspecific02B_cg = data_f + 'TargetSite_input_and_trajectories/S_BDNA/S_BDNA_02/'\n",
    "FolderSspecific03B_cg = data_f + 'TargetSite_input_and_trajectories/S_BDNA/S_BDNA_03/'\n",
    "#Get the CG non-specific complexes\n",
    "FolderS02B_cg = data_f + 'fullLacI_trajectories/Ele_LowRep/S02/'\n",
    "FolderS03B_cg = data_f + 'fullLacI_trajectories/Ele_LowRep/S03/'\n",
    "FolderR02B_cg = data_f + 'fullLacI_trajectories/Ele_LowRep/R02/'\n",
    "FolderR03B_cg = data_f + 'fullLacI_trajectories/Ele_LowRep/R03/'"
   ]
  },
  {
   "cell_type": "code",
   "execution_count": 5,
   "metadata": {},
   "outputs": [
    {
     "data": {
      "text/plain": [
       "'/home/malinlu/elflab/Projects/MD_lacI/EXP-20-BV4000_CG_analysis/lacI_CG/data/published_data/TargetSite_input_and_trajectories/S_ADNA/S_ADNA_03/'"
      ]
     },
     "execution_count": 5,
     "metadata": {},
     "output_type": "execute_result"
    }
   ],
   "source": [
    "FolderSspecific03A_cg"
   ]
  },
  {
   "cell_type": "code",
   "execution_count": 6,
   "metadata": {},
   "outputs": [],
   "source": [
    "def read_dis(file):\n",
    "    \"\"\"\"Read the file and return the z coordiante (position along DNA-axis).\n",
    "    \n",
    "    Parameter\n",
    "    ---------\n",
    "    file: str\n",
    "        path to input file\n",
    "    Returns\n",
    "    -------\n",
    "    df['Z']: pandas DataFrame column\n",
    "        position along the DNA axis\"\"\"\n",
    "    \n",
    "    df = pd.read_csv(file, sep='\\s+',header=None,engine='python')\n",
    "    df.rename(columns={0:'Z'},inplace=True)\n",
    "    return(df['Z'])\n",
    "\n",
    "def read_energy(file,name):\n",
    "    \"\"\"Reads the enery file and returns one column.\n",
    "    \n",
    "    Parameter\n",
    "    ---------\n",
    "    file: str\n",
    "        path to input file\n",
    "    name: str \n",
    "        either B-bonded, A-angle,DH-electrostatics,LJ-non-bonded, R-repulsion, El-protein-DNA electrostatics,\n",
    "        and electristatics for protein helices:H1A,H2A...hiB.\n",
    "    Returns\n",
    "    -------\n",
    "    df[name]: column of pandas Dataframe\n",
    "        List of energy during the steps in the trajectory. The energy is specified by name.\"\"\"\n",
    "    \n",
    "    df = pd.read_csv(file, sep='\\s+',header=None,engine='python')\n",
    "    df['total']=df[0]+df[1]+df[2]+df[3]+df[4]\n",
    "        #df.rename(columns={0:'B',1:'A',2:'DH',3:'LJ',4:'R',6:'El'},inplace=True)\n",
    "    df.rename(columns={0:'B',1:'A',2:'DH_all',3:'LJ',4:'R',6:'DH',12:'H1A',\\\n",
    "    14:'H2A',16:'H3A',18:'hiA',13:'H1B',15:'H2B',17:'H3B',19:'hiB'},inplace=True)\n",
    "    return(df[name])"
   ]
  },
  {
   "cell_type": "code",
   "execution_count": 7,
   "metadata": {},
   "outputs": [],
   "source": [
    "def filter_bound(positions,tobefiltered):\n",
    "    \"\"\"Get the index of the protein positioned on the target site (center is on 0 in Z direction)\"\"\"\n",
    "    index_bound = positions[(-10 <= positions['Z']) & (positions['Z'] <= 10)].index\n",
    "    Count_points = len(index_bound)\n",
    "    \"Filterout the data for those frames\"\n",
    "    tobefiltered_bound = tobefiltered.iloc[index_bound]\n",
    "    return(tobefiltered_bound)"
   ]
  },
  {
   "cell_type": "code",
   "execution_count": 8,
   "metadata": {},
   "outputs": [],
   "source": [
    "class plot_CG:\n",
    "    \"\"\"Plotting for the energies obtained form coarse-grained simulations.\n",
    "    \n",
    "    Methods\n",
    "    -------\n",
    "    energy_on_target(Folder,energy):\n",
    "        Get only the energy for the frames where the protein is aligned with the taget site.\n",
    "    contacts_on_target(folder,name,salt,model):\n",
    "        Get only the specific contacts for the frames where the protein is aligned with the taget site.\"\"\"\n",
    "    \n",
    "    def energy_on_target(folder,energy, replica = 5):\n",
    "        \"\"\"Read in the data for displacemnet and energies\n",
    "        \n",
    "        Parameters\n",
    "        ----------\n",
    "        folder: str\n",
    "            path to input data\n",
    "        energy: str\n",
    "            type of energy to extract from EbyType*.dat\n",
    "        Retruns\n",
    "        -------\n",
    "        data: list\n",
    "            data extracted from EbyType*.dat\n",
    "        \"\"\"\n",
    "        \n",
    "        filesDis = glob.glob(folder+'*Displacement.txt')\n",
    "        print(len(filesDis))\n",
    "        filesEl = glob.glob(folder+'el/EbyType*.dat')\n",
    "        #Get the IDs of the files to compare with the right electrostatics file\"\n",
    "        IDsDis = [filesDis[x][-24:-20] for x in list(range(replica))] #the ID is on position -24:-20 in the file name\n",
    "        #Check for the right ID\"\n",
    "        p1 = []\n",
    "        p2 = []\n",
    "        for i in IDsDis:\n",
    "            for file_D in filesDis:\n",
    "                if i in file_D:\n",
    "                    p1.append(file_D)\n",
    "                    \n",
    "            for file_e in filesEl:\n",
    "                if i in file_e:\n",
    "                    p2.append(file_e)\n",
    "        #Get data for the frames on the target sequence\"\n",
    "        data = []\n",
    "        for d,l in zip(p1,p2):\n",
    "            #Read the data from the files and do the analysis.\"\n",
    "            Disdata = pd.DataFrame(read_dis(d))\n",
    "            Eldata = read_energy(l,energy)\n",
    "            #Check if the protein is at the target site and filter out electrostatic energy for this frames.\"\n",
    "            data.append(filter_bound(Disdata, Eldata))\n",
    "        return(data)\n",
    "    \n",
    "    def contacts_on_target(folder,name,salt,model, replica = 5):    \n",
    "        \"\"\"Read the residues and to which extend they are formed\n",
    "            Parameter\n",
    "            ---------\n",
    "            folder: str\n",
    "                path to input data\n",
    "            model: str\n",
    "                define the model\n",
    "            salt: int\n",
    "                salt concentration\n",
    "            name: str\n",
    "                specifies the complex analysed for the column in the dataframe\n",
    "            replica: int\n",
    "                number of replica in folder. Default is 5.\n",
    "            Returns\n",
    "            -------\n",
    "            dfs: list of pandas DataFrames\n",
    "                one DataFrame per replica\n",
    "            df: pandas DataFrame\n",
    "                concatenation of all DataFrames for replica.\n",
    "            \"\"\"\n",
    "        \n",
    "        files_Con = glob.glob(folder+'*Occ.txt')\n",
    "        filesDis = glob.glob(folder+'*Displacement.txt')\n",
    "\n",
    "        #Get the IDs of the frames to compare with the right electrostatics file\"\n",
    "        IDsDis = [filesDis[x][-24:-20] for x in list(range(replica))]\n",
    "        #Check for the right ID\"\n",
    "        position = []\n",
    "        contacts = []\n",
    "        for i in IDsDis:\n",
    "            for file_D in filesDis:\n",
    "                if i in file_D:\n",
    "                    position.append(file_D) #odered files Displacement\n",
    "            for file_e in files_Con:\n",
    "                if i in file_e:\n",
    "                    contacts.append(file_e) #ordered files Contacts\n",
    "\n",
    "        dfs=[]\n",
    "        sums=[]\n",
    "\n",
    "        for i in range(len(position)):\n",
    "            #Read the data from the files and do the analysis.\"\n",
    "            position_n=position[i]\n",
    "            contacts_n=contacts[i]\n",
    "            disdata = pd.read_csv(position_n, sep='\\s+',header=None,engine='python')\n",
    "            disdata.rename(columns={0:'Z'},inplace=True)\n",
    "            contactsdata = pd.read_csv(contacts_n, sep='\\s+',header=0,engine='python')\n",
    "            contacts_bound = filter_bound(disdata,contactsdata)\n",
    "            dfs.append(contacts_bound)\n",
    "            sum_df=pd.DataFrame(contacts_bound.sum())/len(contacts_bound.index)\n",
    "            sum_df.rename(index=dictionay_resCG,inplace=True)\n",
    "            replica=[i+1 for x in sum_df[0]]\n",
    "            complex_=[name for x in sum_df[0]]\n",
    "            Salt=[salt for x in sum_df[0]]\n",
    "            Model=[model for x in sum_df[0]]\n",
    "            sum_df['Replica']=replica\n",
    "            sum_df['Complex']=complex_\n",
    "            sum_df['Salt']=Salt\n",
    "            sum_df['Model']=Model\n",
    "            sum_df['Residue']=sum_df.index\n",
    "            sum_df.rename(columns={0:'Occupancy'},inplace=True)\n",
    "            sums.append(sum_df)\n",
    "\n",
    "        df_sums=pd.concat([x for x in sums])\n",
    "        return(dfs,df_sums)"
   ]
  },
  {
   "cell_type": "code",
   "execution_count": 9,
   "metadata": {},
   "outputs": [],
   "source": [
    "def subset(data,subset):    \n",
    "    \"\"\"Use some a difined sibset of the specific contacts for plotting.\n",
    "    \n",
    "    Parameter\n",
    "    ---------\n",
    "    data: pandas DataFrame\n",
    "        Occupancy\tReplica\tComplex\tSalt\tModel\tResidue\n",
    "    subset: list of strings\n",
    "        defined the residues to for the output\n",
    "        \n",
    "    Retruns\n",
    "    -------\n",
    "    subset_df: pandas DataFrame\n",
    "        Occupancy,Replica,Complex,Salt,Model,Residue\n",
    "    \"\"\"\n",
    "    \n",
    "    subset_df=data[data.index.isin(subset)]\n",
    "    return(subset_df)"
   ]
  },
  {
   "cell_type": "code",
   "execution_count": 10,
   "metadata": {},
   "outputs": [
    {
     "name": "stdout",
     "output_type": "stream",
     "text": [
      "5\n"
     ]
    },
    {
     "data": {
      "text/plain": [
       "[0       -5.94\n",
       " 1       -6.09\n",
       " 2       -7.29\n",
       " 3       -7.58\n",
       " 4       -7.21\n",
       "         ...  \n",
       " 4973   -15.39\n",
       " 4974   -14.96\n",
       " 4975   -14.96\n",
       " 4976   -15.32\n",
       " 4977   -14.75\n",
       " Name: DH, Length: 2931, dtype: float64,\n",
       " 0       -5.54\n",
       " 1       -5.97\n",
       " 2       -6.24\n",
       " 3       -6.84\n",
       " 4       -6.62\n",
       "         ...  \n",
       " 4995   -16.28\n",
       " 4996   -17.72\n",
       " 4997   -17.04\n",
       " 4998   -17.61\n",
       " 4999   -17.17\n",
       " Name: DH, Length: 4986, dtype: float64,\n",
       " 0      -5.69\n",
       " 1      -5.62\n",
       " 2      -6.06\n",
       " 3      -6.20\n",
       " 4      -6.66\n",
       "        ...  \n",
       " 343    -9.60\n",
       " 349   -11.28\n",
       " 350   -10.27\n",
       " 351   -10.29\n",
       " 352   -10.98\n",
       " Name: DH, Length: 150, dtype: float64,\n",
       " 0       -5.05\n",
       " 1       -4.65\n",
       " 2       -4.85\n",
       " 3       -5.64\n",
       " 4       -5.87\n",
       "         ...  \n",
       " 4995   -14.59\n",
       " 4996   -15.04\n",
       " 4997   -16.02\n",
       " 4998   -15.52\n",
       " 4999   -15.52\n",
       " Name: DH, Length: 4999, dtype: float64,\n",
       " 0       -5.32\n",
       " 1       -5.60\n",
       " 2       -5.54\n",
       " 3       -5.71\n",
       " 4       -6.17\n",
       "         ...  \n",
       " 4902   -16.07\n",
       " 4903   -15.16\n",
       " 4904   -16.40\n",
       " 4998   -15.63\n",
       " 4999   -14.53\n",
       " Name: DH, Length: 1679, dtype: float64]"
      ]
     },
     "execution_count": 10,
     "metadata": {},
     "output_type": "execute_result"
    }
   ],
   "source": [
    "#plot_CG.energy_on_target(FolderSspecific03B_cg,'total')\n",
    "plot_CG.energy_on_target(FolderRspecific03A_cg,'DH')"
   ]
  },
  {
   "cell_type": "code",
   "execution_count": 11,
   "metadata": {},
   "outputs": [],
   "source": [
    "def get_energy_from_CG_file(folder,model,salt,energy_specifier):\n",
    "    \"\"\"Read in the data for displacemnet and energies.\n",
    "    \n",
    "    Parameter\n",
    "    ---------\n",
    "    folder: str\n",
    "        path to input data\n",
    "    model: str\n",
    "        define the model\n",
    "    salt: int\n",
    "        salt concentration\n",
    "    energy_specifier: str\n",
    "        specififes which kind of energy to obtain from the energy output of the simulation\n",
    "        \n",
    "    Retuns\n",
    "    ------\n",
    "    get_energy_from_CG_file: pandas DataFrame\n",
    "        energy,ind,Complex,Salt,DNA\"\"\"\n",
    "    \n",
    "    filesEl = glob.glob(folder+'EbyType*.dat')\n",
    "    \"Get the IDs of the files to compare with the right electrostatics file\"\n",
    "    \"Check for the right ID\"\n",
    "    energy=[]\n",
    "    replica=[]\n",
    "    for i in range(len(filesEl)):\n",
    "        energy.append(read_energy(filesEl[i],energy_specifier)[10000:49999])\n",
    "        replica.append([i+1 for x in energy[i]])\n",
    "    pp=pd.concat([x for x in energy])\n",
    "    replica_=[x for y in replica for x in y]\n",
    "    print((len(pp),len(replica_)))\n",
    "    df_energy_and_details=pd.DataFrame({'energy':pp,'ind':replica_,'Complex':[model for x in pp],\\\n",
    "                                        'Salt':[salt for x in pp],'DNA':['nonspecific' for x in pp]})\n",
    "    return(df_energy_and_details)"
   ]
  },
  {
   "cell_type": "code",
   "execution_count": 12,
   "metadata": {},
   "outputs": [
    {
     "name": "stdout",
     "output_type": "stream",
     "text": [
      "(199995, 199995)\n",
      "(199995, 199995)\n"
     ]
    }
   ],
   "source": [
    "nonspec_S_cg=get_energy_from_CG_file(FolderS03B_cg,'S_',0.03,'total')\n",
    "nonspec_R_cg=get_energy_from_CG_file(FolderR03B_cg,'R_',0.03,'total')\n",
    "#Get the mean total energy for non-specific complexes\n",
    "S_total=nonspec_S_cg.groupby('Salt').mean()\n",
    "R_total=nonspec_R_cg.groupby('Salt').mean()"
   ]
  },
  {
   "cell_type": "code",
   "execution_count": 13,
   "metadata": {},
   "outputs": [],
   "source": [
    "def get_energy_dataframe(folder,comp,salt,energy='DH',start=None,end=None):\n",
    "    \"\"\"Get the energies on the target site for several replica.\n",
    "    \n",
    "    Parameter\n",
    "    ---------\n",
    "    folder: str\n",
    "        path to input data\n",
    "    model: str\n",
    "        define the model\n",
    "    salt: int\n",
    "        salt concentration\n",
    "    energy_specifier: str\n",
    "        specififes which kind of energy to obtain from the energy output of the simulation\n",
    "    \n",
    "    Returns\n",
    "    -------\n",
    "    appended: list of pandas DataFrames\n",
    "        [DH ,ind,Complex,Salt] for each replica\n",
    "    \"\"\"\n",
    "    \n",
    "    replica=plot_CG.energy_on_target(folder,energy)\n",
    "    first=pd.DataFrame(replica[0])\n",
    "    first['ind']=[1 for j in (range(len(replica[0])))]\n",
    "    first['Complex']=[comp for j in (range(len(replica[0])))]\n",
    "    first['Salt']=[salt for j in (range(len(replica[0])))]\n",
    "    for i in range(len(replica)-1):\n",
    "        next_=pd.DataFrame(replica[i+1])\n",
    "        next_['ind']=[i+2 for j in (range(len(next_)))]\n",
    "        next_['Complex']=[comp for j in (range(len(next_)))]\n",
    "        next_['Salt']=[salt for j in (range(len(next_)))]\n",
    "        appended=first.append(next_)\n",
    "        first=appended\n",
    "        \n",
    "    return(appended)"
   ]
  },
  {
   "cell_type": "code",
   "execution_count": 14,
   "metadata": {},
   "outputs": [
    {
     "name": "stdout",
     "output_type": "stream",
     "text": [
      "5\n",
      "5\n",
      "5\n",
      "5\n"
     ]
    },
    {
     "name": "stderr",
     "output_type": "stream",
     "text": [
      "findfont: Font family ['Helvetica'] not found. Falling back to DejaVu Sans.\n",
      "findfont: Font family ['Helvetica'] not found. Falling back to DejaVu Sans.\n"
     ]
    },
    {
     "data": {
      "image/png": "[encoded data removed]",
      "text/plain": [
       "<Figure size 201.6x151.2 with 1 Axes>"
      ]
     },
     "metadata": {
      "needs_background": "light"
     },
     "output_type": "display_data"
    }
   ],
   "source": [
    "#Electrostatics\n",
    "all_comp_CG_DH=[get_energy_dataframe(FolderSspecific03B_cg,'S_','0.03'),\\\n",
    "                get_energy_dataframe(FolderRspecific03B_cg,'R_','0.03'),\\\n",
    "get_energy_dataframe(FolderSspecific03A_cg,'S:','0.03'),\\\n",
    "                get_energy_dataframe(FolderRspecific03A_cg,'R:','0.03')]\n",
    "data_CG_DH=pd.concat([x for x in all_comp_CG_DH])\n",
    "data_CG_DH.replace({'S_':'S\\nstraight','R_':'R\\nstraight',\\\n",
    "                          'S:':'S\\nbent','R:':'R\\nbent',},inplace=True)\n",
    "data_CG_DH['Model']=['CG' for x in range(len(data_CG_DH))]\n",
    "\n",
    "fig, ax = plt.subplots(figsize = (2.8,2.1))\n",
    "data_CG_DH['DH']=-data_CG_DH['DH']\n",
    "\n",
    "sns.barplot(y='DH',x='Complex',data=data_CG_DH,palette=['orange','darkcyan','orange','darkcyan'],ci=\"sd\"\\\n",
    "            ,zorder=5,capsize=0.1)\n",
    "\n",
    "#sns.barplot(y='DH',data=allc_join,x='Complex',linewidth=0.9,hue='Model',palette=\"Set1\",orient=\"v\", capsize=.2)\n",
    "\n",
    "ax.tick_params(\n",
    "\n",
    "        axis='both',          # changes apply to the x-axis\n",
    "        which='both',      # both major and minor ticks are affected\n",
    "        bottom=True,      # ticks along the bottom edge are off\n",
    "        top=False,         # ticks along the top edge are off\n",
    "        labelbottom=True,\n",
    "        right=False, left=True, labelleft=True,\n",
    "        width = 0.5,\n",
    "        length = 3, color='white',direction ='in')\n",
    "plt.ylabel('Energy$_{DH}$ (kcal mol $^{-1}$)',fontsize=10,color='k')\n",
    "#plt.xticks(rotation=38,fontsize=14)\n",
    "plt.yticks([0,5,10,15,20,25],[-0,-5,-10,-15,-20,-25])#,fontsize=14,color='white')\n",
    "plt.legend([],[], frameon=False)\n",
    "sns.despine()\n",
    "plt.tight_layout()\n",
    "\n",
    "plt.savefig(figures_f + 'Fig5/energy_dh',dpi=300,transparent=True)"
   ]
  },
  {
   "cell_type": "code",
   "execution_count": 15,
   "metadata": {},
   "outputs": [
    {
     "name": "stdout",
     "output_type": "stream",
     "text": [
      "5\n",
      "5\n",
      "5\n",
      "5\n"
     ]
    },
    {
     "data": {
      "image/png": "[encoded data removed]",
      "text/plain": [
       "<Figure size 201.6x151.2 with 1 Axes>"
      ]
     },
     "metadata": {
      "needs_background": "light"
     },
     "output_type": "display_data"
    }
   ],
   "source": [
    "#Electrostatics\n",
    "all_comp_CG_DH=[get_energy_dataframe(FolderSspecific02B_cg,'S_','0.02'),\\\n",
    "                get_energy_dataframe(FolderRspecific02B_cg,'R_','0.02'),\\\n",
    "get_energy_dataframe(FolderSspecific02A_cg,'S:','0.02'),\\\n",
    "                get_energy_dataframe(FolderRspecific02A_cg,'R:','0.02')]\n",
    "data_CG_DH=pd.concat([x for x in all_comp_CG_DH])\n",
    "data_CG_DH.replace({'S_':'S\\nstraight','R_':'R\\nstraight',\\\n",
    "                          'S:':'S\\nbent','R:':'R\\nbent',},inplace=True)\n",
    "data_CG_DH['Model']=['CG' for x in range(len(data_CG_DH))]\n",
    "data_CG_DH['DH']=-data_CG_DH['DH']\n",
    "\n",
    "fig, ax = plt.subplots(figsize = (2.8,2.1))\n",
    "sns.barplot(y='DH',x='Complex',data=data_CG_DH,palette=['orange','darkcyan','orange','darkcyan'],ci=\"sd\",\\\n",
    "           zorder=5,capsize=0.1)\n",
    "\n",
    "ax.tick_params(\n",
    "\n",
    "        axis='both',          # changes apply to the x-axis\n",
    "        which='both',      # both major and minor ticks are affected\n",
    "        bottom=True,      # ticks along the bottom edge are off\n",
    "        top=False,         # ticks along the top edge are off\n",
    "        labelbottom=True,\n",
    "        right=False, left=True, labelleft=True,\n",
    "        width = 0.5,\n",
    "        length = 3, color='white',direction ='in')\n",
    "plt.ylabel('Energy$_{DH}$ (kcal mol $^{-1}$)',fontsize=10,color='k')\n",
    "#plt.xticks(rotation=38,fontsize=14)\n",
    "plt.yticks([0,5,10,15,20,25],[-0,-5,-10,-15,-20,-25])#,fontsize=14,color='white')\n",
    "#plt.yticks(fontsize=14,color='white')\n",
    "plt.legend([],[], frameon=False)\n",
    "sns.despine()\n",
    "plt.tight_layout()\n",
    "#plt.ylim(-38,1)\n",
    "plt.savefig(figures_f + 'Fig5/energy_dh_002',dpi=300,transparent=True)"
   ]
  },
  {
   "cell_type": "code",
   "execution_count": 16,
   "metadata": {},
   "outputs": [
    {
     "data": {
      "text/html": [
       "<div>\n",
       "<style scoped>\n",
       "    .dataframe tbody tr th:only-of-type {\n",
       "        vertical-align: middle;\n",
       "    }\n",
       "\n",
       "    .dataframe tbody tr th {\n",
       "        vertical-align: top;\n",
       "    }\n",
       "\n",
       "    .dataframe thead th {\n",
       "        text-align: right;\n",
       "    }\n",
       "</style>\n",
       "<table border=\"1\" class=\"dataframe\">\n",
       "  <thead>\n",
       "    <tr style=\"text-align: right;\">\n",
       "      <th></th>\n",
       "      <th>Occupancy</th>\n",
       "      <th>Replica</th>\n",
       "      <th>Complex</th>\n",
       "      <th>Salt</th>\n",
       "      <th>Model</th>\n",
       "      <th>Residue</th>\n",
       "    </tr>\n",
       "  </thead>\n",
       "  <tbody>\n",
       "    <tr>\n",
       "      <th>Leu6</th>\n",
       "      <td>0.001036</td>\n",
       "      <td>1</td>\n",
       "      <td>S:</td>\n",
       "      <td>0.03</td>\n",
       "      <td>CG</td>\n",
       "      <td>Leu6</td>\n",
       "    </tr>\n",
       "    <tr>\n",
       "      <th>Ser16</th>\n",
       "      <td>0.000000</td>\n",
       "      <td>1</td>\n",
       "      <td>S:</td>\n",
       "      <td>0.03</td>\n",
       "      <td>CG</td>\n",
       "      <td>Ser16</td>\n",
       "    </tr>\n",
       "    <tr>\n",
       "      <th>Tyr17</th>\n",
       "      <td>0.095682</td>\n",
       "      <td>1</td>\n",
       "      <td>S:</td>\n",
       "      <td>0.03</td>\n",
       "      <td>CG</td>\n",
       "      <td>Tyr17</td>\n",
       "    </tr>\n",
       "    <tr>\n",
       "      <th>Thr19</th>\n",
       "      <td>0.004145</td>\n",
       "      <td>1</td>\n",
       "      <td>S:</td>\n",
       "      <td>0.03</td>\n",
       "      <td>CG</td>\n",
       "      <td>Thr19</td>\n",
       "    </tr>\n",
       "    <tr>\n",
       "      <th>Arg22</th>\n",
       "      <td>0.083592</td>\n",
       "      <td>1</td>\n",
       "      <td>S:</td>\n",
       "      <td>0.03</td>\n",
       "      <td>CG</td>\n",
       "      <td>Arg22</td>\n",
       "    </tr>\n",
       "    <tr>\n",
       "      <th>...</th>\n",
       "      <td>...</td>\n",
       "      <td>...</td>\n",
       "      <td>...</td>\n",
       "      <td>...</td>\n",
       "      <td>...</td>\n",
       "      <td>...</td>\n",
       "    </tr>\n",
       "    <tr>\n",
       "      <th>Ser31</th>\n",
       "      <td>0.001115</td>\n",
       "      <td>5</td>\n",
       "      <td>S:</td>\n",
       "      <td>0.03</td>\n",
       "      <td>CG</td>\n",
       "      <td>Ser31</td>\n",
       "    </tr>\n",
       "    <tr>\n",
       "      <th>Thr34</th>\n",
       "      <td>0.000000</td>\n",
       "      <td>5</td>\n",
       "      <td>S:</td>\n",
       "      <td>0.03</td>\n",
       "      <td>CG</td>\n",
       "      <td>Thr34</td>\n",
       "    </tr>\n",
       "    <tr>\n",
       "      <th>Tyr47</th>\n",
       "      <td>0.000000</td>\n",
       "      <td>5</td>\n",
       "      <td>S:</td>\n",
       "      <td>0.03</td>\n",
       "      <td>CG</td>\n",
       "      <td>Tyr47</td>\n",
       "    </tr>\n",
       "    <tr>\n",
       "      <th>Asn50</th>\n",
       "      <td>0.000000</td>\n",
       "      <td>5</td>\n",
       "      <td>S:</td>\n",
       "      <td>0.03</td>\n",
       "      <td>CG</td>\n",
       "      <td>Asn50</td>\n",
       "    </tr>\n",
       "    <tr>\n",
       "      <th>Gln54</th>\n",
       "      <td>0.000000</td>\n",
       "      <td>5</td>\n",
       "      <td>S:</td>\n",
       "      <td>0.03</td>\n",
       "      <td>CG</td>\n",
       "      <td>Gln54</td>\n",
       "    </tr>\n",
       "  </tbody>\n",
       "</table>\n",
       "<p>110 rows × 6 columns</p>\n",
       "</div>"
      ],
      "text/plain": [
       "       Occupancy  Replica Complex  Salt Model Residue\n",
       "Leu6    0.001036        1      S:  0.03    CG    Leu6\n",
       "Ser16   0.000000        1      S:  0.03    CG   Ser16\n",
       "Tyr17   0.095682        1      S:  0.03    CG   Tyr17\n",
       "Thr19   0.004145        1      S:  0.03    CG   Thr19\n",
       "Arg22   0.083592        1      S:  0.03    CG   Arg22\n",
       "...          ...      ...     ...   ...   ...     ...\n",
       "Ser31   0.001115        5      S:  0.03    CG   Ser31\n",
       "Thr34   0.000000        5      S:  0.03    CG   Thr34\n",
       "Tyr47   0.000000        5      S:  0.03    CG   Tyr47\n",
       "Asn50   0.000000        5      S:  0.03    CG   Asn50\n",
       "Gln54   0.000000        5      S:  0.03    CG   Gln54\n",
       "\n",
       "[110 rows x 6 columns]"
      ]
     },
     "execution_count": 16,
     "metadata": {},
     "output_type": "execute_result"
    }
   ],
   "source": [
    "plot_CG.contacts_on_target(FolderSspecific03A_cg,'S:','0.03','CG')[1]"
   ]
  },
  {
   "cell_type": "code",
   "execution_count": 17,
   "metadata": {},
   "outputs": [],
   "source": [
    "occ_R01=plot_CG.contacts_on_target(FolderRspecific01A_cg,'R:','0.01','CG', replica=3)[1]"
   ]
  },
  {
   "cell_type": "code",
   "execution_count": 18,
   "metadata": {},
   "outputs": [
    {
     "data": {
      "text/html": [
       "<div>\n",
       "<style scoped>\n",
       "    .dataframe tbody tr th:only-of-type {\n",
       "        vertical-align: middle;\n",
       "    }\n",
       "\n",
       "    .dataframe tbody tr th {\n",
       "        vertical-align: top;\n",
       "    }\n",
       "\n",
       "    .dataframe thead th {\n",
       "        text-align: right;\n",
       "    }\n",
       "</style>\n",
       "<table border=\"1\" class=\"dataframe\">\n",
       "  <thead>\n",
       "    <tr style=\"text-align: right;\">\n",
       "      <th></th>\n",
       "      <th>Occupancy</th>\n",
       "      <th>Replica</th>\n",
       "      <th>Complex</th>\n",
       "      <th>Salt</th>\n",
       "      <th>Model</th>\n",
       "      <th>Residue</th>\n",
       "    </tr>\n",
       "  </thead>\n",
       "  <tbody>\n",
       "    <tr>\n",
       "      <th>Leu6</th>\n",
       "      <td>0.8388</td>\n",
       "      <td>1</td>\n",
       "      <td>R:</td>\n",
       "      <td>0.01</td>\n",
       "      <td>CG</td>\n",
       "      <td>Leu6</td>\n",
       "    </tr>\n",
       "    <tr>\n",
       "      <th>Ser16</th>\n",
       "      <td>0.4480</td>\n",
       "      <td>1</td>\n",
       "      <td>R:</td>\n",
       "      <td>0.01</td>\n",
       "      <td>CG</td>\n",
       "      <td>Ser16</td>\n",
       "    </tr>\n",
       "    <tr>\n",
       "      <th>Tyr17</th>\n",
       "      <td>0.5090</td>\n",
       "      <td>1</td>\n",
       "      <td>R:</td>\n",
       "      <td>0.01</td>\n",
       "      <td>CG</td>\n",
       "      <td>Tyr17</td>\n",
       "    </tr>\n",
       "    <tr>\n",
       "      <th>Thr19</th>\n",
       "      <td>0.5862</td>\n",
       "      <td>1</td>\n",
       "      <td>R:</td>\n",
       "      <td>0.01</td>\n",
       "      <td>CG</td>\n",
       "      <td>Thr19</td>\n",
       "    </tr>\n",
       "    <tr>\n",
       "      <th>Arg22</th>\n",
       "      <td>0.8166</td>\n",
       "      <td>1</td>\n",
       "      <td>R:</td>\n",
       "      <td>0.01</td>\n",
       "      <td>CG</td>\n",
       "      <td>Arg22</td>\n",
       "    </tr>\n",
       "    <tr>\n",
       "      <th>...</th>\n",
       "      <td>...</td>\n",
       "      <td>...</td>\n",
       "      <td>...</td>\n",
       "      <td>...</td>\n",
       "      <td>...</td>\n",
       "      <td>...</td>\n",
       "    </tr>\n",
       "    <tr>\n",
       "      <th>Ser31</th>\n",
       "      <td>0.4414</td>\n",
       "      <td>3</td>\n",
       "      <td>R:</td>\n",
       "      <td>0.01</td>\n",
       "      <td>CG</td>\n",
       "      <td>Ser31</td>\n",
       "    </tr>\n",
       "    <tr>\n",
       "      <th>Thr34</th>\n",
       "      <td>0.4238</td>\n",
       "      <td>3</td>\n",
       "      <td>R:</td>\n",
       "      <td>0.01</td>\n",
       "      <td>CG</td>\n",
       "      <td>Thr34</td>\n",
       "    </tr>\n",
       "    <tr>\n",
       "      <th>Tyr47</th>\n",
       "      <td>0.8202</td>\n",
       "      <td>3</td>\n",
       "      <td>R:</td>\n",
       "      <td>0.01</td>\n",
       "      <td>CG</td>\n",
       "      <td>Tyr47</td>\n",
       "    </tr>\n",
       "    <tr>\n",
       "      <th>Asn50</th>\n",
       "      <td>0.4664</td>\n",
       "      <td>3</td>\n",
       "      <td>R:</td>\n",
       "      <td>0.01</td>\n",
       "      <td>CG</td>\n",
       "      <td>Asn50</td>\n",
       "    </tr>\n",
       "    <tr>\n",
       "      <th>Gln54</th>\n",
       "      <td>0.6646</td>\n",
       "      <td>3</td>\n",
       "      <td>R:</td>\n",
       "      <td>0.01</td>\n",
       "      <td>CG</td>\n",
       "      <td>Gln54</td>\n",
       "    </tr>\n",
       "  </tbody>\n",
       "</table>\n",
       "<p>66 rows × 6 columns</p>\n",
       "</div>"
      ],
      "text/plain": [
       "       Occupancy  Replica Complex  Salt Model Residue\n",
       "Leu6      0.8388        1      R:  0.01    CG    Leu6\n",
       "Ser16     0.4480        1      R:  0.01    CG   Ser16\n",
       "Tyr17     0.5090        1      R:  0.01    CG   Tyr17\n",
       "Thr19     0.5862        1      R:  0.01    CG   Thr19\n",
       "Arg22     0.8166        1      R:  0.01    CG   Arg22\n",
       "...          ...      ...     ...   ...   ...     ...\n",
       "Ser31     0.4414        3      R:  0.01    CG   Ser31\n",
       "Thr34     0.4238        3      R:  0.01    CG   Thr34\n",
       "Tyr47     0.8202        3      R:  0.01    CG   Tyr47\n",
       "Asn50     0.4664        3      R:  0.01    CG   Asn50\n",
       "Gln54     0.6646        3      R:  0.01    CG   Gln54\n",
       "\n",
       "[66 rows x 6 columns]"
      ]
     },
     "execution_count": 18,
     "metadata": {},
     "output_type": "execute_result"
    }
   ],
   "source": [
    "occ_R01"
   ]
  },
  {
   "cell_type": "code",
   "execution_count": 19,
   "metadata": {},
   "outputs": [
    {
     "data": {
      "image/png": "[encoded data removed]",
      "text/plain": [
       "<Figure size 403.2x151.2 with 1 Axes>"
      ]
     },
     "metadata": {
      "needs_background": "light"
     },
     "output_type": "display_data"
    }
   ],
   "source": [
    "fig, ax = plt.subplots(figsize = (5.6,2.1))\n",
    "sns.barplot(x='Residue',y='Occupancy',data=subset(occ_R01,all_p),palette=['darkcyan'],ci=\"sd\")\n",
    "\n",
    "\n",
    "ax.tick_params(\n",
    "        axis='both',          # changes apply to the x-axis\n",
    "        which='both',      # both major and minor ticks are affected\n",
    "        bottom=True,      # ticks along the bottom edge are off\n",
    "        top=False,         # ticks along the top edge are off\n",
    "        labelbottom=True,\n",
    "        right=False, left=True, labelleft=True,\n",
    "        width = 0.5,\n",
    "        length = 3, color='k',direction ='in')\n",
    "sns.despine()\n",
    "plt.legend([],[], frameon=False)\n",
    "plt.tight_layout()\n",
    "plt.savefig(figures_f + 'Fig5/CG_Con-specific_split.png',dpi=300,bbox_inches='tight', transparent=True)     "
   ]
  },
  {
   "cell_type": "code",
   "execution_count": 20,
   "metadata": {},
   "outputs": [
    {
     "data": {
      "image/png": "[encoded data removed]",
      "text/plain": [
       "<Figure size 201.6x151.2 with 1 Axes>"
      ]
     },
     "metadata": {
      "needs_background": "light"
     },
     "output_type": "display_data"
    }
   ],
   "source": [
    "tt_RA=plot_CG.contacts_on_target(FolderRspecific03A_cg,'R:','0.03','CG')[1]\n",
    "tt_SA=plot_CG.contacts_on_target(FolderSspecific03A_cg,'S:','0.03','CG')[1]\n",
    "tt_SB=plot_CG.contacts_on_target(FolderSspecific03B_cg,'S_','0.03','CG')[1]\n",
    "tt_RB=plot_CG.contacts_on_target(FolderRspecific03B_cg,'R_','0.03','CG')[1]\n",
    "tt_SA.replace({np.inf:0},inplace=True)\n",
    "tt_SB.replace({np.inf:0},inplace=True)\n",
    "tt_RA.replace({np.inf:0},inplace=True)\n",
    "tt_RB.replace({np.inf:0},inplace=True)\n",
    "tt=pd.concat([tt_SB,tt_RB,tt_SA,tt_RA])\n",
    "tt.replace({'S_':'S\\nstraight','R_':'R\\nstraight',\\\n",
    "                          'S:':'S\\nbent','R:':'R\\nbent',},inplace=True)\n",
    "fig, ax = plt.subplots(figsize = (2.8,2.1))\n",
    "\n",
    "sns.barplot(x='Complex',y='Occupancy',data=subset(tt,all_p),\\\n",
    "            palette=['orange','darkcyan','orange','darkcyan'],ci=\"sd\",zorder=5,capsize=0.1)\n",
    "\n",
    "ax.tick_params(\n",
    "        axis='both',          # changes apply to the x-axis\n",
    "        which='both',      # both major and minor ticks are affected\n",
    "        bottom=True,      # ticks along the bottom edge are off\n",
    "        top=False,         # ticks along the top edge are off\n",
    "        labelbottom=True,\n",
    "        right=False, left=True, labelleft=True,\n",
    "        width = 0.5,\n",
    "        length = 3, color='k',direction ='in')\n",
    "\n",
    "sns.despine()\n",
    "plt.legend([],[], frameon=False)\n",
    "\n",
    "plt.ylabel('Occupancy$_{bonded}$')\n",
    "plt.ylim([-0.0,0.8])\n",
    "plt.legend([],[], frameon=False)\n",
    "plt.tight_layout()\n",
    "plt.savefig(figures_f + 'Fig5/CG_Con-2.png',dpi=300,bbox_inches='tight', transparent=True)              "
   ]
  },
  {
   "cell_type": "code",
   "execution_count": 21,
   "metadata": {},
   "outputs": [
    {
     "data": {
      "image/png": "[encoded data removed]",
      "text/plain": [
       "<Figure size 403.2x151.2 with 1 Axes>"
      ]
     },
     "metadata": {
      "needs_background": "light"
     },
     "output_type": "display_data"
    }
   ],
   "source": [
    "fig, ax = plt.subplots(figsize = (5.6,2.1))\n",
    "\n",
    "sns.barplot(y='Occupancy',data=tt,x='Residue',linewidth=0.9,hue='Complex',palette=['orange','darkcyan','orange','darkcyan'],ci=\"sd\")\n",
    "ax.tick_params(\n",
    "        axis='both',          # changes apply to the x-axis\n",
    "        which='both',      # both major and minor ticks are affected\n",
    "        bottom=True,      # ticks along the bottom edge are off\n",
    "        top=False,         # ticks along the top edge are off\n",
    "        labelbottom=True,\n",
    "        right=False, left=True, labelleft=True,\n",
    "        width = 0.5,\n",
    "        length = 3, color='k',direction ='in')\n",
    "sns.despine()\n",
    "plt.legend([],[], frameon=False)\n",
    "plt.tight_layout()\n",
    "plt.savefig(figures_f + 'Fig5/CG_Con-003_split.png',dpi=300,bbox_inches='tight', transparent=True)      "
   ]
  },
  {
   "cell_type": "code",
   "execution_count": 22,
   "metadata": {},
   "outputs": [
    {
     "data": {
      "image/png": "[encoded data removed]",
      "text/plain": [
       "<Figure size 201.6x151.2 with 1 Axes>"
      ]
     },
     "metadata": {
      "needs_background": "light"
     },
     "output_type": "display_data"
    }
   ],
   "source": [
    "tt_RA=plot_CG.contacts_on_target(FolderRspecific02A_cg,'R:','0.02','CG')[1]\n",
    "tt_SA=plot_CG.contacts_on_target(FolderSspecific02A_cg,'S:','0.02','CG')[1]\n",
    "tt_SB=plot_CG.contacts_on_target(FolderSspecific02B_cg,'S_','0.02','CG')[1]\n",
    "tt_RB=plot_CG.contacts_on_target(FolderRspecific02B_cg,'R_','0.02','CG')[1]\n",
    "tt_SA.replace({np.inf:0},inplace=True)\n",
    "tt_SB.replace({np.inf:0},inplace=True)\n",
    "tt_RA.replace({np.inf:0},inplace=True)\n",
    "tt_RB.replace({np.inf:0},inplace=True)\n",
    "tt=pd.concat([tt_SB,tt_RB,tt_SA,tt_RA])\n",
    "tt.replace({'S_':'S\\nstraight','R_':'R\\nstraight',\\\n",
    "                          'S:':'S\\nbent','R:':'R\\nbent',},inplace=True)\n",
    "\n",
    "fig, ax = plt.subplots(figsize = (2.8,2.1))\n",
    "\n",
    "sns.barplot(x='Complex',y='Occupancy',data=subset(tt,all_p),\\\n",
    "            palette=['orange','darkcyan','orange','darkcyan'],ci=\"sd\",zorder=5,capsize=0.1)\n",
    "\n",
    "ax.tick_params(\n",
    "        axis='both',          # changes apply to the x-axis\n",
    "        which='both',      # both major and minor ticks are affected\n",
    "        bottom=True,      # ticks along the bottom edge are off\n",
    "        top=False,         # ticks along the top edge are off\n",
    "        labelbottom=True,\n",
    "        right=False, left=True, labelleft=True,\n",
    "        width = 0.5,\n",
    "        length = 3, color='k',direction ='in')\n",
    "plt.ylim([-0.0,0.8])\n",
    "\n",
    "sns.despine()\n",
    "plt.legend([],[], frameon=False)\n",
    "\n",
    "plt.ylabel('Occupancy$_{bonded}$')\n",
    "\n",
    "plt.legend([],[], frameon=False)\n",
    "plt.tight_layout()\n",
    "plt.savefig(figures_f + 'Fig5/CG_Con-2_002.pdf',dpi=400,bbox_inches='tight', transparent=True)  "
   ]
  },
  {
   "cell_type": "code",
   "execution_count": 23,
   "metadata": {},
   "outputs": [
    {
     "data": {
      "text/plain": [
       "<matplotlib.legend.Legend at 0x2b742600bbe0>"
      ]
     },
     "execution_count": 23,
     "metadata": {},
     "output_type": "execute_result"
    },
    {
     "data": {
      "image/png": "[encoded data removed]",
      "text/plain": [
       "<Figure size 432x288 with 1 Axes>"
      ]
     },
     "metadata": {
      "needs_background": "light"
     },
     "output_type": "display_data"
    }
   ],
   "source": [
    "tb=pd.concat([tt_SB,tt_RA])\n",
    "tb.replace({'S_':'S\\nstraight','R:':'R\\nbent',},inplace=True)\n",
    "sns.barplot(y='Occupancy',data=tb,x='Residue',linewidth=0.9,hue='Complex',palette=['orange','darkcyan','orange','darkcyan'],ci=\"sd\")\n",
    "ax.tick_params(\n",
    "        axis='both',          # changes apply to the x-axis\n",
    "        which='both',      # both major and minor ticks are affected\n",
    "        bottom=True,      # ticks along the bottom edge are off\n",
    "        top=False,         # ticks along the top edge are off\n",
    "        labelbottom=True,\n",
    "        right=False, left=True, labelleft=True,\n",
    "        width = 0.5,\n",
    "        length = 3, color='k',direction ='in')\n",
    "sns.despine()\n",
    "plt.legend([],[], frameon=False)"
   ]
  },
  {
   "cell_type": "code",
   "execution_count": 24,
   "metadata": {},
   "outputs": [
    {
     "data": {
      "image/png": "[encoded data removed]",
      "text/plain": [
       "<Figure size 403.2x151.2 with 1 Axes>"
      ]
     },
     "metadata": {
      "needs_background": "light"
     },
     "output_type": "display_data"
    }
   ],
   "source": [
    "fig, ax = plt.subplots(figsize = (5.6,2.1))\n",
    "\n",
    "sns.barplot(y='Occupancy',data=tt,x='Residue',linewidth=0.9,hue='Complex',palette=['orange','darkcyan','orange','darkcyan'],ci=\"sd\")\n",
    "ax.tick_params(\n",
    "        axis='both',          # changes apply to the x-axis\n",
    "        which='both',      # both major and minor ticks are affected\n",
    "        bottom=True,      # ticks along the bottom edge are off\n",
    "        top=False,         # ticks along the top edge are off\n",
    "        labelbottom=True,\n",
    "        right=False, left=True, labelleft=True,\n",
    "        width = 0.5,\n",
    "        length = 3, color='k',direction ='in')\n",
    "sns.despine()\n",
    "plt.legend([],[], frameon=False)\n",
    "plt.tight_layout()\n",
    "plt.savefig(figures_f + 'Fig5/CG_Con-002_split.pdf',dpi=400,bbox_inches='tight', transparent=True)              "
   ]
  },
  {
   "cell_type": "code",
   "execution_count": 25,
   "metadata": {},
   "outputs": [
    {
     "data": {
      "text/plain": [
       "<AxesSubplot:xlabel='Residue', ylabel='Occupancy'>"
      ]
     },
     "execution_count": 25,
     "metadata": {},
     "output_type": "execute_result"
    },
    {
     "data": {
      "image/png": "[encoded data removed]",
      "text/plain": [
       "<Figure size 432x288 with 1 Axes>"
      ]
     },
     "metadata": {
      "needs_background": "light"
     },
     "output_type": "display_data"
    }
   ],
   "source": [
    "sns.boxplot(y='Occupancy',data=tt,x='Residue',linewidth=0.9,hue='Complex',palette=['orange','cyan','gold','darkcyan'])\n"
   ]
  },
  {
   "cell_type": "code",
   "execution_count": null,
   "metadata": {},
   "outputs": [],
   "source": []
  }
 ],
 "metadata": {
  "kernelspec": {
   "display_name": "Python 3 (ipykernel)",
   "language": "python",
   "name": "python3"
  },
  "language_info": {
   "codemirror_mode": {
    "name": "ipython",
    "version": 3
   },
   "file_extension": ".py",
   "mimetype": "text/x-python",
   "name": "python",
   "nbconvert_exporter": "python",
   "pygments_lexer": "ipython3",
   "version": "3.7.0"
  }
 },
 "nbformat": 4,
 "nbformat_minor": 4
}
